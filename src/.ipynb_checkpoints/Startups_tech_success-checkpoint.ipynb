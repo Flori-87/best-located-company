{
 "cells": [
  {
   "cell_type": "code",
   "execution_count": 61,
   "metadata": {},
   "outputs": [],
   "source": [
    "import requests\n",
    "import pandas as pd\n",
    "from pymongo import MongoClient\n",
    "from pymongo import ASCENDING, DESCENDING\n",
    "from bson.json_util import dumps\n",
    "import re"
   ]
  },
  {
   "cell_type": "code",
   "execution_count": 62,
   "metadata": {},
   "outputs": [],
   "source": [
    "client = MongoClient(\"mongodb://localhost/datamad0320\")\n",
    "db = client.get_database()"
   ]
  },
  {
   "cell_type": "code",
   "execution_count": 63,
   "metadata": {},
   "outputs": [],
   "source": [
    "# Voy a selecconar los datos que me interesan para buscar startups de tech con más de $1M de cantidad alcanzada \n",
    "all_companies = db.companies.find({},{\"name\":1,\"offices\":1,\"total_money_raised\":1,\"number_of_employees\":1,\n",
    "                                   \"founded_year\":1,\"category_code\":1})"
   ]
  },
  {
   "cell_type": "code",
   "execution_count": 64,
   "metadata": {},
   "outputs": [
    {
     "data": {
      "text/html": [
       "<div>\n",
       "<style scoped>\n",
       "    .dataframe tbody tr th:only-of-type {\n",
       "        vertical-align: middle;\n",
       "    }\n",
       "\n",
       "    .dataframe tbody tr th {\n",
       "        vertical-align: top;\n",
       "    }\n",
       "\n",
       "    .dataframe thead th {\n",
       "        text-align: right;\n",
       "    }\n",
       "</style>\n",
       "<table border=\"1\" class=\"dataframe\">\n",
       "  <thead>\n",
       "    <tr style=\"text-align: right;\">\n",
       "      <th></th>\n",
       "      <th>_id</th>\n",
       "      <th>name</th>\n",
       "      <th>category_code</th>\n",
       "      <th>number_of_employees</th>\n",
       "      <th>founded_year</th>\n",
       "      <th>total_money_raised</th>\n",
       "      <th>offices</th>\n",
       "    </tr>\n",
       "  </thead>\n",
       "  <tbody>\n",
       "    <tr>\n",
       "      <th>0</th>\n",
       "      <td>52cdef7c4bab8bd675297d8b</td>\n",
       "      <td>AdventNet</td>\n",
       "      <td>enterprise</td>\n",
       "      <td>600.0</td>\n",
       "      <td>1996.0</td>\n",
       "      <td>$0</td>\n",
       "      <td>[{'description': 'Headquarters', 'address1': '...</td>\n",
       "    </tr>\n",
       "    <tr>\n",
       "      <th>1</th>\n",
       "      <td>52cdef7c4bab8bd675297d92</td>\n",
       "      <td>Flektor</td>\n",
       "      <td>games_video</td>\n",
       "      <td>NaN</td>\n",
       "      <td>NaN</td>\n",
       "      <td>$0</td>\n",
       "      <td>[{'description': None, 'address1': '8536 Natio...</td>\n",
       "    </tr>\n",
       "    <tr>\n",
       "      <th>2</th>\n",
       "      <td>52cdef7c4bab8bd675297d8c</td>\n",
       "      <td>Zoho</td>\n",
       "      <td>software</td>\n",
       "      <td>1600.0</td>\n",
       "      <td>2005.0</td>\n",
       "      <td>$0</td>\n",
       "      <td>[{'description': 'Headquarters', 'address1': '...</td>\n",
       "    </tr>\n",
       "    <tr>\n",
       "      <th>3</th>\n",
       "      <td>52cdef7c4bab8bd675297d8a</td>\n",
       "      <td>Wetpaint</td>\n",
       "      <td>web</td>\n",
       "      <td>47.0</td>\n",
       "      <td>2005.0</td>\n",
       "      <td>$39.8M</td>\n",
       "      <td>[{'description': '', 'address1': '710 - 2nd Av...</td>\n",
       "    </tr>\n",
       "    <tr>\n",
       "      <th>4</th>\n",
       "      <td>52cdef7c4bab8bd675297d93</td>\n",
       "      <td>Fox Interactive Media</td>\n",
       "      <td>web</td>\n",
       "      <td>0.0</td>\n",
       "      <td>1979.0</td>\n",
       "      <td>$0</td>\n",
       "      <td>[{'description': '', 'address1': '407 N Maple ...</td>\n",
       "    </tr>\n",
       "  </tbody>\n",
       "</table>\n",
       "</div>"
      ],
      "text/plain": [
       "                        _id                   name category_code  \\\n",
       "0  52cdef7c4bab8bd675297d8b              AdventNet    enterprise   \n",
       "1  52cdef7c4bab8bd675297d92                Flektor   games_video   \n",
       "2  52cdef7c4bab8bd675297d8c                   Zoho      software   \n",
       "3  52cdef7c4bab8bd675297d8a               Wetpaint           web   \n",
       "4  52cdef7c4bab8bd675297d93  Fox Interactive Media           web   \n",
       "\n",
       "   number_of_employees  founded_year total_money_raised  \\\n",
       "0                600.0        1996.0                 $0   \n",
       "1                  NaN           NaN                 $0   \n",
       "2               1600.0        2005.0                 $0   \n",
       "3                 47.0        2005.0             $39.8M   \n",
       "4                  0.0        1979.0                 $0   \n",
       "\n",
       "                                             offices  \n",
       "0  [{'description': 'Headquarters', 'address1': '...  \n",
       "1  [{'description': None, 'address1': '8536 Natio...  \n",
       "2  [{'description': 'Headquarters', 'address1': '...  \n",
       "3  [{'description': '', 'address1': '710 - 2nd Av...  \n",
       "4  [{'description': '', 'address1': '407 N Maple ...  "
      ]
     },
     "metadata": {},
     "output_type": "display_data"
    },
    {
     "data": {
      "text/plain": [
       "(18801, 7)"
      ]
     },
     "metadata": {},
     "output_type": "display_data"
    }
   ],
   "source": [
    "df = pd.DataFrame(all_companies)\n",
    "display(df.head(),df.shape)"
   ]
  },
  {
   "cell_type": "code",
   "execution_count": 65,
   "metadata": {},
   "outputs": [
    {
     "name": "stderr",
     "output_type": "stream",
     "text": [
      "/home/flori/.local/lib/python3.7/site-packages/pandas/core/indexing.py:671: SettingWithCopyWarning: \n",
      "A value is trying to be set on a copy of a slice from a DataFrame\n",
      "\n",
      "See the caveats in the documentation: https://pandas.pydata.org/pandas-docs/stable/user_guide/indexing.html#returning-a-view-versus-a-copy\n",
      "  self._setitem_with_indexer(indexer, value)\n"
     ]
    }
   ],
   "source": [
    "# convierto los id en formato json para que al guardarlos en formato json no me den problema después\n",
    "for i in range(len(df[\"_id\"])):\n",
    "    df[\"_id\"].iloc[i] = dumps(df[\"_id\"].iloc[i])"
   ]
  },
  {
   "cell_type": "code",
   "execution_count": 66,
   "metadata": {},
   "outputs": [
    {
     "data": {
      "text/html": [
       "<div>\n",
       "<style scoped>\n",
       "    .dataframe tbody tr th:only-of-type {\n",
       "        vertical-align: middle;\n",
       "    }\n",
       "\n",
       "    .dataframe tbody tr th {\n",
       "        vertical-align: top;\n",
       "    }\n",
       "\n",
       "    .dataframe thead th {\n",
       "        text-align: right;\n",
       "    }\n",
       "</style>\n",
       "<table border=\"1\" class=\"dataframe\">\n",
       "  <thead>\n",
       "    <tr style=\"text-align: right;\">\n",
       "      <th></th>\n",
       "      <th>_id</th>\n",
       "      <th>name</th>\n",
       "      <th>category_code</th>\n",
       "      <th>number_of_employees</th>\n",
       "      <th>founded_year</th>\n",
       "      <th>total_money_raised</th>\n",
       "      <th>offices</th>\n",
       "    </tr>\n",
       "  </thead>\n",
       "  <tbody>\n",
       "    <tr>\n",
       "      <th>0</th>\n",
       "      <td>{\"$oid\": \"52cdef7c4bab8bd675297d8b\"}</td>\n",
       "      <td>AdventNet</td>\n",
       "      <td>enterprise</td>\n",
       "      <td>600.0</td>\n",
       "      <td>1996.0</td>\n",
       "      <td>$0</td>\n",
       "      <td>{'description': 'Headquarters', 'address1': '4...</td>\n",
       "    </tr>\n",
       "    <tr>\n",
       "      <th>1</th>\n",
       "      <td>{\"$oid\": \"52cdef7c4bab8bd675297d92\"}</td>\n",
       "      <td>Flektor</td>\n",
       "      <td>games_video</td>\n",
       "      <td>NaN</td>\n",
       "      <td>NaN</td>\n",
       "      <td>$0</td>\n",
       "      <td>{'description': None, 'address1': '8536 Nation...</td>\n",
       "    </tr>\n",
       "    <tr>\n",
       "      <th>2</th>\n",
       "      <td>{\"$oid\": \"52cdef7c4bab8bd675297d8c\"}</td>\n",
       "      <td>Zoho</td>\n",
       "      <td>software</td>\n",
       "      <td>1600.0</td>\n",
       "      <td>2005.0</td>\n",
       "      <td>$0</td>\n",
       "      <td>{'description': 'Headquarters', 'address1': '4...</td>\n",
       "    </tr>\n",
       "    <tr>\n",
       "      <th>3</th>\n",
       "      <td>{\"$oid\": \"52cdef7c4bab8bd675297d8a\"}</td>\n",
       "      <td>Wetpaint</td>\n",
       "      <td>web</td>\n",
       "      <td>47.0</td>\n",
       "      <td>2005.0</td>\n",
       "      <td>$39.8M</td>\n",
       "      <td>{'description': '', 'address1': '710 - 2nd Ave...</td>\n",
       "    </tr>\n",
       "    <tr>\n",
       "      <th>3</th>\n",
       "      <td>{\"$oid\": \"52cdef7c4bab8bd675297d8a\"}</td>\n",
       "      <td>Wetpaint</td>\n",
       "      <td>web</td>\n",
       "      <td>47.0</td>\n",
       "      <td>2005.0</td>\n",
       "      <td>$39.8M</td>\n",
       "      <td>{'description': '', 'address1': '270 Lafayette...</td>\n",
       "    </tr>\n",
       "  </tbody>\n",
       "</table>\n",
       "</div>"
      ],
      "text/plain": [
       "                                    _id       name category_code  \\\n",
       "0  {\"$oid\": \"52cdef7c4bab8bd675297d8b\"}  AdventNet    enterprise   \n",
       "1  {\"$oid\": \"52cdef7c4bab8bd675297d92\"}    Flektor   games_video   \n",
       "2  {\"$oid\": \"52cdef7c4bab8bd675297d8c\"}       Zoho      software   \n",
       "3  {\"$oid\": \"52cdef7c4bab8bd675297d8a\"}   Wetpaint           web   \n",
       "3  {\"$oid\": \"52cdef7c4bab8bd675297d8a\"}   Wetpaint           web   \n",
       "\n",
       "   number_of_employees  founded_year total_money_raised  \\\n",
       "0                600.0        1996.0                 $0   \n",
       "1                  NaN           NaN                 $0   \n",
       "2               1600.0        2005.0                 $0   \n",
       "3                 47.0        2005.0             $39.8M   \n",
       "3                 47.0        2005.0             $39.8M   \n",
       "\n",
       "                                             offices  \n",
       "0  {'description': 'Headquarters', 'address1': '4...  \n",
       "1  {'description': None, 'address1': '8536 Nation...  \n",
       "2  {'description': 'Headquarters', 'address1': '4...  \n",
       "3  {'description': '', 'address1': '710 - 2nd Ave...  \n",
       "3  {'description': '', 'address1': '270 Lafayette...  "
      ]
     },
     "metadata": {},
     "output_type": "display_data"
    },
    {
     "data": {
      "text/plain": [
       "(21762, 7)"
      ]
     },
     "metadata": {},
     "output_type": "display_data"
    }
   ],
   "source": [
    "# separar los objetos de las listas offices\n",
    "df = df.explode(\"offices\")\n",
    "display(df.head(),df.shape)"
   ]
  },
  {
   "cell_type": "code",
   "execution_count": 67,
   "metadata": {},
   "outputs": [
    {
     "data": {
      "text/html": [
       "<div>\n",
       "<style scoped>\n",
       "    .dataframe tbody tr th:only-of-type {\n",
       "        vertical-align: middle;\n",
       "    }\n",
       "\n",
       "    .dataframe tbody tr th {\n",
       "        vertical-align: top;\n",
       "    }\n",
       "\n",
       "    .dataframe thead th {\n",
       "        text-align: right;\n",
       "    }\n",
       "</style>\n",
       "<table border=\"1\" class=\"dataframe\">\n",
       "  <thead>\n",
       "    <tr style=\"text-align: right;\">\n",
       "      <th></th>\n",
       "      <th>city</th>\n",
       "    </tr>\n",
       "  </thead>\n",
       "  <tbody>\n",
       "    <tr>\n",
       "      <th>0</th>\n",
       "      <td>Pleasanton</td>\n",
       "    </tr>\n",
       "    <tr>\n",
       "      <th>1</th>\n",
       "      <td>Culver City</td>\n",
       "    </tr>\n",
       "    <tr>\n",
       "      <th>2</th>\n",
       "      <td>Pleasanton</td>\n",
       "    </tr>\n",
       "    <tr>\n",
       "      <th>3</th>\n",
       "      <td>Seattle</td>\n",
       "    </tr>\n",
       "    <tr>\n",
       "      <th>3</th>\n",
       "      <td>New York</td>\n",
       "    </tr>\n",
       "  </tbody>\n",
       "</table>\n",
       "</div>"
      ],
      "text/plain": [
       "          city\n",
       "0   Pleasanton\n",
       "1  Culver City\n",
       "2   Pleasanton\n",
       "3      Seattle\n",
       "3     New York"
      ]
     },
     "execution_count": 67,
     "metadata": {},
     "output_type": "execute_result"
    }
   ],
   "source": [
    "#función para obtener los datos de ciudad donde se encuentran las oficinas\n",
    "def getCity(row):\n",
    "    of=row.offices\n",
    "    if type(of) == dict:\n",
    "        if \"city\" in of:\n",
    "            if of[\"city\"]:\n",
    "                return of[\"city\"]\n",
    "            else:\n",
    "                return \"NoCity\"\n",
    "        else:\n",
    "            return None\n",
    "    else:\n",
    "        return \"NoOffice\"\n",
    "\n",
    "city = pd.DataFrame(df.apply(getCity, axis=1))\n",
    "city.columns=[\"city\"]\n",
    "city.head()"
   ]
  },
  {
   "cell_type": "code",
   "execution_count": 68,
   "metadata": {},
   "outputs": [
    {
     "data": {
      "text/html": [
       "<div>\n",
       "<style scoped>\n",
       "    .dataframe tbody tr th:only-of-type {\n",
       "        vertical-align: middle;\n",
       "    }\n",
       "\n",
       "    .dataframe tbody tr th {\n",
       "        vertical-align: top;\n",
       "    }\n",
       "\n",
       "    .dataframe thead th {\n",
       "        text-align: right;\n",
       "    }\n",
       "</style>\n",
       "<table border=\"1\" class=\"dataframe\">\n",
       "  <thead>\n",
       "    <tr style=\"text-align: right;\">\n",
       "      <th></th>\n",
       "      <th>_id</th>\n",
       "      <th>name</th>\n",
       "      <th>category_code</th>\n",
       "      <th>number_of_employees</th>\n",
       "      <th>founded_year</th>\n",
       "      <th>total_money_raised</th>\n",
       "      <th>city</th>\n",
       "    </tr>\n",
       "  </thead>\n",
       "  <tbody>\n",
       "    <tr>\n",
       "      <th>0</th>\n",
       "      <td>{\"$oid\": \"52cdef7c4bab8bd675297d8b\"}</td>\n",
       "      <td>AdventNet</td>\n",
       "      <td>enterprise</td>\n",
       "      <td>600.0</td>\n",
       "      <td>1996.0</td>\n",
       "      <td>$0</td>\n",
       "      <td>Pleasanton</td>\n",
       "    </tr>\n",
       "    <tr>\n",
       "      <th>1</th>\n",
       "      <td>{\"$oid\": \"52cdef7c4bab8bd675297d92\"}</td>\n",
       "      <td>Flektor</td>\n",
       "      <td>games_video</td>\n",
       "      <td>NaN</td>\n",
       "      <td>NaN</td>\n",
       "      <td>$0</td>\n",
       "      <td>Culver City</td>\n",
       "    </tr>\n",
       "    <tr>\n",
       "      <th>2</th>\n",
       "      <td>{\"$oid\": \"52cdef7c4bab8bd675297d8c\"}</td>\n",
       "      <td>Zoho</td>\n",
       "      <td>software</td>\n",
       "      <td>1600.0</td>\n",
       "      <td>2005.0</td>\n",
       "      <td>$0</td>\n",
       "      <td>Pleasanton</td>\n",
       "    </tr>\n",
       "    <tr>\n",
       "      <th>3</th>\n",
       "      <td>{\"$oid\": \"52cdef7c4bab8bd675297d8a\"}</td>\n",
       "      <td>Wetpaint</td>\n",
       "      <td>web</td>\n",
       "      <td>47.0</td>\n",
       "      <td>2005.0</td>\n",
       "      <td>$39.8M</td>\n",
       "      <td>Seattle</td>\n",
       "    </tr>\n",
       "    <tr>\n",
       "      <th>3</th>\n",
       "      <td>{\"$oid\": \"52cdef7c4bab8bd675297d8a\"}</td>\n",
       "      <td>Wetpaint</td>\n",
       "      <td>web</td>\n",
       "      <td>47.0</td>\n",
       "      <td>2005.0</td>\n",
       "      <td>$39.8M</td>\n",
       "      <td>New York</td>\n",
       "    </tr>\n",
       "  </tbody>\n",
       "</table>\n",
       "</div>"
      ],
      "text/plain": [
       "                                    _id       name category_code  \\\n",
       "0  {\"$oid\": \"52cdef7c4bab8bd675297d8b\"}  AdventNet    enterprise   \n",
       "1  {\"$oid\": \"52cdef7c4bab8bd675297d92\"}    Flektor   games_video   \n",
       "2  {\"$oid\": \"52cdef7c4bab8bd675297d8c\"}       Zoho      software   \n",
       "3  {\"$oid\": \"52cdef7c4bab8bd675297d8a\"}   Wetpaint           web   \n",
       "3  {\"$oid\": \"52cdef7c4bab8bd675297d8a\"}   Wetpaint           web   \n",
       "\n",
       "   number_of_employees  founded_year total_money_raised         city  \n",
       "0                600.0        1996.0                 $0   Pleasanton  \n",
       "1                  NaN           NaN                 $0  Culver City  \n",
       "2               1600.0        2005.0                 $0   Pleasanton  \n",
       "3                 47.0        2005.0             $39.8M      Seattle  \n",
       "3                 47.0        2005.0             $39.8M     New York  "
      ]
     },
     "metadata": {},
     "output_type": "display_data"
    },
    {
     "data": {
      "text/plain": [
       "(21762, 7)"
      ]
     },
     "metadata": {},
     "output_type": "display_data"
    }
   ],
   "source": [
    "city_processed = pd.concat([df,city], axis=1)\n",
    "city_processed = city_processed.drop(columns=[\"offices\"])\n",
    "display(city_processed.head(),city_processed.shape)"
   ]
  },
  {
   "cell_type": "code",
   "execution_count": 69,
   "metadata": {},
   "outputs": [],
   "source": [
    "city_processed.to_csv(\"../output/cities\")"
   ]
  },
  {
   "cell_type": "code",
   "execution_count": 70,
   "metadata": {},
   "outputs": [
    {
     "data": {
      "text/plain": [
       "1733     San Francisco\n",
       "1733       Collingwood\n",
       "1733            Berlin\n",
       "15555       Ellensburg\n",
       "16280         Brooklyn\n",
       "18165           London\n",
       "Name: city, dtype: object"
      ]
     },
     "execution_count": 70,
     "metadata": {},
     "output_type": "execute_result"
    }
   ],
   "source": [
    "city_processed[\"city\"][city_processed[\"category_code\"]==\"design\"]"
   ]
  },
  {
   "cell_type": "code",
   "execution_count": 71,
   "metadata": {},
   "outputs": [
    {
     "data": {
      "text/plain": [
       "NoOffice         244\n",
       "New York          75\n",
       "San Francisco     68\n",
       "NoCity            64\n",
       "London            36\n",
       "Name: city, dtype: int64"
      ]
     },
     "execution_count": 71,
     "metadata": {},
     "output_type": "execute_result"
    }
   ],
   "source": [
    "city_processed[\"city\"][city_processed[\"category_code\"]==\"games_video\"].value_counts().head()"
   ]
  },
  {
   "cell_type": "code",
   "execution_count": 72,
   "metadata": {},
   "outputs": [
    {
     "data": {
      "text/plain": [
       "count    15936.000000\n",
       "mean      2002.062123\n",
       "std         12.554885\n",
       "min       1800.000000\n",
       "25%       2000.000000\n",
       "50%       2005.000000\n",
       "75%       2007.000000\n",
       "max       2013.000000\n",
       "Name: founded_year, dtype: float64"
      ]
     },
     "execution_count": 72,
     "metadata": {},
     "output_type": "execute_result"
    }
   ],
   "source": [
    "city_processed[\"founded_year\"].describe()"
   ]
  },
  {
   "cell_type": "code",
   "execution_count": 73,
   "metadata": {},
   "outputs": [],
   "source": [
    "# teniendo en cuenta que el mayor valor de founded_year es 2013, para seleccionar las startups voy a suponer que este analisis \n",
    "# se está realizando en 2014. Por lo tanto, selecciono solo aquellas cuyo founded_year sea >= 2010 (3 años antes de 2013)\n",
    "city_processed2 = city_processed[city_processed[\"founded_year\"]>=2010]"
   ]
  },
  {
   "cell_type": "code",
   "execution_count": 74,
   "metadata": {},
   "outputs": [
    {
     "data": {
      "text/html": [
       "<div>\n",
       "<style scoped>\n",
       "    .dataframe tbody tr th:only-of-type {\n",
       "        vertical-align: middle;\n",
       "    }\n",
       "\n",
       "    .dataframe tbody tr th {\n",
       "        vertical-align: top;\n",
       "    }\n",
       "\n",
       "    .dataframe thead th {\n",
       "        text-align: right;\n",
       "    }\n",
       "</style>\n",
       "<table border=\"1\" class=\"dataframe\">\n",
       "  <thead>\n",
       "    <tr style=\"text-align: right;\">\n",
       "      <th></th>\n",
       "      <th>_id</th>\n",
       "      <th>name</th>\n",
       "      <th>category_code</th>\n",
       "      <th>number_of_employees</th>\n",
       "      <th>founded_year</th>\n",
       "      <th>total_money_raised</th>\n",
       "      <th>city</th>\n",
       "    </tr>\n",
       "  </thead>\n",
       "  <tbody>\n",
       "    <tr>\n",
       "      <th>281</th>\n",
       "      <td>{\"$oid\": \"52cdef7c4bab8bd675297ea7\"}</td>\n",
       "      <td>Mokitown</td>\n",
       "      <td>web</td>\n",
       "      <td>NaN</td>\n",
       "      <td>2011.0</td>\n",
       "      <td>$0</td>\n",
       "      <td>NoCity</td>\n",
       "    </tr>\n",
       "    <tr>\n",
       "      <th>499</th>\n",
       "      <td>{\"$oid\": \"52cdef7c4bab8bd675297f78\"}</td>\n",
       "      <td>CircleUp</td>\n",
       "      <td>finance</td>\n",
       "      <td>11.0</td>\n",
       "      <td>2011.0</td>\n",
       "      <td>$9M</td>\n",
       "      <td>San Francisco</td>\n",
       "    </tr>\n",
       "    <tr>\n",
       "      <th>522</th>\n",
       "      <td>{\"$oid\": \"52cdef7c4bab8bd675297f94\"}</td>\n",
       "      <td>PeekYou</td>\n",
       "      <td>search</td>\n",
       "      <td>20.0</td>\n",
       "      <td>2012.0</td>\n",
       "      <td>$1.83M</td>\n",
       "      <td>New York</td>\n",
       "    </tr>\n",
       "    <tr>\n",
       "      <th>532</th>\n",
       "      <td>{\"$oid\": \"52cdef7c4bab8bd675297f9e\"}</td>\n",
       "      <td>GENWI</td>\n",
       "      <td>mobile</td>\n",
       "      <td>25.0</td>\n",
       "      <td>2010.0</td>\n",
       "      <td>$7.1M</td>\n",
       "      <td>Los Altos</td>\n",
       "    </tr>\n",
       "    <tr>\n",
       "      <th>549</th>\n",
       "      <td>{\"$oid\": \"52cdef7c4bab8bd675297fb1\"}</td>\n",
       "      <td>headr</td>\n",
       "      <td>web</td>\n",
       "      <td>8.0</td>\n",
       "      <td>2012.0</td>\n",
       "      <td>$0</td>\n",
       "      <td>Berlin</td>\n",
       "    </tr>\n",
       "  </tbody>\n",
       "</table>\n",
       "</div>"
      ],
      "text/plain": [
       "                                      _id      name category_code  \\\n",
       "281  {\"$oid\": \"52cdef7c4bab8bd675297ea7\"}  Mokitown           web   \n",
       "499  {\"$oid\": \"52cdef7c4bab8bd675297f78\"}  CircleUp       finance   \n",
       "522  {\"$oid\": \"52cdef7c4bab8bd675297f94\"}   PeekYou        search   \n",
       "532  {\"$oid\": \"52cdef7c4bab8bd675297f9e\"}     GENWI        mobile   \n",
       "549  {\"$oid\": \"52cdef7c4bab8bd675297fb1\"}     headr           web   \n",
       "\n",
       "     number_of_employees  founded_year total_money_raised           city  \n",
       "281                  NaN        2011.0                 $0         NoCity  \n",
       "499                 11.0        2011.0                $9M  San Francisco  \n",
       "522                 20.0        2012.0             $1.83M       New York  \n",
       "532                 25.0        2010.0              $7.1M      Los Altos  \n",
       "549                  8.0        2012.0                 $0         Berlin  "
      ]
     },
     "metadata": {},
     "output_type": "display_data"
    },
    {
     "data": {
      "text/plain": [
       "(172, 7)"
      ]
     },
     "metadata": {},
     "output_type": "display_data"
    }
   ],
   "source": [
    "display(city_processed2.head(),city_processed2.shape)"
   ]
  },
  {
   "cell_type": "code",
   "execution_count": 75,
   "metadata": {},
   "outputs": [
    {
     "name": "stdout",
     "output_type": "stream",
     "text": [
      "['web', 'games_video', 'software', 'mobile', 'enterprise', 'other', 'advertising', 'ecommerce', 'analytics', 'photo_video', 'travel', 'network_hosting', 'consulting', 'education', 'cleantech', 'biotech', 'security', 'hospitality', 'search', 'fashion', 'social', 'finance', 'messaging']\n"
     ]
    }
   ],
   "source": [
    "# quiero startups de tech, así que voy a ver que hay en category code\n",
    "print(list(city_processed2[\"category_code\"].value_counts().index))"
   ]
  },
  {
   "cell_type": "code",
   "execution_count": 76,
   "metadata": {},
   "outputs": [],
   "source": [
    "index_NOtechs = city_processed2.index[(city_processed2[\"category_code\"]!=\"web\")&(city_processed2[\"category_code\"]!= \"software\")&\n",
    "                                      (city_processed2[\"category_code\"]!=\"games_video\")&(city_processed2[\"category_code\"]!=\"mobile\")&\n",
    "                                      (city_processed2[\"category_code\"]!=\"network_hosting\")&(city_processed2[\"category_code\"]!=\"cleantech\")&\n",
    "                                      (city_processed2[\"category_code\"]!=\"biotech\")&(city_processed2[\"category_code\"]!=\"photo_video\")&\n",
    "                                      (city_processed2[\"category_code\"]!=\"hardware\")&(city_processed2[\"category_code\"]!=\"messaging\")]"
   ]
  },
  {
   "cell_type": "code",
   "execution_count": 77,
   "metadata": {},
   "outputs": [
    {
     "data": {
      "text/plain": [
       "Int64Index([  499,   522,   817,  1103,  1106,  1359,  1359,  1359,  1404,\n",
       "             1435,  1471,  2176,  2965,  3179,  3945,  4376,  4588,  4588,\n",
       "             4696,  5077,  5228,  5383,  5502,  5502,  6005,  6262,  6314,\n",
       "             7168,  7221,  7947,  8030,  8030,  8030,  8030,  8030,  8030,\n",
       "             8698,  9005,  9153,  9726, 10149, 10505, 10505, 10576, 10653,\n",
       "            11072, 11120, 11223, 12446, 13078, 13598, 13860, 14341, 14579,\n",
       "            14647, 14917, 15214, 15334, 16284, 16467, 16581, 17436, 17985,\n",
       "            18768, 18768],\n",
       "           dtype='int64')"
      ]
     },
     "execution_count": 77,
     "metadata": {},
     "output_type": "execute_result"
    }
   ],
   "source": [
    "index_NOtechs"
   ]
  },
  {
   "cell_type": "code",
   "execution_count": 78,
   "metadata": {},
   "outputs": [
    {
     "data": {
      "text/html": [
       "<div>\n",
       "<style scoped>\n",
       "    .dataframe tbody tr th:only-of-type {\n",
       "        vertical-align: middle;\n",
       "    }\n",
       "\n",
       "    .dataframe tbody tr th {\n",
       "        vertical-align: top;\n",
       "    }\n",
       "\n",
       "    .dataframe thead th {\n",
       "        text-align: right;\n",
       "    }\n",
       "</style>\n",
       "<table border=\"1\" class=\"dataframe\">\n",
       "  <thead>\n",
       "    <tr style=\"text-align: right;\">\n",
       "      <th></th>\n",
       "      <th>_id</th>\n",
       "      <th>name</th>\n",
       "      <th>category_code</th>\n",
       "      <th>number_of_employees</th>\n",
       "      <th>founded_year</th>\n",
       "      <th>total_money_raised</th>\n",
       "      <th>city</th>\n",
       "    </tr>\n",
       "  </thead>\n",
       "  <tbody>\n",
       "    <tr>\n",
       "      <th>281</th>\n",
       "      <td>{\"$oid\": \"52cdef7c4bab8bd675297ea7\"}</td>\n",
       "      <td>Mokitown</td>\n",
       "      <td>web</td>\n",
       "      <td>NaN</td>\n",
       "      <td>2011.0</td>\n",
       "      <td>$0</td>\n",
       "      <td>NoCity</td>\n",
       "    </tr>\n",
       "    <tr>\n",
       "      <th>532</th>\n",
       "      <td>{\"$oid\": \"52cdef7c4bab8bd675297f9e\"}</td>\n",
       "      <td>GENWI</td>\n",
       "      <td>mobile</td>\n",
       "      <td>25.0</td>\n",
       "      <td>2010.0</td>\n",
       "      <td>$7.1M</td>\n",
       "      <td>Los Altos</td>\n",
       "    </tr>\n",
       "    <tr>\n",
       "      <th>549</th>\n",
       "      <td>{\"$oid\": \"52cdef7c4bab8bd675297fb1\"}</td>\n",
       "      <td>headr</td>\n",
       "      <td>web</td>\n",
       "      <td>8.0</td>\n",
       "      <td>2012.0</td>\n",
       "      <td>$0</td>\n",
       "      <td>Berlin</td>\n",
       "    </tr>\n",
       "    <tr>\n",
       "      <th>549</th>\n",
       "      <td>{\"$oid\": \"52cdef7c4bab8bd675297fb1\"}</td>\n",
       "      <td>headr</td>\n",
       "      <td>web</td>\n",
       "      <td>8.0</td>\n",
       "      <td>2012.0</td>\n",
       "      <td>$0</td>\n",
       "      <td>Hannover</td>\n",
       "    </tr>\n",
       "    <tr>\n",
       "      <th>612</th>\n",
       "      <td>{\"$oid\": \"52cdef7c4bab8bd675297fec\"}</td>\n",
       "      <td>Fixya</td>\n",
       "      <td>web</td>\n",
       "      <td>30.0</td>\n",
       "      <td>2013.0</td>\n",
       "      <td>$8M</td>\n",
       "      <td>San Mateo</td>\n",
       "    </tr>\n",
       "  </tbody>\n",
       "</table>\n",
       "</div>"
      ],
      "text/plain": [
       "                                      _id      name category_code  \\\n",
       "281  {\"$oid\": \"52cdef7c4bab8bd675297ea7\"}  Mokitown           web   \n",
       "532  {\"$oid\": \"52cdef7c4bab8bd675297f9e\"}     GENWI        mobile   \n",
       "549  {\"$oid\": \"52cdef7c4bab8bd675297fb1\"}     headr           web   \n",
       "549  {\"$oid\": \"52cdef7c4bab8bd675297fb1\"}     headr           web   \n",
       "612  {\"$oid\": \"52cdef7c4bab8bd675297fec\"}     Fixya           web   \n",
       "\n",
       "     number_of_employees  founded_year total_money_raised       city  \n",
       "281                  NaN        2011.0                 $0     NoCity  \n",
       "532                 25.0        2010.0              $7.1M  Los Altos  \n",
       "549                  8.0        2012.0                 $0     Berlin  \n",
       "549                  8.0        2012.0                 $0   Hannover  \n",
       "612                 30.0        2013.0                $8M  San Mateo  "
      ]
     },
     "execution_count": 78,
     "metadata": {},
     "output_type": "execute_result"
    }
   ],
   "source": [
    "city_processed3 = city_processed2.drop(index=index_NOtechs)\n",
    "city_processed3.head()"
   ]
  },
  {
   "cell_type": "code",
   "execution_count": 79,
   "metadata": {},
   "outputs": [
    {
     "data": {
      "text/html": [
       "<div>\n",
       "<style scoped>\n",
       "    .dataframe tbody tr th:only-of-type {\n",
       "        vertical-align: middle;\n",
       "    }\n",
       "\n",
       "    .dataframe tbody tr th {\n",
       "        vertical-align: top;\n",
       "    }\n",
       "\n",
       "    .dataframe thead th {\n",
       "        text-align: right;\n",
       "    }\n",
       "</style>\n",
       "<table border=\"1\" class=\"dataframe\">\n",
       "  <thead>\n",
       "    <tr style=\"text-align: right;\">\n",
       "      <th></th>\n",
       "      <th>_id</th>\n",
       "      <th>name</th>\n",
       "      <th>category_code</th>\n",
       "      <th>number_of_employees</th>\n",
       "      <th>founded_year</th>\n",
       "      <th>total_money_raised</th>\n",
       "      <th>city</th>\n",
       "    </tr>\n",
       "  </thead>\n",
       "  <tbody>\n",
       "    <tr>\n",
       "      <th>532</th>\n",
       "      <td>{\"$oid\": \"52cdef7c4bab8bd675297f9e\"}</td>\n",
       "      <td>GENWI</td>\n",
       "      <td>mobile</td>\n",
       "      <td>25.0</td>\n",
       "      <td>2010.0</td>\n",
       "      <td>$7.1M</td>\n",
       "      <td>Los Altos</td>\n",
       "    </tr>\n",
       "    <tr>\n",
       "      <th>549</th>\n",
       "      <td>{\"$oid\": \"52cdef7c4bab8bd675297fb1\"}</td>\n",
       "      <td>headr</td>\n",
       "      <td>web</td>\n",
       "      <td>8.0</td>\n",
       "      <td>2012.0</td>\n",
       "      <td>$0</td>\n",
       "      <td>Berlin</td>\n",
       "    </tr>\n",
       "    <tr>\n",
       "      <th>549</th>\n",
       "      <td>{\"$oid\": \"52cdef7c4bab8bd675297fb1\"}</td>\n",
       "      <td>headr</td>\n",
       "      <td>web</td>\n",
       "      <td>8.0</td>\n",
       "      <td>2012.0</td>\n",
       "      <td>$0</td>\n",
       "      <td>Hannover</td>\n",
       "    </tr>\n",
       "    <tr>\n",
       "      <th>612</th>\n",
       "      <td>{\"$oid\": \"52cdef7c4bab8bd675297fec\"}</td>\n",
       "      <td>Fixya</td>\n",
       "      <td>web</td>\n",
       "      <td>30.0</td>\n",
       "      <td>2013.0</td>\n",
       "      <td>$8M</td>\n",
       "      <td>San Mateo</td>\n",
       "    </tr>\n",
       "    <tr>\n",
       "      <th>1428</th>\n",
       "      <td>{\"$oid\": \"52cdef7c4bab8bd67529831a\"}</td>\n",
       "      <td>Social Gaming Network</td>\n",
       "      <td>games_video</td>\n",
       "      <td>100.0</td>\n",
       "      <td>2011.0</td>\n",
       "      <td>$17.1M</td>\n",
       "      <td>Los Angeles</td>\n",
       "    </tr>\n",
       "  </tbody>\n",
       "</table>\n",
       "</div>"
      ],
      "text/plain": [
       "                                       _id                   name  \\\n",
       "532   {\"$oid\": \"52cdef7c4bab8bd675297f9e\"}                  GENWI   \n",
       "549   {\"$oid\": \"52cdef7c4bab8bd675297fb1\"}                  headr   \n",
       "549   {\"$oid\": \"52cdef7c4bab8bd675297fb1\"}                  headr   \n",
       "612   {\"$oid\": \"52cdef7c4bab8bd675297fec\"}                  Fixya   \n",
       "1428  {\"$oid\": \"52cdef7c4bab8bd67529831a\"}  Social Gaming Network   \n",
       "\n",
       "     category_code  number_of_employees  founded_year total_money_raised  \\\n",
       "532         mobile                 25.0        2010.0              $7.1M   \n",
       "549            web                  8.0        2012.0                 $0   \n",
       "549            web                  8.0        2012.0                 $0   \n",
       "612            web                 30.0        2013.0                $8M   \n",
       "1428   games_video                100.0        2011.0             $17.1M   \n",
       "\n",
       "             city  \n",
       "532     Los Altos  \n",
       "549        Berlin  \n",
       "549      Hannover  \n",
       "612     San Mateo  \n",
       "1428  Los Angeles  "
      ]
     },
     "metadata": {},
     "output_type": "display_data"
    },
    {
     "data": {
      "text/plain": [
       "(63, 7)"
      ]
     },
     "metadata": {},
     "output_type": "display_data"
    }
   ],
   "source": [
    "# para que sea una startups tiene que tener menos de 100 empleados\n",
    "city_processed3 = city_processed3[(city_processed3[\"number_of_employees\"]!= None) & (city_processed3[\"number_of_employees\"]<=100)]\n",
    "display(city_processed3.head(),city_processed3.shape)"
   ]
  },
  {
   "cell_type": "code",
   "execution_count": 80,
   "metadata": {},
   "outputs": [
    {
     "name": "stdout",
     "output_type": "stream",
     "text": [
      "['$0', '$1M', '$750k', '$17.1M', '$300k', '$930k', '$59k', '$8M', '$800k', '$4M', '$7.1M', '$7.55M', '$15k']\n"
     ]
    }
   ],
   "source": [
    "print(list(city_processed3[\"total_money_raised\"].value_counts().index))"
   ]
  },
  {
   "cell_type": "code",
   "execution_count": 81,
   "metadata": {},
   "outputs": [],
   "source": [
    "def getMoney(value):\n",
    "        if value:\n",
    "            if re.search(\"^C\\$\\d+\",value):\n",
    "                value = value.split(\"C$\")[1]\n",
    "                if \"k\" in value:\n",
    "                    return round(float(value.split(\"k\")[0])*0.71,4)\n",
    "                elif \"M\" in value:\n",
    "                    return round(float(value.split(\"M\")[0])*1000*0.71,4)\n",
    "                else:\n",
    "                    return round(float(value)*0,71/1000,4)\n",
    "            elif re.search(\"\\$\\d+\",value):\n",
    "                value = value.split(\"$\")[1]\n",
    "                if \"k\" in value:\n",
    "                    return round(float(value.split(\"k\")[0]),4)\n",
    "                elif \"M\" in value:\n",
    "                    return round(float(value.split(\"M\")[0])*1000,4)\n",
    "                else:\n",
    "                    return round(float(value)/1000,4)\n",
    "            elif re.search(\"\\£\\d+\",value):\n",
    "                value = value.split(\"£\")[1]\n",
    "                if \"k\" in value:\n",
    "                    return round(float(value.split(\"k\")[0])*1.25,4)\n",
    "                elif \"M\" in value:\n",
    "                    return round(float(value.split(\"M\")[0])*1.25*1000,4)\n",
    "                else:\n",
    "                    return round(float(value)*1.25/1000,4)\n",
    "            elif re.search(\"\\€\\d+\",value):\n",
    "                value = value.split(\"€\")[1]\n",
    "                if \"k\" in value:\n",
    "                    return round(float(value.split(\"k\")[0])*1.09,4)\n",
    "                elif \"M\" in value:\n",
    "                    return round(float(value.split(\"M\")[0])*1.09*1000,4)\n",
    "                else:\n",
    "                    return round(float(value)*1.09/1000,4)\n",
    "                \n",
    "            else:\n",
    "                return round(float(value)/1000,4)\n",
    "            \n",
    "city_processed3[\"total_money_Dollars (k)\"] = city_processed3[\"total_money_raised\"].apply(getMoney)"
   ]
  },
  {
   "cell_type": "code",
   "execution_count": 82,
   "metadata": {},
   "outputs": [
    {
     "name": "stdout",
     "output_type": "stream",
     "text": [
      "[0.0, 1000.0, 17100.0, 750.0, 930.0, 300.0, 7550.0, 800.0, 59.0, 15.0, 4000.0, 8000.0, 7100.0]\n"
     ]
    }
   ],
   "source": [
    "print(list(city_processed3[\"total_money_Dollars (k)\"].value_counts().index))"
   ]
  },
  {
   "cell_type": "code",
   "execution_count": 83,
   "metadata": {},
   "outputs": [
    {
     "data": {
      "text/html": [
       "<div>\n",
       "<style scoped>\n",
       "    .dataframe tbody tr th:only-of-type {\n",
       "        vertical-align: middle;\n",
       "    }\n",
       "\n",
       "    .dataframe tbody tr th {\n",
       "        vertical-align: top;\n",
       "    }\n",
       "\n",
       "    .dataframe thead th {\n",
       "        text-align: right;\n",
       "    }\n",
       "</style>\n",
       "<table border=\"1\" class=\"dataframe\">\n",
       "  <thead>\n",
       "    <tr style=\"text-align: right;\">\n",
       "      <th></th>\n",
       "      <th>_id</th>\n",
       "      <th>name</th>\n",
       "      <th>category_code</th>\n",
       "      <th>number_of_employees</th>\n",
       "      <th>founded_year</th>\n",
       "      <th>total_money_raised</th>\n",
       "      <th>city</th>\n",
       "      <th>total_money_Dollars (k)</th>\n",
       "    </tr>\n",
       "  </thead>\n",
       "  <tbody>\n",
       "    <tr>\n",
       "      <th>532</th>\n",
       "      <td>{\"$oid\": \"52cdef7c4bab8bd675297f9e\"}</td>\n",
       "      <td>GENWI</td>\n",
       "      <td>mobile</td>\n",
       "      <td>25.0</td>\n",
       "      <td>2010.0</td>\n",
       "      <td>$7.1M</td>\n",
       "      <td>Los Altos</td>\n",
       "      <td>7100.0</td>\n",
       "    </tr>\n",
       "    <tr>\n",
       "      <th>612</th>\n",
       "      <td>{\"$oid\": \"52cdef7c4bab8bd675297fec\"}</td>\n",
       "      <td>Fixya</td>\n",
       "      <td>web</td>\n",
       "      <td>30.0</td>\n",
       "      <td>2013.0</td>\n",
       "      <td>$8M</td>\n",
       "      <td>San Mateo</td>\n",
       "      <td>8000.0</td>\n",
       "    </tr>\n",
       "    <tr>\n",
       "      <th>1428</th>\n",
       "      <td>{\"$oid\": \"52cdef7c4bab8bd67529831a\"}</td>\n",
       "      <td>Social Gaming Network</td>\n",
       "      <td>games_video</td>\n",
       "      <td>100.0</td>\n",
       "      <td>2011.0</td>\n",
       "      <td>$17.1M</td>\n",
       "      <td>Los Angeles</td>\n",
       "      <td>17100.0</td>\n",
       "    </tr>\n",
       "    <tr>\n",
       "      <th>1428</th>\n",
       "      <td>{\"$oid\": \"52cdef7c4bab8bd67529831a\"}</td>\n",
       "      <td>Social Gaming Network</td>\n",
       "      <td>games_video</td>\n",
       "      <td>100.0</td>\n",
       "      <td>2011.0</td>\n",
       "      <td>$17.1M</td>\n",
       "      <td>Beverly Hills</td>\n",
       "      <td>17100.0</td>\n",
       "    </tr>\n",
       "    <tr>\n",
       "      <th>1912</th>\n",
       "      <td>{\"$oid\": \"52cdef7c4bab8bd675298509\"}</td>\n",
       "      <td>Skydeck</td>\n",
       "      <td>mobile</td>\n",
       "      <td>9.0</td>\n",
       "      <td>2012.0</td>\n",
       "      <td>$4M</td>\n",
       "      <td>Palo Alto</td>\n",
       "      <td>4000.0</td>\n",
       "    </tr>\n",
       "  </tbody>\n",
       "</table>\n",
       "</div>"
      ],
      "text/plain": [
       "                                       _id                   name  \\\n",
       "532   {\"$oid\": \"52cdef7c4bab8bd675297f9e\"}                  GENWI   \n",
       "612   {\"$oid\": \"52cdef7c4bab8bd675297fec\"}                  Fixya   \n",
       "1428  {\"$oid\": \"52cdef7c4bab8bd67529831a\"}  Social Gaming Network   \n",
       "1428  {\"$oid\": \"52cdef7c4bab8bd67529831a\"}  Social Gaming Network   \n",
       "1912  {\"$oid\": \"52cdef7c4bab8bd675298509\"}                Skydeck   \n",
       "\n",
       "     category_code  number_of_employees  founded_year total_money_raised  \\\n",
       "532         mobile                 25.0        2010.0              $7.1M   \n",
       "612            web                 30.0        2013.0                $8M   \n",
       "1428   games_video                100.0        2011.0             $17.1M   \n",
       "1428   games_video                100.0        2011.0             $17.1M   \n",
       "1912        mobile                  9.0        2012.0                $4M   \n",
       "\n",
       "               city  total_money_Dollars (k)  \n",
       "532       Los Altos                   7100.0  \n",
       "612       San Mateo                   8000.0  \n",
       "1428    Los Angeles                  17100.0  \n",
       "1428  Beverly Hills                  17100.0  \n",
       "1912      Palo Alto                   4000.0  "
      ]
     },
     "metadata": {},
     "output_type": "display_data"
    },
    {
     "data": {
      "text/plain": [
       "(9, 8)"
      ]
     },
     "metadata": {},
     "output_type": "display_data"
    }
   ],
   "source": [
    "city_processed4 = city_processed3[city_processed3[\"total_money_Dollars (k)\"]>=1000]\n",
    "display(city_processed4.head(),city_processed4.shape)"
   ]
  },
  {
   "cell_type": "code",
   "execution_count": 84,
   "metadata": {},
   "outputs": [
    {
     "data": {
      "text/plain": [
       "New York         4\n",
       "San Francisco    3\n",
       "Palo Alto        2\n",
       "Santa Monica     2\n",
       "Paris            2\n",
       "Name: city, dtype: int64"
      ]
     },
     "execution_count": 84,
     "metadata": {},
     "output_type": "execute_result"
    }
   ],
   "source": [
    "city_processed5[\"city\"].value_counts().head()"
   ]
  },
  {
   "cell_type": "markdown",
   "metadata": {},
   "source": [
    "San Francisco es la segunda ciudad donde más startups tech con valor de más de 1M de dolares hay, la segunda ciudad con más oficinas de empresas dedicadas a gaming. Además hay una empresa de design. Asi que me centro en San Francisco."
   ]
  },
  {
   "cell_type": "code",
   "execution_count": 85,
   "metadata": {},
   "outputs": [
    {
     "ename": "NameError",
     "evalue": "name 'geo2' is not defined",
     "output_type": "error",
     "traceback": [
      "\u001b[0;31m---------------------------------------------------------------------------\u001b[0m",
      "\u001b[0;31mNameError\u001b[0m                                 Traceback (most recent call last)",
      "\u001b[0;32m<ipython-input-85-05b7498097f1>\u001b[0m in \u001b[0;36m<module>\u001b[0;34m()\u001b[0m\n\u001b[1;32m      1\u001b[0m \u001b[0;31m# Export as json to do mongodb import\u001b[0m\u001b[0;34m\u001b[0m\u001b[0;34m\u001b[0m\u001b[0;34m\u001b[0m\u001b[0m\n\u001b[1;32m      2\u001b[0m \u001b[0;31m# $ mongoimport --db datamad0320 --collection companies_prepared --jsonArray companies_clean.json\u001b[0m\u001b[0;34m\u001b[0m\u001b[0;34m\u001b[0m\u001b[0;34m\u001b[0m\u001b[0m\n\u001b[0;32m----> 3\u001b[0;31m \u001b[0mgeo2\u001b[0m\u001b[0;34m.\u001b[0m\u001b[0mto_json\u001b[0m\u001b[0;34m(\u001b[0m\u001b[0;34m\"../output/geocompanies.json\"\u001b[0m\u001b[0;34m,\u001b[0m\u001b[0morient\u001b[0m\u001b[0;34m=\u001b[0m\u001b[0;34m\"records\"\u001b[0m\u001b[0;34m)\u001b[0m\u001b[0;34m\u001b[0m\u001b[0;34m\u001b[0m\u001b[0m\n\u001b[0m",
      "\u001b[0;31mNameError\u001b[0m: name 'geo2' is not defined"
     ]
    }
   ],
   "source": [
    "# Export as json to do mongodb import\n",
    "# $ mongoimport --db datamad0320 --collection companies_prepared --jsonArray companies_clean.json\n",
    "geo2.to_json(\"../output/geocompanies.json\",orient=\"records\")"
   ]
  },
  {
   "cell_type": "code",
   "execution_count": null,
   "metadata": {},
   "outputs": [],
   "source": []
  },
  {
   "cell_type": "code",
   "execution_count": null,
   "metadata": {},
   "outputs": [],
   "source": []
  }
 ],
 "metadata": {
  "kernelspec": {
   "display_name": "Python 3",
   "language": "python",
   "name": "python3"
  },
  "language_info": {
   "codemirror_mode": {
    "name": "ipython",
    "version": 3
   },
   "file_extension": ".py",
   "mimetype": "text/x-python",
   "name": "python",
   "nbconvert_exporter": "python",
   "pygments_lexer": "ipython3",
   "version": "3.7.5"
  }
 },
 "nbformat": 4,
 "nbformat_minor": 4
}
