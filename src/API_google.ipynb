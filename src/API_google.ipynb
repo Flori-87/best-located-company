{
 "cells": [
  {
   "cell_type": "code",
   "execution_count": 49,
   "metadata": {},
   "outputs": [
    {
     "data": {
      "text/plain": [
       "True"
      ]
     },
     "execution_count": 49,
     "metadata": {},
     "output_type": "execute_result"
    }
   ],
   "source": [
    "import requests\n",
    "import re\n",
    "import pandas as pd\n",
    "import os\n",
    "from dotenv import load_dotenv\n",
    "load_dotenv()"
   ]
  },
  {
   "cell_type": "code",
   "execution_count": 34,
   "metadata": {},
   "outputs": [
    {
     "name": "stdout",
     "output_type": "stream",
     "text": [
      "WE HAVE APIKEY\n"
     ]
    }
   ],
   "source": [
    "# Load the apikey\n",
    "apiKey = os.getenv(\"google_apiKey\")\n",
    "print(\"WE HAVE APIKEY\") if apiKey else print(\"NO APIKEY FOUND\")"
   ]
  },
  {
   "cell_type": "code",
   "execution_count": 35,
   "metadata": {},
   "outputs": [],
   "source": [
    "def getFromGoogle(queryParams=dict()):\n",
    "    url = f\"https://maps.googleapis.com/maps/api/place/nearbysearch/json?\"\n",
    "    res = requests.get(url, params=queryParams)\n",
    "    print(res.status_code)\n",
    "    return res.json()"
   ]
  },
  {
   "cell_type": "code",
   "execution_count": 36,
   "metadata": {},
   "outputs": [
    {
     "name": "stdout",
     "output_type": "stream",
     "text": [
      "200\n"
     ]
    }
   ],
   "source": [
    "queryParams= {\n",
    "    \"location\":\"37.774929,-122.4194183\",\n",
    "    \"radius\":\"20000\",\n",
    "    \"type\":\"airport\",\n",
    "    \"keyword\":\"SFO\",\n",
    "    \"key\":f'{apiKey}'\n",
    "}\n",
    "\n",
    "airport = getFromGoogle(queryParams)"
   ]
  },
  {
   "cell_type": "code",
   "execution_count": 37,
   "metadata": {},
   "outputs": [
    {
     "data": {
      "text/plain": [
       "{'html_attributions': [],\n",
       " 'results': [{'geometry': {'location': {'lat': 37.6213129,\n",
       "     'lng': -122.3789554},\n",
       "    'viewport': {'northeast': {'lat': 37.62722864999999, 'lng': -122.36840685},\n",
       "     'southwest': {'lat': 37.60356565, 'lng': -122.41060105}}},\n",
       "   'icon': 'https://maps.gstatic.com/mapfiles/place_api/icons/airport-71.png',\n",
       "   'id': '9c9fb107d7a776c3f6a26791b07982d7db079113',\n",
       "   'name': 'San Francisco International Airport',\n",
       "   'photos': [{'height': 3648,\n",
       "     'html_attributions': ['<a href=\"https://maps.google.com/maps/contrib/107959744760686167125\">HongWei Huang</a>'],\n",
       "     'photo_reference': 'CmRaAAAARbUmtfkGZOdMPAuVB6lvn3M7EKDzBML_NqwgCRFeZAMKQLDgN9WMvNPTSVpjPJNG2-Wwj6CYjafR3FEGlACsY-1eUGQYasOOeYCfK5rQwDdlqSbnrbMbQnYFuaH-u5kyEhCMn1tlYki0qRuBuZaHT-pxGhTLxdwauhs2S8CyG7StbXFI6eHVbA',\n",
       "     'width': 5472}],\n",
       "   'place_id': 'ChIJVVVVVYx3j4ARP-3NGldc8qQ',\n",
       "   'plus_code': {'compound_code': 'JJCC+GC South San Francisco, California',\n",
       "    'global_code': '849VJJCC+GC'},\n",
       "   'rating': 3.9,\n",
       "   'reference': 'ChIJVVVVVYx3j4ARP-3NGldc8qQ',\n",
       "   'scope': 'GOOGLE',\n",
       "   'types': ['airport', 'point_of_interest', 'establishment'],\n",
       "   'user_ratings_total': 7014,\n",
       "   'vicinity': 'San Francisco'}],\n",
       " 'status': 'OK'}"
      ]
     },
     "execution_count": 37,
     "metadata": {},
     "output_type": "execute_result"
    }
   ],
   "source": [
    "airport"
   ]
  },
  {
   "cell_type": "code",
   "execution_count": 120,
   "metadata": {},
   "outputs": [
    {
     "data": {
      "text/html": [
       "<div>\n",
       "<style scoped>\n",
       "    .dataframe tbody tr th:only-of-type {\n",
       "        vertical-align: middle;\n",
       "    }\n",
       "\n",
       "    .dataframe tbody tr th {\n",
       "        vertical-align: top;\n",
       "    }\n",
       "\n",
       "    .dataframe thead th {\n",
       "        text-align: right;\n",
       "    }\n",
       "</style>\n",
       "<table border=\"1\" class=\"dataframe\">\n",
       "  <thead>\n",
       "    <tr style=\"text-align: right;\">\n",
       "      <th></th>\n",
       "      <th>category</th>\n",
       "      <th>location</th>\n",
       "    </tr>\n",
       "  </thead>\n",
       "  <tbody>\n",
       "    <tr>\n",
       "      <th>0</th>\n",
       "      <td>airport</td>\n",
       "      <td>{'type': 'Point', 'coordinates': [-122.422096,...</td>\n",
       "    </tr>\n",
       "  </tbody>\n",
       "</table>\n",
       "</div>"
      ],
      "text/plain": [
       "  category                                           location\n",
       "0  airport  {'type': 'Point', 'coordinates': [-122.422096,..."
      ]
     },
     "execution_count": 120,
     "metadata": {},
     "output_type": "execute_result"
    }
   ],
   "source": [
    "airport =[{\"category\":\"airport\",\"location\":{\"type\":\"Point\",\"coordinates\":[e[\"geometry\"][\"location\"][\"lng\"],e[\"geometry\"][\"location\"][\"lat\"]]}}]\n",
    "\n",
    "df_airport = pd.DataFrame(airport)\n",
    "df_airport"
   ]
  },
  {
   "cell_type": "code",
   "execution_count": 40,
   "metadata": {},
   "outputs": [
    {
     "name": "stdout",
     "output_type": "stream",
     "text": [
      "200\n"
     ]
    }
   ],
   "source": [
    "queryParams= {\n",
    "    \"location\":\"37.774929,-122.4194183\",\n",
    "    \"radius\":\"5000\",\n",
    "    \"type\":\"cafe\",\n",
    "    \"keyword\":\"Starbucks\",\n",
    "    \"key\":f'{apiKey}'\n",
    "}\n",
    "\n",
    "cafe = getFromGoogle(queryParams)"
   ]
  },
  {
   "cell_type": "code",
   "execution_count": 119,
   "metadata": {},
   "outputs": [
    {
     "data": {
      "text/html": [
       "<div>\n",
       "<style scoped>\n",
       "    .dataframe tbody tr th:only-of-type {\n",
       "        vertical-align: middle;\n",
       "    }\n",
       "\n",
       "    .dataframe tbody tr th {\n",
       "        vertical-align: top;\n",
       "    }\n",
       "\n",
       "    .dataframe thead th {\n",
       "        text-align: right;\n",
       "    }\n",
       "</style>\n",
       "<table border=\"1\" class=\"dataframe\">\n",
       "  <thead>\n",
       "    <tr style=\"text-align: right;\">\n",
       "      <th></th>\n",
       "      <th>category</th>\n",
       "      <th>location</th>\n",
       "    </tr>\n",
       "  </thead>\n",
       "  <tbody>\n",
       "    <tr>\n",
       "      <th>0</th>\n",
       "      <td>Starbucks</td>\n",
       "      <td>{'type': 'Point', 'coordinates': [-122.4042684...</td>\n",
       "    </tr>\n",
       "    <tr>\n",
       "      <th>1</th>\n",
       "      <td>Starbucks</td>\n",
       "      <td>{'type': 'Point', 'coordinates': [-122.38783, ...</td>\n",
       "    </tr>\n",
       "    <tr>\n",
       "      <th>2</th>\n",
       "      <td>Starbucks</td>\n",
       "      <td>{'type': 'Point', 'coordinates': [-122.40385, ...</td>\n",
       "    </tr>\n",
       "    <tr>\n",
       "      <th>3</th>\n",
       "      <td>Starbucks</td>\n",
       "      <td>{'type': 'Point', 'coordinates': [-122.406831,...</td>\n",
       "    </tr>\n",
       "    <tr>\n",
       "      <th>4</th>\n",
       "      <td>Starbucks</td>\n",
       "      <td>{'type': 'Point', 'coordinates': [-122.438964,...</td>\n",
       "    </tr>\n",
       "    <tr>\n",
       "      <th>5</th>\n",
       "      <td>Starbucks</td>\n",
       "      <td>{'type': 'Point', 'coordinates': [-122.409623,...</td>\n",
       "    </tr>\n",
       "    <tr>\n",
       "      <th>6</th>\n",
       "      <td>Starbucks</td>\n",
       "      <td>{'type': 'Point', 'coordinates': [-122.422065,...</td>\n",
       "    </tr>\n",
       "    <tr>\n",
       "      <th>7</th>\n",
       "      <td>Starbucks</td>\n",
       "      <td>{'type': 'Point', 'coordinates': [-122.392268,...</td>\n",
       "    </tr>\n",
       "    <tr>\n",
       "      <th>8</th>\n",
       "      <td>Starbucks</td>\n",
       "      <td>{'type': 'Point', 'coordinates': [-122.409094,...</td>\n",
       "    </tr>\n",
       "    <tr>\n",
       "      <th>9</th>\n",
       "      <td>Starbucks</td>\n",
       "      <td>{'type': 'Point', 'coordinates': [-122.431709,...</td>\n",
       "    </tr>\n",
       "    <tr>\n",
       "      <th>10</th>\n",
       "      <td>Starbucks</td>\n",
       "      <td>{'type': 'Point', 'coordinates': [-122.467331,...</td>\n",
       "    </tr>\n",
       "    <tr>\n",
       "      <th>11</th>\n",
       "      <td>Starbucks</td>\n",
       "      <td>{'type': 'Point', 'coordinates': [-122.430395,...</td>\n",
       "    </tr>\n",
       "    <tr>\n",
       "      <th>12</th>\n",
       "      <td>Starbucks</td>\n",
       "      <td>{'type': 'Point', 'coordinates': [-122.40576, ...</td>\n",
       "    </tr>\n",
       "    <tr>\n",
       "      <th>13</th>\n",
       "      <td>Starbucks</td>\n",
       "      <td>{'type': 'Point', 'coordinates': [-122.431519,...</td>\n",
       "    </tr>\n",
       "    <tr>\n",
       "      <th>14</th>\n",
       "      <td>Starbucks</td>\n",
       "      <td>{'type': 'Point', 'coordinates': [-122.4563688...</td>\n",
       "    </tr>\n",
       "    <tr>\n",
       "      <th>15</th>\n",
       "      <td>Starbucks</td>\n",
       "      <td>{'type': 'Point', 'coordinates': [-122.41285, ...</td>\n",
       "    </tr>\n",
       "    <tr>\n",
       "      <th>16</th>\n",
       "      <td>Starbucks</td>\n",
       "      <td>{'type': 'Point', 'coordinates': [-122.4034092...</td>\n",
       "    </tr>\n",
       "    <tr>\n",
       "      <th>17</th>\n",
       "      <td>Starbucks</td>\n",
       "      <td>{'type': 'Point', 'coordinates': [-122.4172872...</td>\n",
       "    </tr>\n",
       "    <tr>\n",
       "      <th>18</th>\n",
       "      <td>Starbucks</td>\n",
       "      <td>{'type': 'Point', 'coordinates': [-122.402728,...</td>\n",
       "    </tr>\n",
       "    <tr>\n",
       "      <th>19</th>\n",
       "      <td>Starbucks</td>\n",
       "      <td>{'type': 'Point', 'coordinates': [-122.422096,...</td>\n",
       "    </tr>\n",
       "  </tbody>\n",
       "</table>\n",
       "</div>"
      ],
      "text/plain": [
       "     category                                           location\n",
       "0   Starbucks  {'type': 'Point', 'coordinates': [-122.4042684...\n",
       "1   Starbucks  {'type': 'Point', 'coordinates': [-122.38783, ...\n",
       "2   Starbucks  {'type': 'Point', 'coordinates': [-122.40385, ...\n",
       "3   Starbucks  {'type': 'Point', 'coordinates': [-122.406831,...\n",
       "4   Starbucks  {'type': 'Point', 'coordinates': [-122.438964,...\n",
       "5   Starbucks  {'type': 'Point', 'coordinates': [-122.409623,...\n",
       "6   Starbucks  {'type': 'Point', 'coordinates': [-122.422065,...\n",
       "7   Starbucks  {'type': 'Point', 'coordinates': [-122.392268,...\n",
       "8   Starbucks  {'type': 'Point', 'coordinates': [-122.409094,...\n",
       "9   Starbucks  {'type': 'Point', 'coordinates': [-122.431709,...\n",
       "10  Starbucks  {'type': 'Point', 'coordinates': [-122.467331,...\n",
       "11  Starbucks  {'type': 'Point', 'coordinates': [-122.430395,...\n",
       "12  Starbucks  {'type': 'Point', 'coordinates': [-122.40576, ...\n",
       "13  Starbucks  {'type': 'Point', 'coordinates': [-122.431519,...\n",
       "14  Starbucks  {'type': 'Point', 'coordinates': [-122.4563688...\n",
       "15  Starbucks  {'type': 'Point', 'coordinates': [-122.41285, ...\n",
       "16  Starbucks  {'type': 'Point', 'coordinates': [-122.4034092...\n",
       "17  Starbucks  {'type': 'Point', 'coordinates': [-122.4172872...\n",
       "18  Starbucks  {'type': 'Point', 'coordinates': [-122.402728,...\n",
       "19  Starbucks  {'type': 'Point', 'coordinates': [-122.422096,..."
      ]
     },
     "execution_count": 119,
     "metadata": {},
     "output_type": "execute_result"
    }
   ],
   "source": [
    "lista_cafe = []\n",
    "for e in cafe[\"results\"]:\n",
    "    if e[\"name\"] == \"Starbucks\":\n",
    "        lista_cafe.append({\"category\":\"Starbucks\",\"location\":{\"type\":\"Point\",\"coordinates\":[e[\"geometry\"][\"location\"][\"lng\"],e[\"geometry\"][\"location\"][\"lat\"]]}})\n",
    "\n",
    "df_cafe = pd.DataFrame(lista_cafe)\n",
    "df_cafe"
   ]
  },
  {
   "cell_type": "code",
   "execution_count": 42,
   "metadata": {},
   "outputs": [
    {
     "name": "stdout",
     "output_type": "stream",
     "text": [
      "200\n"
     ]
    }
   ],
   "source": [
    "queryParams= {\n",
    "    \"location\":\"37.774929,-122.4194183\",\n",
    "    \"radius\":\"5000\",\n",
    "    \"type\":\"restaurant\",\n",
    "    \"keyword\":\"vegan\",\n",
    "    \"key\":f'{apiKey}'\n",
    "}\n",
    "\n",
    "rest_vegano = getFromGoogle(queryParams)"
   ]
  },
  {
   "cell_type": "code",
   "execution_count": 118,
   "metadata": {},
   "outputs": [
    {
     "data": {
      "text/html": [
       "<div>\n",
       "<style scoped>\n",
       "    .dataframe tbody tr th:only-of-type {\n",
       "        vertical-align: middle;\n",
       "    }\n",
       "\n",
       "    .dataframe tbody tr th {\n",
       "        vertical-align: top;\n",
       "    }\n",
       "\n",
       "    .dataframe thead th {\n",
       "        text-align: right;\n",
       "    }\n",
       "</style>\n",
       "<table border=\"1\" class=\"dataframe\">\n",
       "  <thead>\n",
       "    <tr style=\"text-align: right;\">\n",
       "      <th></th>\n",
       "      <th>category</th>\n",
       "      <th>location</th>\n",
       "    </tr>\n",
       "  </thead>\n",
       "  <tbody>\n",
       "    <tr>\n",
       "      <th>0</th>\n",
       "      <td>vegan rest</td>\n",
       "      <td>{'type': 'Point', 'coordinates': [-122.4636464...</td>\n",
       "    </tr>\n",
       "    <tr>\n",
       "      <th>1</th>\n",
       "      <td>vegan rest</td>\n",
       "      <td>{'type': 'Point', 'coordinates': [-122.4221595...</td>\n",
       "    </tr>\n",
       "    <tr>\n",
       "      <th>2</th>\n",
       "      <td>vegan rest</td>\n",
       "      <td>{'type': 'Point', 'coordinates': [-122.4464842...</td>\n",
       "    </tr>\n",
       "    <tr>\n",
       "      <th>3</th>\n",
       "      <td>vegan rest</td>\n",
       "      <td>{'type': 'Point', 'coordinates': [-122.4317498...</td>\n",
       "    </tr>\n",
       "  </tbody>\n",
       "</table>\n",
       "</div>"
      ],
      "text/plain": [
       "     category                                           location\n",
       "0  vegan rest  {'type': 'Point', 'coordinates': [-122.4636464...\n",
       "1  vegan rest  {'type': 'Point', 'coordinates': [-122.4221595...\n",
       "2  vegan rest  {'type': 'Point', 'coordinates': [-122.4464842...\n",
       "3  vegan rest  {'type': 'Point', 'coordinates': [-122.4317498..."
      ]
     },
     "execution_count": 118,
     "metadata": {},
     "output_type": "execute_result"
    }
   ],
   "source": [
    "lista_vegano = []\n",
    "for e in rest_vegano[\"results\"]:\n",
    "    if re.search(r\".*(v|V)egan.*\", e[\"name\"]):\n",
    "        lista_vegano.append({\"category\":\"vegan rest\",\"location\":{\"type\":\"Point\",\"coordinates\":[e[\"geometry\"][\"location\"][\"lng\"],e[\"geometry\"][\"location\"][\"lat\"]]}})\n",
    "\n",
    "df_vegano = pd.DataFrame(lista_vegano)\n",
    "df_vegano"
   ]
  },
  {
   "cell_type": "code",
   "execution_count": 46,
   "metadata": {},
   "outputs": [
    {
     "name": "stdout",
     "output_type": "stream",
     "text": [
      "200\n"
     ]
    }
   ],
   "source": [
    "queryParams= {\n",
    "    \"location\":\"37.774929,-122.4194183\",\n",
    "    \"radius\":\"5000\",\n",
    "    \"type\":\"night_club\",\n",
    "    \"keyword\":\"pub\",\n",
    "    \"key\":f'{apiKey}'\n",
    "}\n",
    "\n",
    "pubs = getFromGoogle(queryParams)"
   ]
  },
  {
   "cell_type": "code",
   "execution_count": 121,
   "metadata": {},
   "outputs": [
    {
     "data": {
      "text/html": [
       "<div>\n",
       "<style scoped>\n",
       "    .dataframe tbody tr th:only-of-type {\n",
       "        vertical-align: middle;\n",
       "    }\n",
       "\n",
       "    .dataframe tbody tr th {\n",
       "        vertical-align: top;\n",
       "    }\n",
       "\n",
       "    .dataframe thead th {\n",
       "        text-align: right;\n",
       "    }\n",
       "</style>\n",
       "<table border=\"1\" class=\"dataframe\">\n",
       "  <thead>\n",
       "    <tr style=\"text-align: right;\">\n",
       "      <th></th>\n",
       "      <th>category</th>\n",
       "      <th>location</th>\n",
       "    </tr>\n",
       "  </thead>\n",
       "  <tbody>\n",
       "    <tr>\n",
       "      <th>0</th>\n",
       "      <td>pub</td>\n",
       "      <td>{'type': 'Point', 'coordinates': [-122.4220047...</td>\n",
       "    </tr>\n",
       "    <tr>\n",
       "      <th>1</th>\n",
       "      <td>pub</td>\n",
       "      <td>{'type': 'Point', 'coordinates': [-122.4206407...</td>\n",
       "    </tr>\n",
       "    <tr>\n",
       "      <th>2</th>\n",
       "      <td>pub</td>\n",
       "      <td>{'type': 'Point', 'coordinates': [-122.4052746...</td>\n",
       "    </tr>\n",
       "    <tr>\n",
       "      <th>3</th>\n",
       "      <td>pub</td>\n",
       "      <td>{'type': 'Point', 'coordinates': [-122.4100374...</td>\n",
       "    </tr>\n",
       "    <tr>\n",
       "      <th>4</th>\n",
       "      <td>pub</td>\n",
       "      <td>{'type': 'Point', 'coordinates': [-122.4212979...</td>\n",
       "    </tr>\n",
       "    <tr>\n",
       "      <th>5</th>\n",
       "      <td>pub</td>\n",
       "      <td>{'type': 'Point', 'coordinates': [-122.4088611...</td>\n",
       "    </tr>\n",
       "    <tr>\n",
       "      <th>6</th>\n",
       "      <td>pub</td>\n",
       "      <td>{'type': 'Point', 'coordinates': [-122.4143364...</td>\n",
       "    </tr>\n",
       "    <tr>\n",
       "      <th>7</th>\n",
       "      <td>pub</td>\n",
       "      <td>{'type': 'Point', 'coordinates': [-122.4085, 3...</td>\n",
       "    </tr>\n",
       "    <tr>\n",
       "      <th>8</th>\n",
       "      <td>pub</td>\n",
       "      <td>{'type': 'Point', 'coordinates': [-122.413792,...</td>\n",
       "    </tr>\n",
       "    <tr>\n",
       "      <th>9</th>\n",
       "      <td>pub</td>\n",
       "      <td>{'type': 'Point', 'coordinates': [-122.4094049...</td>\n",
       "    </tr>\n",
       "    <tr>\n",
       "      <th>10</th>\n",
       "      <td>pub</td>\n",
       "      <td>{'type': 'Point', 'coordinates': [-122.4204128...</td>\n",
       "    </tr>\n",
       "    <tr>\n",
       "      <th>11</th>\n",
       "      <td>pub</td>\n",
       "      <td>{'type': 'Point', 'coordinates': [-122.414007,...</td>\n",
       "    </tr>\n",
       "    <tr>\n",
       "      <th>12</th>\n",
       "      <td>pub</td>\n",
       "      <td>{'type': 'Point', 'coordinates': [-122.4193399...</td>\n",
       "    </tr>\n",
       "    <tr>\n",
       "      <th>13</th>\n",
       "      <td>pub</td>\n",
       "      <td>{'type': 'Point', 'coordinates': [-122.4064201...</td>\n",
       "    </tr>\n",
       "    <tr>\n",
       "      <th>14</th>\n",
       "      <td>pub</td>\n",
       "      <td>{'type': 'Point', 'coordinates': [-122.3981969...</td>\n",
       "    </tr>\n",
       "    <tr>\n",
       "      <th>15</th>\n",
       "      <td>pub</td>\n",
       "      <td>{'type': 'Point', 'coordinates': [-122.420771,...</td>\n",
       "    </tr>\n",
       "    <tr>\n",
       "      <th>16</th>\n",
       "      <td>pub</td>\n",
       "      <td>{'type': 'Point', 'coordinates': [-122.4190216...</td>\n",
       "    </tr>\n",
       "    <tr>\n",
       "      <th>17</th>\n",
       "      <td>pub</td>\n",
       "      <td>{'type': 'Point', 'coordinates': [-122.4134032...</td>\n",
       "    </tr>\n",
       "    <tr>\n",
       "      <th>18</th>\n",
       "      <td>pub</td>\n",
       "      <td>{'type': 'Point', 'coordinates': [-122.433329,...</td>\n",
       "    </tr>\n",
       "    <tr>\n",
       "      <th>19</th>\n",
       "      <td>pub</td>\n",
       "      <td>{'type': 'Point', 'coordinates': [-122.4144444...</td>\n",
       "    </tr>\n",
       "  </tbody>\n",
       "</table>\n",
       "</div>"
      ],
      "text/plain": [
       "   category                                           location\n",
       "0       pub  {'type': 'Point', 'coordinates': [-122.4220047...\n",
       "1       pub  {'type': 'Point', 'coordinates': [-122.4206407...\n",
       "2       pub  {'type': 'Point', 'coordinates': [-122.4052746...\n",
       "3       pub  {'type': 'Point', 'coordinates': [-122.4100374...\n",
       "4       pub  {'type': 'Point', 'coordinates': [-122.4212979...\n",
       "5       pub  {'type': 'Point', 'coordinates': [-122.4088611...\n",
       "6       pub  {'type': 'Point', 'coordinates': [-122.4143364...\n",
       "7       pub  {'type': 'Point', 'coordinates': [-122.4085, 3...\n",
       "8       pub  {'type': 'Point', 'coordinates': [-122.413792,...\n",
       "9       pub  {'type': 'Point', 'coordinates': [-122.4094049...\n",
       "10      pub  {'type': 'Point', 'coordinates': [-122.4204128...\n",
       "11      pub  {'type': 'Point', 'coordinates': [-122.414007,...\n",
       "12      pub  {'type': 'Point', 'coordinates': [-122.4193399...\n",
       "13      pub  {'type': 'Point', 'coordinates': [-122.4064201...\n",
       "14      pub  {'type': 'Point', 'coordinates': [-122.3981969...\n",
       "15      pub  {'type': 'Point', 'coordinates': [-122.420771,...\n",
       "16      pub  {'type': 'Point', 'coordinates': [-122.4190216...\n",
       "17      pub  {'type': 'Point', 'coordinates': [-122.4134032...\n",
       "18      pub  {'type': 'Point', 'coordinates': [-122.433329,...\n",
       "19      pub  {'type': 'Point', 'coordinates': [-122.4144444..."
      ]
     },
     "execution_count": 121,
     "metadata": {},
     "output_type": "execute_result"
    }
   ],
   "source": [
    "lista_pubs = []\n",
    "for e in pubs[\"results\"]:\n",
    "    lista_pubs.append({\"category\":\"pub\",\"location\":{\"type\":\"Point\",\"coordinates\":[e[\"geometry\"][\"location\"][\"lng\"],e[\"geometry\"][\"location\"][\"lat\"]]}})\n",
    "\n",
    "df_pubs = pd.DataFrame(lista_pubs)\n",
    "df_pubs"
   ]
  },
  {
   "cell_type": "code",
   "execution_count": 122,
   "metadata": {},
   "outputs": [],
   "source": [
    "requisitos=pd.concat([df_airport,df_cafe,df_pubs,df_vegano],axis=0)"
   ]
  },
  {
   "cell_type": "code",
   "execution_count": 123,
   "metadata": {},
   "outputs": [
    {
     "data": {
      "text/html": [
       "<div>\n",
       "<style scoped>\n",
       "    .dataframe tbody tr th:only-of-type {\n",
       "        vertical-align: middle;\n",
       "    }\n",
       "\n",
       "    .dataframe tbody tr th {\n",
       "        vertical-align: top;\n",
       "    }\n",
       "\n",
       "    .dataframe thead th {\n",
       "        text-align: right;\n",
       "    }\n",
       "</style>\n",
       "<table border=\"1\" class=\"dataframe\">\n",
       "  <thead>\n",
       "    <tr style=\"text-align: right;\">\n",
       "      <th></th>\n",
       "      <th>category</th>\n",
       "      <th>location</th>\n",
       "    </tr>\n",
       "  </thead>\n",
       "  <tbody>\n",
       "    <tr>\n",
       "      <th>0</th>\n",
       "      <td>airport</td>\n",
       "      <td>{'type': 'Point', 'coordinates': [-122.422096,...</td>\n",
       "    </tr>\n",
       "    <tr>\n",
       "      <th>0</th>\n",
       "      <td>Starbucks</td>\n",
       "      <td>{'type': 'Point', 'coordinates': [-122.4042684...</td>\n",
       "    </tr>\n",
       "    <tr>\n",
       "      <th>1</th>\n",
       "      <td>Starbucks</td>\n",
       "      <td>{'type': 'Point', 'coordinates': [-122.38783, ...</td>\n",
       "    </tr>\n",
       "    <tr>\n",
       "      <th>2</th>\n",
       "      <td>Starbucks</td>\n",
       "      <td>{'type': 'Point', 'coordinates': [-122.40385, ...</td>\n",
       "    </tr>\n",
       "    <tr>\n",
       "      <th>3</th>\n",
       "      <td>Starbucks</td>\n",
       "      <td>{'type': 'Point', 'coordinates': [-122.406831,...</td>\n",
       "    </tr>\n",
       "  </tbody>\n",
       "</table>\n",
       "</div>"
      ],
      "text/plain": [
       "    category                                           location\n",
       "0    airport  {'type': 'Point', 'coordinates': [-122.422096,...\n",
       "0  Starbucks  {'type': 'Point', 'coordinates': [-122.4042684...\n",
       "1  Starbucks  {'type': 'Point', 'coordinates': [-122.38783, ...\n",
       "2  Starbucks  {'type': 'Point', 'coordinates': [-122.40385, ...\n",
       "3  Starbucks  {'type': 'Point', 'coordinates': [-122.406831,..."
      ]
     },
     "execution_count": 123,
     "metadata": {},
     "output_type": "execute_result"
    }
   ],
   "source": [
    "requisitos.head()"
   ]
  },
  {
   "cell_type": "code",
   "execution_count": 124,
   "metadata": {},
   "outputs": [],
   "source": [
    "requisitos.to_json(\"../output/requisitos.json\",orient=\"records\")\n",
    "requisitos.to_csv(\"../output/requisitos.csv\")"
   ]
  },
  {
   "cell_type": "code",
   "execution_count": null,
   "metadata": {},
   "outputs": [],
   "source": []
  }
 ],
 "metadata": {
  "kernelspec": {
   "display_name": "Python 3",
   "language": "python",
   "name": "python3"
  },
  "language_info": {
   "codemirror_mode": {
    "name": "ipython",
    "version": 3
   },
   "file_extension": ".py",
   "mimetype": "text/x-python",
   "name": "python",
   "nbconvert_exporter": "python",
   "pygments_lexer": "ipython3",
   "version": "3.7.5"
  }
 },
 "nbformat": 4,
 "nbformat_minor": 4
}
