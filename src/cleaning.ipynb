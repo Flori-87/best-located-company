{
 "cells": [
  {
   "cell_type": "markdown",
   "metadata": {},
   "source": [
    "# **Dataset cleaning**"
   ]
  },
  {
   "cell_type": "code",
   "execution_count": 69,
   "metadata": {},
   "outputs": [],
   "source": [
    "import pandas as pd\n",
    "from pymongo import MongoClient\n",
    "from bson.json_util import dumps\n",
    "from fc_cleaning import *"
   ]
  },
  {
   "cell_type": "code",
   "execution_count": 70,
   "metadata": {},
   "outputs": [],
   "source": [
    "client = MongoClient(\"mongodb://localhost/datamad0320\")\n",
    "db = client.get_database()"
   ]
  },
  {
   "cell_type": "code",
   "execution_count": 71,
   "metadata": {},
   "outputs": [],
   "source": [
    "# Getting dataset from MongoDB\n",
    "all_companies = db.companies.find({},{\"name\":1,\"offices\":1,\"total_money_raised\":1,\"number_of_employees\":1,\n",
    "                                   \"founded_year\":1,\"category_code\":1})"
   ]
  },
  {
   "cell_type": "code",
   "execution_count": 72,
   "metadata": {},
   "outputs": [
    {
     "data": {
      "text/html": [
       "<div>\n",
       "<style scoped>\n",
       "    .dataframe tbody tr th:only-of-type {\n",
       "        vertical-align: middle;\n",
       "    }\n",
       "\n",
       "    .dataframe tbody tr th {\n",
       "        vertical-align: top;\n",
       "    }\n",
       "\n",
       "    .dataframe thead th {\n",
       "        text-align: right;\n",
       "    }\n",
       "</style>\n",
       "<table border=\"1\" class=\"dataframe\">\n",
       "  <thead>\n",
       "    <tr style=\"text-align: right;\">\n",
       "      <th></th>\n",
       "      <th>_id</th>\n",
       "      <th>name</th>\n",
       "      <th>category_code</th>\n",
       "      <th>number_of_employees</th>\n",
       "      <th>founded_year</th>\n",
       "      <th>total_money_raised</th>\n",
       "      <th>offices</th>\n",
       "    </tr>\n",
       "  </thead>\n",
       "  <tbody>\n",
       "    <tr>\n",
       "      <th>0</th>\n",
       "      <td>52cdef7c4bab8bd675297d8b</td>\n",
       "      <td>AdventNet</td>\n",
       "      <td>enterprise</td>\n",
       "      <td>600.0</td>\n",
       "      <td>1996.0</td>\n",
       "      <td>$0</td>\n",
       "      <td>[{'description': 'Headquarters', 'address1': '...</td>\n",
       "    </tr>\n",
       "    <tr>\n",
       "      <th>1</th>\n",
       "      <td>52cdef7c4bab8bd675297d92</td>\n",
       "      <td>Flektor</td>\n",
       "      <td>games_video</td>\n",
       "      <td>NaN</td>\n",
       "      <td>NaN</td>\n",
       "      <td>$0</td>\n",
       "      <td>[{'description': None, 'address1': '8536 Natio...</td>\n",
       "    </tr>\n",
       "    <tr>\n",
       "      <th>2</th>\n",
       "      <td>52cdef7c4bab8bd675297d8c</td>\n",
       "      <td>Zoho</td>\n",
       "      <td>software</td>\n",
       "      <td>1600.0</td>\n",
       "      <td>2005.0</td>\n",
       "      <td>$0</td>\n",
       "      <td>[{'description': 'Headquarters', 'address1': '...</td>\n",
       "    </tr>\n",
       "    <tr>\n",
       "      <th>3</th>\n",
       "      <td>52cdef7c4bab8bd675297d8a</td>\n",
       "      <td>Wetpaint</td>\n",
       "      <td>web</td>\n",
       "      <td>47.0</td>\n",
       "      <td>2005.0</td>\n",
       "      <td>$39.8M</td>\n",
       "      <td>[{'description': '', 'address1': '710 - 2nd Av...</td>\n",
       "    </tr>\n",
       "    <tr>\n",
       "      <th>4</th>\n",
       "      <td>52cdef7c4bab8bd675297d93</td>\n",
       "      <td>Fox Interactive Media</td>\n",
       "      <td>web</td>\n",
       "      <td>0.0</td>\n",
       "      <td>1979.0</td>\n",
       "      <td>$0</td>\n",
       "      <td>[{'description': '', 'address1': '407 N Maple ...</td>\n",
       "    </tr>\n",
       "  </tbody>\n",
       "</table>\n",
       "</div>"
      ],
      "text/plain": [
       "                        _id                   name category_code  \\\n",
       "0  52cdef7c4bab8bd675297d8b              AdventNet    enterprise   \n",
       "1  52cdef7c4bab8bd675297d92                Flektor   games_video   \n",
       "2  52cdef7c4bab8bd675297d8c                   Zoho      software   \n",
       "3  52cdef7c4bab8bd675297d8a               Wetpaint           web   \n",
       "4  52cdef7c4bab8bd675297d93  Fox Interactive Media           web   \n",
       "\n",
       "   number_of_employees  founded_year total_money_raised  \\\n",
       "0                600.0        1996.0                 $0   \n",
       "1                  NaN           NaN                 $0   \n",
       "2               1600.0        2005.0                 $0   \n",
       "3                 47.0        2005.0             $39.8M   \n",
       "4                  0.0        1979.0                 $0   \n",
       "\n",
       "                                             offices  \n",
       "0  [{'description': 'Headquarters', 'address1': '...  \n",
       "1  [{'description': None, 'address1': '8536 Natio...  \n",
       "2  [{'description': 'Headquarters', 'address1': '...  \n",
       "3  [{'description': '', 'address1': '710 - 2nd Av...  \n",
       "4  [{'description': '', 'address1': '407 N Maple ...  "
      ]
     },
     "metadata": {},
     "output_type": "display_data"
    },
    {
     "data": {
      "text/plain": [
       "(18801, 7)"
      ]
     },
     "metadata": {},
     "output_type": "display_data"
    }
   ],
   "source": [
    "df = pd.DataFrame(all_companies)\n",
    "display(df.head(),df.shape)"
   ]
  },
  {
   "cell_type": "code",
   "execution_count": 73,
   "metadata": {},
   "outputs": [
    {
     "name": "stderr",
     "output_type": "stream",
     "text": [
      "/home/flori/.local/lib/python3.7/site-packages/pandas/core/indexing.py:671: SettingWithCopyWarning: \n",
      "A value is trying to be set on a copy of a slice from a DataFrame\n",
      "\n",
      "See the caveats in the documentation: https://pandas.pydata.org/pandas-docs/stable/user_guide/indexing.html#returning-a-view-versus-a-copy\n",
      "  self._setitem_with_indexer(indexer, value)\n"
     ]
    }
   ],
   "source": [
    "# Changing \"_id\" to json format to not get errors when they are saved into a json file\n",
    "for i in range(len(df[\"_id\"])):\n",
    "    df[\"_id\"].iloc[i] = dumps(df[\"_id\"].iloc[i])"
   ]
  },
  {
   "cell_type": "markdown",
   "metadata": {},
   "source": [
    "### **Split column \"offices\" by the offices which contains**"
   ]
  },
  {
   "cell_type": "code",
   "execution_count": 74,
   "metadata": {},
   "outputs": [
    {
     "data": {
      "text/html": [
       "<div>\n",
       "<style scoped>\n",
       "    .dataframe tbody tr th:only-of-type {\n",
       "        vertical-align: middle;\n",
       "    }\n",
       "\n",
       "    .dataframe tbody tr th {\n",
       "        vertical-align: top;\n",
       "    }\n",
       "\n",
       "    .dataframe thead th {\n",
       "        text-align: right;\n",
       "    }\n",
       "</style>\n",
       "<table border=\"1\" class=\"dataframe\">\n",
       "  <thead>\n",
       "    <tr style=\"text-align: right;\">\n",
       "      <th></th>\n",
       "      <th>_id</th>\n",
       "      <th>name</th>\n",
       "      <th>category_code</th>\n",
       "      <th>number_of_employees</th>\n",
       "      <th>founded_year</th>\n",
       "      <th>total_money_raised</th>\n",
       "      <th>offices</th>\n",
       "    </tr>\n",
       "  </thead>\n",
       "  <tbody>\n",
       "    <tr>\n",
       "      <th>0</th>\n",
       "      <td>{\"$oid\": \"52cdef7c4bab8bd675297d8b\"}</td>\n",
       "      <td>AdventNet</td>\n",
       "      <td>enterprise</td>\n",
       "      <td>600.0</td>\n",
       "      <td>1996.0</td>\n",
       "      <td>$0</td>\n",
       "      <td>{'description': 'Headquarters', 'address1': '4...</td>\n",
       "    </tr>\n",
       "    <tr>\n",
       "      <th>1</th>\n",
       "      <td>{\"$oid\": \"52cdef7c4bab8bd675297d92\"}</td>\n",
       "      <td>Flektor</td>\n",
       "      <td>games_video</td>\n",
       "      <td>NaN</td>\n",
       "      <td>NaN</td>\n",
       "      <td>$0</td>\n",
       "      <td>{'description': None, 'address1': '8536 Nation...</td>\n",
       "    </tr>\n",
       "    <tr>\n",
       "      <th>2</th>\n",
       "      <td>{\"$oid\": \"52cdef7c4bab8bd675297d8c\"}</td>\n",
       "      <td>Zoho</td>\n",
       "      <td>software</td>\n",
       "      <td>1600.0</td>\n",
       "      <td>2005.0</td>\n",
       "      <td>$0</td>\n",
       "      <td>{'description': 'Headquarters', 'address1': '4...</td>\n",
       "    </tr>\n",
       "    <tr>\n",
       "      <th>3</th>\n",
       "      <td>{\"$oid\": \"52cdef7c4bab8bd675297d8a\"}</td>\n",
       "      <td>Wetpaint</td>\n",
       "      <td>web</td>\n",
       "      <td>47.0</td>\n",
       "      <td>2005.0</td>\n",
       "      <td>$39.8M</td>\n",
       "      <td>{'description': '', 'address1': '710 - 2nd Ave...</td>\n",
       "    </tr>\n",
       "    <tr>\n",
       "      <th>3</th>\n",
       "      <td>{\"$oid\": \"52cdef7c4bab8bd675297d8a\"}</td>\n",
       "      <td>Wetpaint</td>\n",
       "      <td>web</td>\n",
       "      <td>47.0</td>\n",
       "      <td>2005.0</td>\n",
       "      <td>$39.8M</td>\n",
       "      <td>{'description': '', 'address1': '270 Lafayette...</td>\n",
       "    </tr>\n",
       "  </tbody>\n",
       "</table>\n",
       "</div>"
      ],
      "text/plain": [
       "                                    _id       name category_code  \\\n",
       "0  {\"$oid\": \"52cdef7c4bab8bd675297d8b\"}  AdventNet    enterprise   \n",
       "1  {\"$oid\": \"52cdef7c4bab8bd675297d92\"}    Flektor   games_video   \n",
       "2  {\"$oid\": \"52cdef7c4bab8bd675297d8c\"}       Zoho      software   \n",
       "3  {\"$oid\": \"52cdef7c4bab8bd675297d8a\"}   Wetpaint           web   \n",
       "3  {\"$oid\": \"52cdef7c4bab8bd675297d8a\"}   Wetpaint           web   \n",
       "\n",
       "   number_of_employees  founded_year total_money_raised  \\\n",
       "0                600.0        1996.0                 $0   \n",
       "1                  NaN           NaN                 $0   \n",
       "2               1600.0        2005.0                 $0   \n",
       "3                 47.0        2005.0             $39.8M   \n",
       "3                 47.0        2005.0             $39.8M   \n",
       "\n",
       "                                             offices  \n",
       "0  {'description': 'Headquarters', 'address1': '4...  \n",
       "1  {'description': None, 'address1': '8536 Nation...  \n",
       "2  {'description': 'Headquarters', 'address1': '4...  \n",
       "3  {'description': '', 'address1': '710 - 2nd Ave...  \n",
       "3  {'description': '', 'address1': '270 Lafayette...  "
      ]
     },
     "metadata": {},
     "output_type": "display_data"
    },
    {
     "data": {
      "text/plain": [
       "(21762, 7)"
      ]
     },
     "metadata": {},
     "output_type": "display_data"
    }
   ],
   "source": [
    "# using explode() function to split the column \"offices\" in the different offices that are containing in this array\n",
    "df = df.explode(\"offices\")\n",
    "display(df.head(),df.shape)"
   ]
  },
  {
   "cell_type": "markdown",
   "metadata": {},
   "source": [
    "#### 1. Name of cities where offices are located"
   ]
  },
  {
   "cell_type": "code",
   "execution_count": 75,
   "metadata": {},
   "outputs": [
    {
     "data": {
      "text/html": [
       "<div>\n",
       "<style scoped>\n",
       "    .dataframe tbody tr th:only-of-type {\n",
       "        vertical-align: middle;\n",
       "    }\n",
       "\n",
       "    .dataframe tbody tr th {\n",
       "        vertical-align: top;\n",
       "    }\n",
       "\n",
       "    .dataframe thead th {\n",
       "        text-align: right;\n",
       "    }\n",
       "</style>\n",
       "<table border=\"1\" class=\"dataframe\">\n",
       "  <thead>\n",
       "    <tr style=\"text-align: right;\">\n",
       "      <th></th>\n",
       "      <th>city</th>\n",
       "    </tr>\n",
       "  </thead>\n",
       "  <tbody>\n",
       "    <tr>\n",
       "      <th>0</th>\n",
       "      <td>Pleasanton</td>\n",
       "    </tr>\n",
       "    <tr>\n",
       "      <th>1</th>\n",
       "      <td>Culver City</td>\n",
       "    </tr>\n",
       "    <tr>\n",
       "      <th>2</th>\n",
       "      <td>Pleasanton</td>\n",
       "    </tr>\n",
       "    <tr>\n",
       "      <th>3</th>\n",
       "      <td>Seattle</td>\n",
       "    </tr>\n",
       "    <tr>\n",
       "      <th>3</th>\n",
       "      <td>New York</td>\n",
       "    </tr>\n",
       "  </tbody>\n",
       "</table>\n",
       "</div>"
      ],
      "text/plain": [
       "          city\n",
       "0   Pleasanton\n",
       "1  Culver City\n",
       "2   Pleasanton\n",
       "3      Seattle\n",
       "3     New York"
      ]
     },
     "execution_count": 75,
     "metadata": {},
     "output_type": "execute_result"
    }
   ],
   "source": [
    "#function to get city names where offices are located\n",
    "city = pd.DataFrame(df.apply(getCity, axis=1))\n",
    "city.columns=[\"city\"]\n",
    "city.head()"
   ]
  },
  {
   "cell_type": "code",
   "execution_count": 76,
   "metadata": {},
   "outputs": [
    {
     "data": {
      "text/html": [
       "<div>\n",
       "<style scoped>\n",
       "    .dataframe tbody tr th:only-of-type {\n",
       "        vertical-align: middle;\n",
       "    }\n",
       "\n",
       "    .dataframe tbody tr th {\n",
       "        vertical-align: top;\n",
       "    }\n",
       "\n",
       "    .dataframe thead th {\n",
       "        text-align: right;\n",
       "    }\n",
       "</style>\n",
       "<table border=\"1\" class=\"dataframe\">\n",
       "  <thead>\n",
       "    <tr style=\"text-align: right;\">\n",
       "      <th></th>\n",
       "      <th>_id</th>\n",
       "      <th>name</th>\n",
       "      <th>category_code</th>\n",
       "      <th>number_of_employees</th>\n",
       "      <th>founded_year</th>\n",
       "      <th>total_money_raised</th>\n",
       "      <th>offices</th>\n",
       "      <th>city</th>\n",
       "    </tr>\n",
       "  </thead>\n",
       "  <tbody>\n",
       "    <tr>\n",
       "      <th>0</th>\n",
       "      <td>{\"$oid\": \"52cdef7c4bab8bd675297d8b\"}</td>\n",
       "      <td>AdventNet</td>\n",
       "      <td>enterprise</td>\n",
       "      <td>600.0</td>\n",
       "      <td>1996.0</td>\n",
       "      <td>$0</td>\n",
       "      <td>{'description': 'Headquarters', 'address1': '4...</td>\n",
       "      <td>Pleasanton</td>\n",
       "    </tr>\n",
       "    <tr>\n",
       "      <th>1</th>\n",
       "      <td>{\"$oid\": \"52cdef7c4bab8bd675297d92\"}</td>\n",
       "      <td>Flektor</td>\n",
       "      <td>games_video</td>\n",
       "      <td>NaN</td>\n",
       "      <td>NaN</td>\n",
       "      <td>$0</td>\n",
       "      <td>{'description': None, 'address1': '8536 Nation...</td>\n",
       "      <td>Culver City</td>\n",
       "    </tr>\n",
       "    <tr>\n",
       "      <th>2</th>\n",
       "      <td>{\"$oid\": \"52cdef7c4bab8bd675297d8c\"}</td>\n",
       "      <td>Zoho</td>\n",
       "      <td>software</td>\n",
       "      <td>1600.0</td>\n",
       "      <td>2005.0</td>\n",
       "      <td>$0</td>\n",
       "      <td>{'description': 'Headquarters', 'address1': '4...</td>\n",
       "      <td>Pleasanton</td>\n",
       "    </tr>\n",
       "    <tr>\n",
       "      <th>3</th>\n",
       "      <td>{\"$oid\": \"52cdef7c4bab8bd675297d8a\"}</td>\n",
       "      <td>Wetpaint</td>\n",
       "      <td>web</td>\n",
       "      <td>47.0</td>\n",
       "      <td>2005.0</td>\n",
       "      <td>$39.8M</td>\n",
       "      <td>{'description': '', 'address1': '710 - 2nd Ave...</td>\n",
       "      <td>Seattle</td>\n",
       "    </tr>\n",
       "    <tr>\n",
       "      <th>3</th>\n",
       "      <td>{\"$oid\": \"52cdef7c4bab8bd675297d8a\"}</td>\n",
       "      <td>Wetpaint</td>\n",
       "      <td>web</td>\n",
       "      <td>47.0</td>\n",
       "      <td>2005.0</td>\n",
       "      <td>$39.8M</td>\n",
       "      <td>{'description': '', 'address1': '270 Lafayette...</td>\n",
       "      <td>New York</td>\n",
       "    </tr>\n",
       "  </tbody>\n",
       "</table>\n",
       "</div>"
      ],
      "text/plain": [
       "                                    _id       name category_code  \\\n",
       "0  {\"$oid\": \"52cdef7c4bab8bd675297d8b\"}  AdventNet    enterprise   \n",
       "1  {\"$oid\": \"52cdef7c4bab8bd675297d92\"}    Flektor   games_video   \n",
       "2  {\"$oid\": \"52cdef7c4bab8bd675297d8c\"}       Zoho      software   \n",
       "3  {\"$oid\": \"52cdef7c4bab8bd675297d8a\"}   Wetpaint           web   \n",
       "3  {\"$oid\": \"52cdef7c4bab8bd675297d8a\"}   Wetpaint           web   \n",
       "\n",
       "   number_of_employees  founded_year total_money_raised  \\\n",
       "0                600.0        1996.0                 $0   \n",
       "1                  NaN           NaN                 $0   \n",
       "2               1600.0        2005.0                 $0   \n",
       "3                 47.0        2005.0             $39.8M   \n",
       "3                 47.0        2005.0             $39.8M   \n",
       "\n",
       "                                             offices         city  \n",
       "0  {'description': 'Headquarters', 'address1': '4...   Pleasanton  \n",
       "1  {'description': None, 'address1': '8536 Nation...  Culver City  \n",
       "2  {'description': 'Headquarters', 'address1': '4...   Pleasanton  \n",
       "3  {'description': '', 'address1': '710 - 2nd Ave...      Seattle  \n",
       "3  {'description': '', 'address1': '270 Lafayette...     New York  "
      ]
     },
     "metadata": {},
     "output_type": "display_data"
    },
    {
     "data": {
      "text/plain": [
       "(21762, 8)"
      ]
     },
     "metadata": {},
     "output_type": "display_data"
    }
   ],
   "source": [
    "df = pd.concat([df,city], axis=1)\n",
    "display(df.head(),df.shape)"
   ]
  },
  {
   "cell_type": "markdown",
   "metadata": {},
   "source": [
    "#### 2. Location of offices (GeoPoint)"
   ]
  },
  {
   "cell_type": "code",
   "execution_count": 77,
   "metadata": {},
   "outputs": [
    {
     "data": {
      "text/html": [
       "<div>\n",
       "<style scoped>\n",
       "    .dataframe tbody tr th:only-of-type {\n",
       "        vertical-align: middle;\n",
       "    }\n",
       "\n",
       "    .dataframe tbody tr th {\n",
       "        vertical-align: top;\n",
       "    }\n",
       "\n",
       "    .dataframe thead th {\n",
       "        text-align: right;\n",
       "    }\n",
       "</style>\n",
       "<table border=\"1\" class=\"dataframe\">\n",
       "  <thead>\n",
       "    <tr style=\"text-align: right;\">\n",
       "      <th></th>\n",
       "      <th>location</th>\n",
       "      <th>state</th>\n",
       "    </tr>\n",
       "  </thead>\n",
       "  <tbody>\n",
       "    <tr>\n",
       "      <th>0</th>\n",
       "      <td>{'type': 'Point', 'coordinates': [-121.904945,...</td>\n",
       "      <td>success</td>\n",
       "    </tr>\n",
       "    <tr>\n",
       "      <th>1</th>\n",
       "      <td>{'type': 'Point', 'coordinates': [-118.379768,...</td>\n",
       "      <td>success</td>\n",
       "    </tr>\n",
       "    <tr>\n",
       "      <th>2</th>\n",
       "      <td>{'type': 'Point', 'coordinates': [-121.904945,...</td>\n",
       "      <td>success</td>\n",
       "    </tr>\n",
       "    <tr>\n",
       "      <th>3</th>\n",
       "      <td>{'type': 'Point', 'coordinates': [-122.333253,...</td>\n",
       "      <td>success</td>\n",
       "    </tr>\n",
       "    <tr>\n",
       "      <th>3</th>\n",
       "      <td>{'type': 'Point', 'coordinates': [-73.9964312,...</td>\n",
       "      <td>success</td>\n",
       "    </tr>\n",
       "  </tbody>\n",
       "</table>\n",
       "</div>"
      ],
      "text/plain": [
       "                                            location    state\n",
       "0  {'type': 'Point', 'coordinates': [-121.904945,...  success\n",
       "1  {'type': 'Point', 'coordinates': [-118.379768,...  success\n",
       "2  {'type': 'Point', 'coordinates': [-121.904945,...  success\n",
       "3  {'type': 'Point', 'coordinates': [-122.333253,...  success\n",
       "3  {'type': 'Point', 'coordinates': [-73.9964312,...  success"
      ]
     },
     "metadata": {},
     "output_type": "display_data"
    },
    {
     "data": {
      "text/plain": [
       "(21762, 2)"
      ]
     },
     "metadata": {},
     "output_type": "display_data"
    }
   ],
   "source": [
    "# transform office object into GeoPoint for office\n",
    "cleaned_offices = df.apply(officeToGeoPoint, axis=1, result_type=\"expand\")\n",
    "cleaned_offices.columns = [\"location\",\"state\"]\n",
    "display(cleaned_offices.head(),cleaned_offices.shape)"
   ]
  },
  {
   "cell_type": "code",
   "execution_count": 78,
   "metadata": {},
   "outputs": [
    {
     "data": {
      "text/html": [
       "<div>\n",
       "<style scoped>\n",
       "    .dataframe tbody tr th:only-of-type {\n",
       "        vertical-align: middle;\n",
       "    }\n",
       "\n",
       "    .dataframe tbody tr th {\n",
       "        vertical-align: top;\n",
       "    }\n",
       "\n",
       "    .dataframe thead th {\n",
       "        text-align: right;\n",
       "    }\n",
       "</style>\n",
       "<table border=\"1\" class=\"dataframe\">\n",
       "  <thead>\n",
       "    <tr style=\"text-align: right;\">\n",
       "      <th></th>\n",
       "      <th>_id</th>\n",
       "      <th>name</th>\n",
       "      <th>category_code</th>\n",
       "      <th>number_of_employees</th>\n",
       "      <th>founded_year</th>\n",
       "      <th>total_money_raised</th>\n",
       "      <th>offices</th>\n",
       "      <th>city</th>\n",
       "      <th>location</th>\n",
       "      <th>state</th>\n",
       "    </tr>\n",
       "  </thead>\n",
       "  <tbody>\n",
       "    <tr>\n",
       "      <th>0</th>\n",
       "      <td>{\"$oid\": \"52cdef7c4bab8bd675297d8b\"}</td>\n",
       "      <td>AdventNet</td>\n",
       "      <td>enterprise</td>\n",
       "      <td>600.0</td>\n",
       "      <td>1996.0</td>\n",
       "      <td>$0</td>\n",
       "      <td>{'description': 'Headquarters', 'address1': '4...</td>\n",
       "      <td>Pleasanton</td>\n",
       "      <td>{'type': 'Point', 'coordinates': [-121.904945,...</td>\n",
       "      <td>success</td>\n",
       "    </tr>\n",
       "    <tr>\n",
       "      <th>1</th>\n",
       "      <td>{\"$oid\": \"52cdef7c4bab8bd675297d92\"}</td>\n",
       "      <td>Flektor</td>\n",
       "      <td>games_video</td>\n",
       "      <td>NaN</td>\n",
       "      <td>NaN</td>\n",
       "      <td>$0</td>\n",
       "      <td>{'description': None, 'address1': '8536 Nation...</td>\n",
       "      <td>Culver City</td>\n",
       "      <td>{'type': 'Point', 'coordinates': [-118.379768,...</td>\n",
       "      <td>success</td>\n",
       "    </tr>\n",
       "    <tr>\n",
       "      <th>2</th>\n",
       "      <td>{\"$oid\": \"52cdef7c4bab8bd675297d8c\"}</td>\n",
       "      <td>Zoho</td>\n",
       "      <td>software</td>\n",
       "      <td>1600.0</td>\n",
       "      <td>2005.0</td>\n",
       "      <td>$0</td>\n",
       "      <td>{'description': 'Headquarters', 'address1': '4...</td>\n",
       "      <td>Pleasanton</td>\n",
       "      <td>{'type': 'Point', 'coordinates': [-121.904945,...</td>\n",
       "      <td>success</td>\n",
       "    </tr>\n",
       "    <tr>\n",
       "      <th>3</th>\n",
       "      <td>{\"$oid\": \"52cdef7c4bab8bd675297d8a\"}</td>\n",
       "      <td>Wetpaint</td>\n",
       "      <td>web</td>\n",
       "      <td>47.0</td>\n",
       "      <td>2005.0</td>\n",
       "      <td>$39.8M</td>\n",
       "      <td>{'description': '', 'address1': '710 - 2nd Ave...</td>\n",
       "      <td>Seattle</td>\n",
       "      <td>{'type': 'Point', 'coordinates': [-122.333253,...</td>\n",
       "      <td>success</td>\n",
       "    </tr>\n",
       "    <tr>\n",
       "      <th>3</th>\n",
       "      <td>{\"$oid\": \"52cdef7c4bab8bd675297d8a\"}</td>\n",
       "      <td>Wetpaint</td>\n",
       "      <td>web</td>\n",
       "      <td>47.0</td>\n",
       "      <td>2005.0</td>\n",
       "      <td>$39.8M</td>\n",
       "      <td>{'description': '', 'address1': '270 Lafayette...</td>\n",
       "      <td>New York</td>\n",
       "      <td>{'type': 'Point', 'coordinates': [-73.9964312,...</td>\n",
       "      <td>success</td>\n",
       "    </tr>\n",
       "  </tbody>\n",
       "</table>\n",
       "</div>"
      ],
      "text/plain": [
       "                                    _id       name category_code  \\\n",
       "0  {\"$oid\": \"52cdef7c4bab8bd675297d8b\"}  AdventNet    enterprise   \n",
       "1  {\"$oid\": \"52cdef7c4bab8bd675297d92\"}    Flektor   games_video   \n",
       "2  {\"$oid\": \"52cdef7c4bab8bd675297d8c\"}       Zoho      software   \n",
       "3  {\"$oid\": \"52cdef7c4bab8bd675297d8a\"}   Wetpaint           web   \n",
       "3  {\"$oid\": \"52cdef7c4bab8bd675297d8a\"}   Wetpaint           web   \n",
       "\n",
       "   number_of_employees  founded_year total_money_raised  \\\n",
       "0                600.0        1996.0                 $0   \n",
       "1                  NaN           NaN                 $0   \n",
       "2               1600.0        2005.0                 $0   \n",
       "3                 47.0        2005.0             $39.8M   \n",
       "3                 47.0        2005.0             $39.8M   \n",
       "\n",
       "                                             offices         city  \\\n",
       "0  {'description': 'Headquarters', 'address1': '4...   Pleasanton   \n",
       "1  {'description': None, 'address1': '8536 Nation...  Culver City   \n",
       "2  {'description': 'Headquarters', 'address1': '4...   Pleasanton   \n",
       "3  {'description': '', 'address1': '710 - 2nd Ave...      Seattle   \n",
       "3  {'description': '', 'address1': '270 Lafayette...     New York   \n",
       "\n",
       "                                            location    state  \n",
       "0  {'type': 'Point', 'coordinates': [-121.904945,...  success  \n",
       "1  {'type': 'Point', 'coordinates': [-118.379768,...  success  \n",
       "2  {'type': 'Point', 'coordinates': [-121.904945,...  success  \n",
       "3  {'type': 'Point', 'coordinates': [-122.333253,...  success  \n",
       "3  {'type': 'Point', 'coordinates': [-73.9964312,...  success  "
      ]
     },
     "metadata": {},
     "output_type": "display_data"
    },
    {
     "data": {
      "text/plain": [
       "(21762, 10)"
      ]
     },
     "metadata": {},
     "output_type": "display_data"
    }
   ],
   "source": [
    "df = pd.concat([df,cleaned_offices], axis=1)\n",
    "display(df.head(),df.shape)"
   ]
  },
  {
   "cell_type": "markdown",
   "metadata": {},
   "source": [
    "#### 3. Latitude and longitude from the GeoPoint values"
   ]
  },
  {
   "cell_type": "code",
   "execution_count": 79,
   "metadata": {},
   "outputs": [],
   "source": [
    "## function to get latitude and longitude values from GeoPoint location\n",
    "lat_long = df.apply(easyLatLng,axis=1,result_type=\"expand\")\n",
    "lat_long.head()\n",
    "df = pd.concat([df,lat_long],axis=1)"
   ]
  },
  {
   "cell_type": "markdown",
   "metadata": {},
   "source": [
    "### **Cleaning of column \"total money raised\"**"
   ]
  },
  {
   "cell_type": "code",
   "execution_count": 80,
   "metadata": {},
   "outputs": [],
   "source": [
    "# function to group total_money_raised values by currency and units (only to see how many different values we have)\n",
    "#print(list(company_processed[\"total_money_raised\"].value_counts().index))\n",
    "df[\"total_money_raised_cleaning\"] = df[\"total_money_raised\"].apply(getTypeMoney)"
   ]
  },
  {
   "cell_type": "code",
   "execution_count": 81,
   "metadata": {},
   "outputs": [
    {
     "data": {
      "text/plain": [
       "$      15527\n",
       "$M      5059\n",
       "$k       705\n",
       "€M       201\n",
       "€k       104\n",
       "£M        80\n",
       "£k        37\n",
       "C$M       19\n",
       "$B        15\n",
       "C$k        9\n",
       "¥M         3\n",
       "¥B         2\n",
       "krM        1\n",
       "Name: total_money_raised_cleaning, dtype: int64"
      ]
     },
     "execution_count": 81,
     "metadata": {},
     "output_type": "execute_result"
    }
   ],
   "source": [
    "df[\"total_money_raised_cleaning\"].value_counts()"
   ]
  },
  {
   "cell_type": "code",
   "execution_count": 82,
   "metadata": {},
   "outputs": [
    {
     "data": {
      "text/html": [
       "<div>\n",
       "<style scoped>\n",
       "    .dataframe tbody tr th:only-of-type {\n",
       "        vertical-align: middle;\n",
       "    }\n",
       "\n",
       "    .dataframe tbody tr th {\n",
       "        vertical-align: top;\n",
       "    }\n",
       "\n",
       "    .dataframe thead th {\n",
       "        text-align: right;\n",
       "    }\n",
       "</style>\n",
       "<table border=\"1\" class=\"dataframe\">\n",
       "  <thead>\n",
       "    <tr style=\"text-align: right;\">\n",
       "      <th></th>\n",
       "      <th>total_money_raised ($k)</th>\n",
       "      <th>money_state</th>\n",
       "    </tr>\n",
       "  </thead>\n",
       "  <tbody>\n",
       "    <tr>\n",
       "      <th>0</th>\n",
       "      <td>0.0</td>\n",
       "      <td>success</td>\n",
       "    </tr>\n",
       "    <tr>\n",
       "      <th>1</th>\n",
       "      <td>0.0</td>\n",
       "      <td>success</td>\n",
       "    </tr>\n",
       "    <tr>\n",
       "      <th>2</th>\n",
       "      <td>0.0</td>\n",
       "      <td>success</td>\n",
       "    </tr>\n",
       "    <tr>\n",
       "      <th>3</th>\n",
       "      <td>39800.0</td>\n",
       "      <td>success</td>\n",
       "    </tr>\n",
       "    <tr>\n",
       "      <th>3</th>\n",
       "      <td>39800.0</td>\n",
       "      <td>success</td>\n",
       "    </tr>\n",
       "  </tbody>\n",
       "</table>\n",
       "</div>"
      ],
      "text/plain": [
       "   total_money_raised ($k) money_state\n",
       "0                      0.0     success\n",
       "1                      0.0     success\n",
       "2                      0.0     success\n",
       "3                  39800.0     success\n",
       "3                  39800.0     success"
      ]
     },
     "execution_count": 82,
     "metadata": {},
     "output_type": "execute_result"
    }
   ],
   "source": [
    "# function to transform total_money_raised values into $ an k units    \n",
    "money_conversion = df.apply(getMoney,axis=1,result_type=\"expand\")\n",
    "money_conversion.columns=[\"total_money_raised ($k)\",\"money_state\"]\n",
    "money_conversion.head()"
   ]
  },
  {
   "cell_type": "code",
   "execution_count": 83,
   "metadata": {},
   "outputs": [
    {
     "data": {
      "text/plain": [
       "(21762, 2)"
      ]
     },
     "metadata": {},
     "output_type": "display_data"
    },
    {
     "data": {
      "text/plain": [
       "success    21762\n",
       "Name: money_state, dtype: int64"
      ]
     },
     "execution_count": 83,
     "metadata": {},
     "output_type": "execute_result"
    }
   ],
   "source": [
    "display(money_conversion.shape)\n",
    "money_conversion.money_state.value_counts()"
   ]
  },
  {
   "cell_type": "code",
   "execution_count": 84,
   "metadata": {},
   "outputs": [
    {
     "data": {
      "text/html": [
       "<div>\n",
       "<style scoped>\n",
       "    .dataframe tbody tr th:only-of-type {\n",
       "        vertical-align: middle;\n",
       "    }\n",
       "\n",
       "    .dataframe tbody tr th {\n",
       "        vertical-align: top;\n",
       "    }\n",
       "\n",
       "    .dataframe thead th {\n",
       "        text-align: right;\n",
       "    }\n",
       "</style>\n",
       "<table border=\"1\" class=\"dataframe\">\n",
       "  <thead>\n",
       "    <tr style=\"text-align: right;\">\n",
       "      <th></th>\n",
       "      <th>_id</th>\n",
       "      <th>name</th>\n",
       "      <th>category_code</th>\n",
       "      <th>number_of_employees</th>\n",
       "      <th>founded_year</th>\n",
       "      <th>total_money_raised</th>\n",
       "      <th>offices</th>\n",
       "      <th>city</th>\n",
       "      <th>location</th>\n",
       "      <th>state</th>\n",
       "      <th>latitude</th>\n",
       "      <th>longitude</th>\n",
       "      <th>total_money_raised_cleaning</th>\n",
       "      <th>total_money_raised ($k)</th>\n",
       "      <th>money_state</th>\n",
       "    </tr>\n",
       "  </thead>\n",
       "  <tbody>\n",
       "    <tr>\n",
       "      <th>0</th>\n",
       "      <td>{\"$oid\": \"52cdef7c4bab8bd675297d8b\"}</td>\n",
       "      <td>AdventNet</td>\n",
       "      <td>enterprise</td>\n",
       "      <td>600.0</td>\n",
       "      <td>1996.0</td>\n",
       "      <td>$0</td>\n",
       "      <td>{'description': 'Headquarters', 'address1': '4...</td>\n",
       "      <td>Pleasanton</td>\n",
       "      <td>{'type': 'Point', 'coordinates': [-121.904945,...</td>\n",
       "      <td>success</td>\n",
       "      <td>37.6929</td>\n",
       "      <td>-121.905</td>\n",
       "      <td>$</td>\n",
       "      <td>0.0</td>\n",
       "      <td>success</td>\n",
       "    </tr>\n",
       "    <tr>\n",
       "      <th>1</th>\n",
       "      <td>{\"$oid\": \"52cdef7c4bab8bd675297d92\"}</td>\n",
       "      <td>Flektor</td>\n",
       "      <td>games_video</td>\n",
       "      <td>NaN</td>\n",
       "      <td>NaN</td>\n",
       "      <td>$0</td>\n",
       "      <td>{'description': None, 'address1': '8536 Nation...</td>\n",
       "      <td>Culver City</td>\n",
       "      <td>{'type': 'Point', 'coordinates': [-118.379768,...</td>\n",
       "      <td>success</td>\n",
       "      <td>34.026</td>\n",
       "      <td>-118.38</td>\n",
       "      <td>$</td>\n",
       "      <td>0.0</td>\n",
       "      <td>success</td>\n",
       "    </tr>\n",
       "    <tr>\n",
       "      <th>2</th>\n",
       "      <td>{\"$oid\": \"52cdef7c4bab8bd675297d8c\"}</td>\n",
       "      <td>Zoho</td>\n",
       "      <td>software</td>\n",
       "      <td>1600.0</td>\n",
       "      <td>2005.0</td>\n",
       "      <td>$0</td>\n",
       "      <td>{'description': 'Headquarters', 'address1': '4...</td>\n",
       "      <td>Pleasanton</td>\n",
       "      <td>{'type': 'Point', 'coordinates': [-121.904945,...</td>\n",
       "      <td>success</td>\n",
       "      <td>37.6929</td>\n",
       "      <td>-121.905</td>\n",
       "      <td>$</td>\n",
       "      <td>0.0</td>\n",
       "      <td>success</td>\n",
       "    </tr>\n",
       "    <tr>\n",
       "      <th>3</th>\n",
       "      <td>{\"$oid\": \"52cdef7c4bab8bd675297d8a\"}</td>\n",
       "      <td>Wetpaint</td>\n",
       "      <td>web</td>\n",
       "      <td>47.0</td>\n",
       "      <td>2005.0</td>\n",
       "      <td>$39.8M</td>\n",
       "      <td>{'description': '', 'address1': '710 - 2nd Ave...</td>\n",
       "      <td>Seattle</td>\n",
       "      <td>{'type': 'Point', 'coordinates': [-122.333253,...</td>\n",
       "      <td>success</td>\n",
       "      <td>47.6031</td>\n",
       "      <td>-122.333</td>\n",
       "      <td>$M</td>\n",
       "      <td>39800.0</td>\n",
       "      <td>success</td>\n",
       "    </tr>\n",
       "    <tr>\n",
       "      <th>3</th>\n",
       "      <td>{\"$oid\": \"52cdef7c4bab8bd675297d8a\"}</td>\n",
       "      <td>Wetpaint</td>\n",
       "      <td>web</td>\n",
       "      <td>47.0</td>\n",
       "      <td>2005.0</td>\n",
       "      <td>$39.8M</td>\n",
       "      <td>{'description': '', 'address1': '270 Lafayette...</td>\n",
       "      <td>New York</td>\n",
       "      <td>{'type': 'Point', 'coordinates': [-73.9964312,...</td>\n",
       "      <td>success</td>\n",
       "      <td>40.7237</td>\n",
       "      <td>-73.9964</td>\n",
       "      <td>$M</td>\n",
       "      <td>39800.0</td>\n",
       "      <td>success</td>\n",
       "    </tr>\n",
       "  </tbody>\n",
       "</table>\n",
       "</div>"
      ],
      "text/plain": [
       "                                    _id       name category_code  \\\n",
       "0  {\"$oid\": \"52cdef7c4bab8bd675297d8b\"}  AdventNet    enterprise   \n",
       "1  {\"$oid\": \"52cdef7c4bab8bd675297d92\"}    Flektor   games_video   \n",
       "2  {\"$oid\": \"52cdef7c4bab8bd675297d8c\"}       Zoho      software   \n",
       "3  {\"$oid\": \"52cdef7c4bab8bd675297d8a\"}   Wetpaint           web   \n",
       "3  {\"$oid\": \"52cdef7c4bab8bd675297d8a\"}   Wetpaint           web   \n",
       "\n",
       "   number_of_employees  founded_year total_money_raised  \\\n",
       "0                600.0        1996.0                 $0   \n",
       "1                  NaN           NaN                 $0   \n",
       "2               1600.0        2005.0                 $0   \n",
       "3                 47.0        2005.0             $39.8M   \n",
       "3                 47.0        2005.0             $39.8M   \n",
       "\n",
       "                                             offices         city  \\\n",
       "0  {'description': 'Headquarters', 'address1': '4...   Pleasanton   \n",
       "1  {'description': None, 'address1': '8536 Nation...  Culver City   \n",
       "2  {'description': 'Headquarters', 'address1': '4...   Pleasanton   \n",
       "3  {'description': '', 'address1': '710 - 2nd Ave...      Seattle   \n",
       "3  {'description': '', 'address1': '270 Lafayette...     New York   \n",
       "\n",
       "                                            location    state latitude  \\\n",
       "0  {'type': 'Point', 'coordinates': [-121.904945,...  success  37.6929   \n",
       "1  {'type': 'Point', 'coordinates': [-118.379768,...  success   34.026   \n",
       "2  {'type': 'Point', 'coordinates': [-121.904945,...  success  37.6929   \n",
       "3  {'type': 'Point', 'coordinates': [-122.333253,...  success  47.6031   \n",
       "3  {'type': 'Point', 'coordinates': [-73.9964312,...  success  40.7237   \n",
       "\n",
       "  longitude total_money_raised_cleaning  total_money_raised ($k) money_state  \n",
       "0  -121.905                           $                      0.0     success  \n",
       "1   -118.38                           $                      0.0     success  \n",
       "2  -121.905                           $                      0.0     success  \n",
       "3  -122.333                          $M                  39800.0     success  \n",
       "3  -73.9964                          $M                  39800.0     success  "
      ]
     },
     "metadata": {},
     "output_type": "display_data"
    },
    {
     "data": {
      "text/plain": [
       "(21762, 15)"
      ]
     },
     "metadata": {},
     "output_type": "display_data"
    }
   ],
   "source": [
    "df = pd.concat([df,money_conversion], axis=1)\n",
    "display(df.head(),df.shape)"
   ]
  },
  {
   "cell_type": "markdown",
   "metadata": {},
   "source": [
    "### **Removing unnecessary columns**"
   ]
  },
  {
   "cell_type": "code",
   "execution_count": 85,
   "metadata": {},
   "outputs": [],
   "source": [
    "df_clean = df.drop(columns=[\"total_money_raised_cleaning\",\"offices\",\"total_money_raised\",\"money_state\",\"state\"])"
   ]
  },
  {
   "cell_type": "code",
   "execution_count": 86,
   "metadata": {},
   "outputs": [
    {
     "data": {
      "text/html": [
       "<div>\n",
       "<style scoped>\n",
       "    .dataframe tbody tr th:only-of-type {\n",
       "        vertical-align: middle;\n",
       "    }\n",
       "\n",
       "    .dataframe tbody tr th {\n",
       "        vertical-align: top;\n",
       "    }\n",
       "\n",
       "    .dataframe thead th {\n",
       "        text-align: right;\n",
       "    }\n",
       "</style>\n",
       "<table border=\"1\" class=\"dataframe\">\n",
       "  <thead>\n",
       "    <tr style=\"text-align: right;\">\n",
       "      <th></th>\n",
       "      <th>_id</th>\n",
       "      <th>name</th>\n",
       "      <th>category_code</th>\n",
       "      <th>number_of_employees</th>\n",
       "      <th>founded_year</th>\n",
       "      <th>city</th>\n",
       "      <th>location</th>\n",
       "      <th>latitude</th>\n",
       "      <th>longitude</th>\n",
       "      <th>total_money_raised ($k)</th>\n",
       "    </tr>\n",
       "  </thead>\n",
       "  <tbody>\n",
       "    <tr>\n",
       "      <th>0</th>\n",
       "      <td>{\"$oid\": \"52cdef7c4bab8bd675297d8b\"}</td>\n",
       "      <td>AdventNet</td>\n",
       "      <td>enterprise</td>\n",
       "      <td>600.0</td>\n",
       "      <td>1996.0</td>\n",
       "      <td>Pleasanton</td>\n",
       "      <td>{'type': 'Point', 'coordinates': [-121.904945,...</td>\n",
       "      <td>37.6929</td>\n",
       "      <td>-121.905</td>\n",
       "      <td>0.0</td>\n",
       "    </tr>\n",
       "    <tr>\n",
       "      <th>1</th>\n",
       "      <td>{\"$oid\": \"52cdef7c4bab8bd675297d92\"}</td>\n",
       "      <td>Flektor</td>\n",
       "      <td>games_video</td>\n",
       "      <td>NaN</td>\n",
       "      <td>NaN</td>\n",
       "      <td>Culver City</td>\n",
       "      <td>{'type': 'Point', 'coordinates': [-118.379768,...</td>\n",
       "      <td>34.026</td>\n",
       "      <td>-118.38</td>\n",
       "      <td>0.0</td>\n",
       "    </tr>\n",
       "    <tr>\n",
       "      <th>2</th>\n",
       "      <td>{\"$oid\": \"52cdef7c4bab8bd675297d8c\"}</td>\n",
       "      <td>Zoho</td>\n",
       "      <td>software</td>\n",
       "      <td>1600.0</td>\n",
       "      <td>2005.0</td>\n",
       "      <td>Pleasanton</td>\n",
       "      <td>{'type': 'Point', 'coordinates': [-121.904945,...</td>\n",
       "      <td>37.6929</td>\n",
       "      <td>-121.905</td>\n",
       "      <td>0.0</td>\n",
       "    </tr>\n",
       "    <tr>\n",
       "      <th>3</th>\n",
       "      <td>{\"$oid\": \"52cdef7c4bab8bd675297d8a\"}</td>\n",
       "      <td>Wetpaint</td>\n",
       "      <td>web</td>\n",
       "      <td>47.0</td>\n",
       "      <td>2005.0</td>\n",
       "      <td>Seattle</td>\n",
       "      <td>{'type': 'Point', 'coordinates': [-122.333253,...</td>\n",
       "      <td>47.6031</td>\n",
       "      <td>-122.333</td>\n",
       "      <td>39800.0</td>\n",
       "    </tr>\n",
       "    <tr>\n",
       "      <th>3</th>\n",
       "      <td>{\"$oid\": \"52cdef7c4bab8bd675297d8a\"}</td>\n",
       "      <td>Wetpaint</td>\n",
       "      <td>web</td>\n",
       "      <td>47.0</td>\n",
       "      <td>2005.0</td>\n",
       "      <td>New York</td>\n",
       "      <td>{'type': 'Point', 'coordinates': [-73.9964312,...</td>\n",
       "      <td>40.7237</td>\n",
       "      <td>-73.9964</td>\n",
       "      <td>39800.0</td>\n",
       "    </tr>\n",
       "  </tbody>\n",
       "</table>\n",
       "</div>"
      ],
      "text/plain": [
       "                                    _id       name category_code  \\\n",
       "0  {\"$oid\": \"52cdef7c4bab8bd675297d8b\"}  AdventNet    enterprise   \n",
       "1  {\"$oid\": \"52cdef7c4bab8bd675297d92\"}    Flektor   games_video   \n",
       "2  {\"$oid\": \"52cdef7c4bab8bd675297d8c\"}       Zoho      software   \n",
       "3  {\"$oid\": \"52cdef7c4bab8bd675297d8a\"}   Wetpaint           web   \n",
       "3  {\"$oid\": \"52cdef7c4bab8bd675297d8a\"}   Wetpaint           web   \n",
       "\n",
       "   number_of_employees  founded_year         city  \\\n",
       "0                600.0        1996.0   Pleasanton   \n",
       "1                  NaN           NaN  Culver City   \n",
       "2               1600.0        2005.0   Pleasanton   \n",
       "3                 47.0        2005.0      Seattle   \n",
       "3                 47.0        2005.0     New York   \n",
       "\n",
       "                                            location latitude longitude  \\\n",
       "0  {'type': 'Point', 'coordinates': [-121.904945,...  37.6929  -121.905   \n",
       "1  {'type': 'Point', 'coordinates': [-118.379768,...   34.026   -118.38   \n",
       "2  {'type': 'Point', 'coordinates': [-121.904945,...  37.6929  -121.905   \n",
       "3  {'type': 'Point', 'coordinates': [-122.333253,...  47.6031  -122.333   \n",
       "3  {'type': 'Point', 'coordinates': [-73.9964312,...  40.7237  -73.9964   \n",
       "\n",
       "   total_money_raised ($k)  \n",
       "0                      0.0  \n",
       "1                      0.0  \n",
       "2                      0.0  \n",
       "3                  39800.0  \n",
       "3                  39800.0  "
      ]
     },
     "metadata": {},
     "output_type": "display_data"
    },
    {
     "data": {
      "text/plain": [
       "(21762, 10)"
      ]
     },
     "metadata": {},
     "output_type": "display_data"
    }
   ],
   "source": [
    "display(df_clean.head(),df_clean.shape)"
   ]
  },
  {
   "cell_type": "markdown",
   "metadata": {},
   "source": [
    "# **Analysis to choose a city**"
   ]
  },
  {
   "cell_type": "markdown",
   "metadata": {},
   "source": [
    "#### **First, cities where there are companies doing design**"
   ]
  },
  {
   "cell_type": "code",
   "execution_count": 87,
   "metadata": {},
   "outputs": [
    {
     "data": {
      "text/plain": [
       "San Francisco    1\n",
       "Berlin           1\n",
       "Collingwood      1\n",
       "Ellensburg       1\n",
       "London           1\n",
       "Brooklyn         1\n",
       "Name: city, dtype: int64"
      ]
     },
     "execution_count": 87,
     "metadata": {},
     "output_type": "execute_result"
    }
   ],
   "source": [
    "df_clean[\"city\"][df_clean[\"category_code\"]==\"design\"].value_counts()"
   ]
  },
  {
   "cell_type": "markdown",
   "metadata": {},
   "source": [
    "#### **Next, cities where more tech startups exist with a \"total_money_raised\" greater than or equal to $1M. The \"founded_year\" of the company has to be after 2009**"
   ]
  },
  {
   "cell_type": "code",
   "execution_count": 88,
   "metadata": {},
   "outputs": [
    {
     "data": {
      "text/plain": [
       "San Francisco          3\n",
       "Hopkinton              2\n",
       "Scottsdale             2\n",
       "NoOffice               2\n",
       "Denver                 2\n",
       "Los Altos              1\n",
       "SOUTH BOSTON           1\n",
       "Santa Monica           1\n",
       "Bangalore              1\n",
       "Tel Aviv               1\n",
       "Waterloo, ON           1\n",
       "San Jose               1\n",
       "South San Francisco    1\n",
       "London                 1\n",
       "New York               1\n",
       "San Mateo              1\n",
       "Fremont                1\n",
       "Los Angeles            1\n",
       "Palo Alto              1\n",
       "Beverly Hills          1\n",
       "NoCity                 1\n",
       "Santa Clara            1\n",
       "Name: city, dtype: int64"
      ]
     },
     "execution_count": 88,
     "metadata": {},
     "output_type": "execute_result"
    }
   ],
   "source": [
    "# \"founded_year\" after 2009 because this dataset does not contain a company whose \"founded_year\" is after 2013 (this dataset may \n",
    "# be from 2014). So, \"founded_year\" will be 3 years before 2013\n",
    "df_clean[\"city\"][((df_clean[\"category_code\"]==\"web\")|(df_clean[\"category_code\"]== \"software\")|\n",
    "                  (df_clean[\"category_code\"]==\"games_video\")|(df_clean[\"category_code\"]==\"mobile\")|\n",
    "                  (df_clean[\"category_code\"]==\"network_hosting\")|(df_clean[\"category_code\"]==\"cleantech\")|\n",
    "                  (df_clean[\"category_code\"]==\"biotech\")|(df_clean[\"category_code\"]==\"photo_video\")|\n",
    "                  (df_clean[\"category_code\"]==\"hardware\")|(df_clean[\"category_code\"]==\"messaging\"))\n",
    "                 & (df_clean[\"founded_year\"]>=2010) & (df_clean[\"total_money_raised ($k)\"]>=float(1000))].value_counts()"
   ]
  },
  {
   "cell_type": "markdown",
   "metadata": {},
   "source": [
    "#### **Finally, cities classified by number companies (or offices)**"
   ]
  },
  {
   "cell_type": "code",
   "execution_count": 89,
   "metadata": {},
   "outputs": [
    {
     "data": {
      "text/plain": [
       "NoOffice         5057\n",
       "San Francisco     906\n",
       "New York          837\n",
       "NoCity            746\n",
       "London            616\n",
       "                 ... \n",
       "Lysaker             1\n",
       "Wrexham             1\n",
       "Montrose            1\n",
       "Chatham             1\n",
       "Goa                 1\n",
       "Name: city, Length: 3126, dtype: int64"
      ]
     },
     "execution_count": 89,
     "metadata": {},
     "output_type": "execute_result"
    }
   ],
   "source": [
    "df_clean[\"city\"].value_counts()"
   ]
  },
  {
   "cell_type": "markdown",
   "metadata": {},
   "source": [
    "#### **San Francisco is the city with more companies, with a design company and with more successful tech startups. So, San Francisco is going to be the city where the company will be located**"
   ]
  },
  {
   "cell_type": "code",
   "execution_count": 90,
   "metadata": {},
   "outputs": [],
   "source": [
    "# Choosing companies (or offices) located in San Francisco\n",
    "companiesSF = df_clean[df_clean[\"city\"]==\"San Francisco\"]"
   ]
  },
  {
   "cell_type": "code",
   "execution_count": 92,
   "metadata": {},
   "outputs": [],
   "source": [
    "# Removing \"_id\" column because several \"_id\" are repeated (due to the explode() function) and MongoDB does not import documents \n",
    "# with the same \"_id\"\n",
    "# Also, removing unncessary coolumns\n",
    "companiesSF= companiesSF.drop(columns=[\"_id\",\"city\"])"
   ]
  },
  {
   "cell_type": "code",
   "execution_count": 94,
   "metadata": {},
   "outputs": [],
   "source": [
    "companiesSF= companiesSF.reset_index()"
   ]
  },
  {
   "cell_type": "code",
   "execution_count": 96,
   "metadata": {},
   "outputs": [],
   "source": [
    "companiesSF= companiesSF.drop(columns=\"index\")"
   ]
  },
  {
   "cell_type": "code",
   "execution_count": 97,
   "metadata": {},
   "outputs": [
    {
     "data": {
      "text/html": [
       "<div>\n",
       "<style scoped>\n",
       "    .dataframe tbody tr th:only-of-type {\n",
       "        vertical-align: middle;\n",
       "    }\n",
       "\n",
       "    .dataframe tbody tr th {\n",
       "        vertical-align: top;\n",
       "    }\n",
       "\n",
       "    .dataframe thead th {\n",
       "        text-align: right;\n",
       "    }\n",
       "</style>\n",
       "<table border=\"1\" class=\"dataframe\">\n",
       "  <thead>\n",
       "    <tr style=\"text-align: right;\">\n",
       "      <th></th>\n",
       "      <th>name</th>\n",
       "      <th>category_code</th>\n",
       "      <th>number_of_employees</th>\n",
       "      <th>founded_year</th>\n",
       "      <th>location</th>\n",
       "      <th>latitude</th>\n",
       "      <th>longitude</th>\n",
       "      <th>total_money_raised ($k)</th>\n",
       "    </tr>\n",
       "  </thead>\n",
       "  <tbody>\n",
       "    <tr>\n",
       "      <th>0</th>\n",
       "      <td>Digg</td>\n",
       "      <td>news</td>\n",
       "      <td>60.0</td>\n",
       "      <td>2004.0</td>\n",
       "      <td>{'type': 'Point', 'coordinates': [-122.394523,...</td>\n",
       "      <td>37.7647</td>\n",
       "      <td>-122.395</td>\n",
       "      <td>45000.0</td>\n",
       "    </tr>\n",
       "    <tr>\n",
       "      <th>1</th>\n",
       "      <td>Scribd</td>\n",
       "      <td>news</td>\n",
       "      <td>50.0</td>\n",
       "      <td>2007.0</td>\n",
       "      <td>{'type': 'Point', 'coordinates': [-122.404052,...</td>\n",
       "      <td>37.7896</td>\n",
       "      <td>-122.404</td>\n",
       "      <td>25800.0</td>\n",
       "    </tr>\n",
       "    <tr>\n",
       "      <th>2</th>\n",
       "      <td>StumbleUpon</td>\n",
       "      <td>web</td>\n",
       "      <td>NaN</td>\n",
       "      <td>2002.0</td>\n",
       "      <td>{'type': 'Point', 'coordinates': [-122.419204,...</td>\n",
       "      <td>37.7752</td>\n",
       "      <td>-122.419</td>\n",
       "      <td>18500.0</td>\n",
       "    </tr>\n",
       "    <tr>\n",
       "      <th>3</th>\n",
       "      <td>Twitter</td>\n",
       "      <td>social</td>\n",
       "      <td>1300.0</td>\n",
       "      <td>2006.0</td>\n",
       "      <td>{'type': 'Point', 'coordinates': [-122.4169244...</td>\n",
       "      <td>37.7768</td>\n",
       "      <td>-122.417</td>\n",
       "      <td>1160000.0</td>\n",
       "    </tr>\n",
       "    <tr>\n",
       "      <th>4</th>\n",
       "      <td>Powerset</td>\n",
       "      <td>search</td>\n",
       "      <td>60.0</td>\n",
       "      <td>2006.0</td>\n",
       "      <td>{'type': 'Point', 'coordinates': [-122.395289,...</td>\n",
       "      <td>37.7786</td>\n",
       "      <td>-122.395</td>\n",
       "      <td>22500.0</td>\n",
       "    </tr>\n",
       "  </tbody>\n",
       "</table>\n",
       "</div>"
      ],
      "text/plain": [
       "          name category_code  number_of_employees  founded_year  \\\n",
       "0         Digg          news                 60.0        2004.0   \n",
       "1       Scribd          news                 50.0        2007.0   \n",
       "2  StumbleUpon           web                  NaN        2002.0   \n",
       "3      Twitter        social               1300.0        2006.0   \n",
       "4     Powerset        search                 60.0        2006.0   \n",
       "\n",
       "                                            location latitude longitude  \\\n",
       "0  {'type': 'Point', 'coordinates': [-122.394523,...  37.7647  -122.395   \n",
       "1  {'type': 'Point', 'coordinates': [-122.404052,...  37.7896  -122.404   \n",
       "2  {'type': 'Point', 'coordinates': [-122.419204,...  37.7752  -122.419   \n",
       "3  {'type': 'Point', 'coordinates': [-122.4169244...  37.7768  -122.417   \n",
       "4  {'type': 'Point', 'coordinates': [-122.395289,...  37.7786  -122.395   \n",
       "\n",
       "   total_money_raised ($k)  \n",
       "0                  45000.0  \n",
       "1                  25800.0  \n",
       "2                  18500.0  \n",
       "3                1160000.0  \n",
       "4                  22500.0  "
      ]
     },
     "metadata": {},
     "output_type": "display_data"
    },
    {
     "data": {
      "text/plain": [
       "(906, 8)"
      ]
     },
     "metadata": {},
     "output_type": "display_data"
    }
   ],
   "source": [
    "display(companiesSF.head(),companiesSF.shape)"
   ]
  },
  {
   "cell_type": "markdown",
   "metadata": {},
   "source": [
    "### **Save clean dataset**"
   ]
  },
  {
   "cell_type": "code",
   "execution_count": 98,
   "metadata": {},
   "outputs": [],
   "source": [
    "companiesSF.to_json(\"../output/companiesSF.json\",orient=\"records\")\n",
    "companiesSF.to_csv(\"../output/companiesSF.csv\")"
   ]
  }
 ],
 "metadata": {
  "kernelspec": {
   "display_name": "Python 3",
   "language": "python",
   "name": "python3"
  },
  "language_info": {
   "codemirror_mode": {
    "name": "ipython",
    "version": 3
   },
   "file_extension": ".py",
   "mimetype": "text/x-python",
   "name": "python",
   "nbconvert_exporter": "python",
   "pygments_lexer": "ipython3",
   "version": "3.7.5"
  }
 },
 "nbformat": 4,
 "nbformat_minor": 4
}
