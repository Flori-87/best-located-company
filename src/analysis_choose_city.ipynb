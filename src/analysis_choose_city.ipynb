{
 "cells": [
  {
   "cell_type": "markdown",
   "metadata": {},
   "source": [
    "# **Analysis to choose a city**"
   ]
  },
  {
   "cell_type": "code",
   "execution_count": 13,
   "metadata": {},
   "outputs": [],
   "source": [
    "import pandas as pd"
   ]
  },
  {
   "cell_type": "code",
   "execution_count": 14,
   "metadata": {},
   "outputs": [],
   "source": [
    "df_clean = pd.read_csv(\"../output/clean_dataset.csv\")"
   ]
  },
  {
   "cell_type": "code",
   "execution_count": 15,
   "metadata": {},
   "outputs": [
    {
     "data": {
      "text/html": [
       "<div>\n",
       "<style scoped>\n",
       "    .dataframe tbody tr th:only-of-type {\n",
       "        vertical-align: middle;\n",
       "    }\n",
       "\n",
       "    .dataframe tbody tr th {\n",
       "        vertical-align: top;\n",
       "    }\n",
       "\n",
       "    .dataframe thead th {\n",
       "        text-align: right;\n",
       "    }\n",
       "</style>\n",
       "<table border=\"1\" class=\"dataframe\">\n",
       "  <thead>\n",
       "    <tr style=\"text-align: right;\">\n",
       "      <th></th>\n",
       "      <th>Unnamed: 0</th>\n",
       "      <th>_id</th>\n",
       "      <th>name</th>\n",
       "      <th>category_code</th>\n",
       "      <th>number_of_employees</th>\n",
       "      <th>founded_year</th>\n",
       "      <th>city</th>\n",
       "      <th>location</th>\n",
       "      <th>latitude</th>\n",
       "      <th>longitude</th>\n",
       "      <th>total_money_raised ($k)</th>\n",
       "    </tr>\n",
       "  </thead>\n",
       "  <tbody>\n",
       "    <tr>\n",
       "      <th>0</th>\n",
       "      <td>0</td>\n",
       "      <td>{\"$oid\": \"52cdef7c4bab8bd675297d8b\"}</td>\n",
       "      <td>AdventNet</td>\n",
       "      <td>enterprise</td>\n",
       "      <td>600.0</td>\n",
       "      <td>1996.0</td>\n",
       "      <td>Pleasanton</td>\n",
       "      <td>{'type': 'Point', 'coordinates': [-121.904945,...</td>\n",
       "      <td>37.692934</td>\n",
       "      <td>-121.904945</td>\n",
       "      <td>0.0</td>\n",
       "    </tr>\n",
       "    <tr>\n",
       "      <th>1</th>\n",
       "      <td>1</td>\n",
       "      <td>{\"$oid\": \"52cdef7c4bab8bd675297d92\"}</td>\n",
       "      <td>Flektor</td>\n",
       "      <td>games_video</td>\n",
       "      <td>NaN</td>\n",
       "      <td>NaN</td>\n",
       "      <td>Culver City</td>\n",
       "      <td>{'type': 'Point', 'coordinates': [-118.379768,...</td>\n",
       "      <td>34.025958</td>\n",
       "      <td>-118.379768</td>\n",
       "      <td>0.0</td>\n",
       "    </tr>\n",
       "    <tr>\n",
       "      <th>2</th>\n",
       "      <td>2</td>\n",
       "      <td>{\"$oid\": \"52cdef7c4bab8bd675297d8c\"}</td>\n",
       "      <td>Zoho</td>\n",
       "      <td>software</td>\n",
       "      <td>1600.0</td>\n",
       "      <td>2005.0</td>\n",
       "      <td>Pleasanton</td>\n",
       "      <td>{'type': 'Point', 'coordinates': [-121.904945,...</td>\n",
       "      <td>37.692934</td>\n",
       "      <td>-121.904945</td>\n",
       "      <td>0.0</td>\n",
       "    </tr>\n",
       "    <tr>\n",
       "      <th>3</th>\n",
       "      <td>3</td>\n",
       "      <td>{\"$oid\": \"52cdef7c4bab8bd675297d8a\"}</td>\n",
       "      <td>Wetpaint</td>\n",
       "      <td>web</td>\n",
       "      <td>47.0</td>\n",
       "      <td>2005.0</td>\n",
       "      <td>Seattle</td>\n",
       "      <td>{'type': 'Point', 'coordinates': [-122.333253,...</td>\n",
       "      <td>47.603122</td>\n",
       "      <td>-122.333253</td>\n",
       "      <td>39800.0</td>\n",
       "    </tr>\n",
       "    <tr>\n",
       "      <th>4</th>\n",
       "      <td>3</td>\n",
       "      <td>{\"$oid\": \"52cdef7c4bab8bd675297d8a\"}</td>\n",
       "      <td>Wetpaint</td>\n",
       "      <td>web</td>\n",
       "      <td>47.0</td>\n",
       "      <td>2005.0</td>\n",
       "      <td>New York</td>\n",
       "      <td>{'type': 'Point', 'coordinates': [-73.9964312,...</td>\n",
       "      <td>40.7237306</td>\n",
       "      <td>-73.9964312</td>\n",
       "      <td>39800.0</td>\n",
       "    </tr>\n",
       "  </tbody>\n",
       "</table>\n",
       "</div>"
      ],
      "text/plain": [
       "   Unnamed: 0                                   _id       name category_code  \\\n",
       "0           0  {\"$oid\": \"52cdef7c4bab8bd675297d8b\"}  AdventNet    enterprise   \n",
       "1           1  {\"$oid\": \"52cdef7c4bab8bd675297d92\"}    Flektor   games_video   \n",
       "2           2  {\"$oid\": \"52cdef7c4bab8bd675297d8c\"}       Zoho      software   \n",
       "3           3  {\"$oid\": \"52cdef7c4bab8bd675297d8a\"}   Wetpaint           web   \n",
       "4           3  {\"$oid\": \"52cdef7c4bab8bd675297d8a\"}   Wetpaint           web   \n",
       "\n",
       "   number_of_employees  founded_year         city  \\\n",
       "0                600.0        1996.0   Pleasanton   \n",
       "1                  NaN           NaN  Culver City   \n",
       "2               1600.0        2005.0   Pleasanton   \n",
       "3                 47.0        2005.0      Seattle   \n",
       "4                 47.0        2005.0     New York   \n",
       "\n",
       "                                            location    latitude    longitude  \\\n",
       "0  {'type': 'Point', 'coordinates': [-121.904945,...   37.692934  -121.904945   \n",
       "1  {'type': 'Point', 'coordinates': [-118.379768,...   34.025958  -118.379768   \n",
       "2  {'type': 'Point', 'coordinates': [-121.904945,...   37.692934  -121.904945   \n",
       "3  {'type': 'Point', 'coordinates': [-122.333253,...   47.603122  -122.333253   \n",
       "4  {'type': 'Point', 'coordinates': [-73.9964312,...  40.7237306  -73.9964312   \n",
       "\n",
       "   total_money_raised ($k)  \n",
       "0                      0.0  \n",
       "1                      0.0  \n",
       "2                      0.0  \n",
       "3                  39800.0  \n",
       "4                  39800.0  "
      ]
     },
     "execution_count": 15,
     "metadata": {},
     "output_type": "execute_result"
    }
   ],
   "source": [
    "df_clean.head()"
   ]
  },
  {
   "cell_type": "markdown",
   "metadata": {},
   "source": [
    "#### **First, cities where there are companies doing design**"
   ]
  },
  {
   "cell_type": "code",
   "execution_count": 16,
   "metadata": {},
   "outputs": [
    {
     "data": {
      "text/plain": [
       "San Francisco    1\n",
       "London           1\n",
       "Berlin           1\n",
       "Brooklyn         1\n",
       "Collingwood      1\n",
       "Ellensburg       1\n",
       "Name: city, dtype: int64"
      ]
     },
     "execution_count": 16,
     "metadata": {},
     "output_type": "execute_result"
    }
   ],
   "source": [
    "df_clean[\"city\"][df_clean[\"category_code\"]==\"design\"].value_counts()"
   ]
  },
  {
   "cell_type": "markdown",
   "metadata": {},
   "source": [
    "#### **Next, cities where more tech startups exist with a \"total_money_raised\" greater than or equal to $1M. The \"founded_year\" of the company has to be after 2009**"
   ]
  },
  {
   "cell_type": "code",
   "execution_count": 17,
   "metadata": {},
   "outputs": [
    {
     "data": {
      "text/plain": [
       "San Francisco          3\n",
       "NoOffice               2\n",
       "Denver                 2\n",
       "Scottsdale             2\n",
       "Hopkinton              2\n",
       "Tel Aviv               1\n",
       "Santa Monica           1\n",
       "Los Angeles            1\n",
       "Bangalore              1\n",
       "Santa Clara            1\n",
       "New York               1\n",
       "SOUTH BOSTON           1\n",
       "Fremont                1\n",
       "NoCity                 1\n",
       "Waterloo, ON           1\n",
       "Palo Alto              1\n",
       "Los Altos              1\n",
       "San Mateo              1\n",
       "San Jose               1\n",
       "Beverly Hills          1\n",
       "London                 1\n",
       "South San Francisco    1\n",
       "Name: city, dtype: int64"
      ]
     },
     "execution_count": 17,
     "metadata": {},
     "output_type": "execute_result"
    }
   ],
   "source": [
    "# \"founded_year\" after 2009 because this dataset does not contain a company whose \"founded_year\" is after 2013 (this dataset may \n",
    "# be from 2014). So, \"founded_year\" will be 3 years before 2013\n",
    "df_clean[\"city\"][((df_clean[\"category_code\"]==\"web\")|(df_clean[\"category_code\"]== \"software\")|\n",
    "                  (df_clean[\"category_code\"]==\"games_video\")|(df_clean[\"category_code\"]==\"mobile\")|\n",
    "                  (df_clean[\"category_code\"]==\"network_hosting\")|(df_clean[\"category_code\"]==\"cleantech\")|\n",
    "                  (df_clean[\"category_code\"]==\"biotech\")|(df_clean[\"category_code\"]==\"photo_video\")|\n",
    "                  (df_clean[\"category_code\"]==\"hardware\")|(df_clean[\"category_code\"]==\"messaging\"))\n",
    "                 & (df_clean[\"founded_year\"]>=2010) & (df_clean[\"total_money_raised ($k)\"]>=float(1000))].value_counts()"
   ]
  },
  {
   "cell_type": "markdown",
   "metadata": {},
   "source": [
    "#### **Finally, cities classified by number companies (or offices)**"
   ]
  },
  {
   "cell_type": "code",
   "execution_count": 18,
   "metadata": {},
   "outputs": [
    {
     "data": {
      "text/plain": [
       "NoOffice              5057\n",
       "San Francisco          906\n",
       "New York               837\n",
       "NoCity                 746\n",
       "London                 616\n",
       "                      ... \n",
       "Brookfield               1\n",
       "Las Rozas (Madrid)       1\n",
       "Rossland                 1\n",
       "Gentbrugge               1\n",
       "Yorba Linda              1\n",
       "Name: city, Length: 3126, dtype: int64"
      ]
     },
     "execution_count": 18,
     "metadata": {},
     "output_type": "execute_result"
    }
   ],
   "source": [
    "df_clean[\"city\"].value_counts()"
   ]
  },
  {
   "cell_type": "markdown",
   "metadata": {},
   "source": [
    "#### **San Francisco is the city with more companies, with a design company and with more successful tech startups. So, San Francisco is going to be the city where the company will be located**"
   ]
  },
  {
   "cell_type": "code",
   "execution_count": 19,
   "metadata": {},
   "outputs": [],
   "source": [
    "# Choosing companies (or offices) located in San Francisco\n",
    "companiesSF = df_clean[df_clean[\"city\"]==\"San Francisco\"]"
   ]
  },
  {
   "cell_type": "code",
   "execution_count": 20,
   "metadata": {},
   "outputs": [],
   "source": [
    "# Removing \"_id\" column because several \"_id\" are repeated (due to the explode() function) and MongoDB does not import documents \n",
    "# with the same \"_id\"\n",
    "# Also, removing unncessary coolumns\n",
    "companiesSF= companiesSF.drop(columns=[\"_id\",\"Unnamed: 0\",\"city\"])"
   ]
  },
  {
   "cell_type": "code",
   "execution_count": 21,
   "metadata": {},
   "outputs": [
    {
     "data": {
      "text/html": [
       "<div>\n",
       "<style scoped>\n",
       "    .dataframe tbody tr th:only-of-type {\n",
       "        vertical-align: middle;\n",
       "    }\n",
       "\n",
       "    .dataframe tbody tr th {\n",
       "        vertical-align: top;\n",
       "    }\n",
       "\n",
       "    .dataframe thead th {\n",
       "        text-align: right;\n",
       "    }\n",
       "</style>\n",
       "<table border=\"1\" class=\"dataframe\">\n",
       "  <thead>\n",
       "    <tr style=\"text-align: right;\">\n",
       "      <th></th>\n",
       "      <th>name</th>\n",
       "      <th>category_code</th>\n",
       "      <th>number_of_employees</th>\n",
       "      <th>founded_year</th>\n",
       "      <th>location</th>\n",
       "      <th>latitude</th>\n",
       "      <th>longitude</th>\n",
       "      <th>total_money_raised ($k)</th>\n",
       "    </tr>\n",
       "  </thead>\n",
       "  <tbody>\n",
       "    <tr>\n",
       "      <th>7</th>\n",
       "      <td>Digg</td>\n",
       "      <td>news</td>\n",
       "      <td>60.0</td>\n",
       "      <td>2004.0</td>\n",
       "      <td>{'type': 'Point', 'coordinates': [-122.394523,...</td>\n",
       "      <td>37.764726</td>\n",
       "      <td>-122.394523</td>\n",
       "      <td>45000.0</td>\n",
       "    </tr>\n",
       "    <tr>\n",
       "      <th>9</th>\n",
       "      <td>Scribd</td>\n",
       "      <td>news</td>\n",
       "      <td>50.0</td>\n",
       "      <td>2007.0</td>\n",
       "      <td>{'type': 'Point', 'coordinates': [-122.404052,...</td>\n",
       "      <td>37.789634</td>\n",
       "      <td>-122.404052</td>\n",
       "      <td>25800.0</td>\n",
       "    </tr>\n",
       "    <tr>\n",
       "      <th>15</th>\n",
       "      <td>StumbleUpon</td>\n",
       "      <td>web</td>\n",
       "      <td>NaN</td>\n",
       "      <td>2002.0</td>\n",
       "      <td>{'type': 'Point', 'coordinates': [-122.419204,...</td>\n",
       "      <td>37.775196</td>\n",
       "      <td>-122.419204</td>\n",
       "      <td>18500.0</td>\n",
       "    </tr>\n",
       "    <tr>\n",
       "      <th>26</th>\n",
       "      <td>Twitter</td>\n",
       "      <td>social</td>\n",
       "      <td>1300.0</td>\n",
       "      <td>2006.0</td>\n",
       "      <td>{'type': 'Point', 'coordinates': [-122.4169244...</td>\n",
       "      <td>37.7768052</td>\n",
       "      <td>-122.4169244</td>\n",
       "      <td>1160000.0</td>\n",
       "    </tr>\n",
       "    <tr>\n",
       "      <th>28</th>\n",
       "      <td>Powerset</td>\n",
       "      <td>search</td>\n",
       "      <td>60.0</td>\n",
       "      <td>2006.0</td>\n",
       "      <td>{'type': 'Point', 'coordinates': [-122.395289,...</td>\n",
       "      <td>37.778613</td>\n",
       "      <td>-122.395289</td>\n",
       "      <td>22500.0</td>\n",
       "    </tr>\n",
       "  </tbody>\n",
       "</table>\n",
       "</div>"
      ],
      "text/plain": [
       "           name category_code  number_of_employees  founded_year  \\\n",
       "7          Digg          news                 60.0        2004.0   \n",
       "9        Scribd          news                 50.0        2007.0   \n",
       "15  StumbleUpon           web                  NaN        2002.0   \n",
       "26      Twitter        social               1300.0        2006.0   \n",
       "28     Powerset        search                 60.0        2006.0   \n",
       "\n",
       "                                             location    latitude  \\\n",
       "7   {'type': 'Point', 'coordinates': [-122.394523,...   37.764726   \n",
       "9   {'type': 'Point', 'coordinates': [-122.404052,...   37.789634   \n",
       "15  {'type': 'Point', 'coordinates': [-122.419204,...   37.775196   \n",
       "26  {'type': 'Point', 'coordinates': [-122.4169244...  37.7768052   \n",
       "28  {'type': 'Point', 'coordinates': [-122.395289,...   37.778613   \n",
       "\n",
       "       longitude  total_money_raised ($k)  \n",
       "7    -122.394523                  45000.0  \n",
       "9    -122.404052                  25800.0  \n",
       "15   -122.419204                  18500.0  \n",
       "26  -122.4169244                1160000.0  \n",
       "28   -122.395289                  22500.0  "
      ]
     },
     "metadata": {},
     "output_type": "display_data"
    },
    {
     "data": {
      "text/plain": [
       "(906, 8)"
      ]
     },
     "metadata": {},
     "output_type": "display_data"
    }
   ],
   "source": [
    "display(companiesSF.head(),companiesSF.shape)"
   ]
  },
  {
   "cell_type": "markdown",
   "metadata": {},
   "source": [
    "#### **Save dataset into json and csv formats**"
   ]
  },
  {
   "cell_type": "code",
   "execution_count": 22,
   "metadata": {},
   "outputs": [],
   "source": [
    "companiesSF.to_json(\"../output/companiesSF.json\",orient=\"records\")\n",
    "companiesSF.to_csv(\"../output/companiesSF.csv\")"
   ]
  }
 ],
 "metadata": {
  "kernelspec": {
   "display_name": "Python 3",
   "language": "python",
   "name": "python3"
  },
  "language_info": {
   "codemirror_mode": {
    "name": "ipython",
    "version": 3
   },
   "file_extension": ".py",
   "mimetype": "text/x-python",
   "name": "python",
   "nbconvert_exporter": "python",
   "pygments_lexer": "ipython3",
   "version": "3.7.5"
  }
 },
 "nbformat": 4,
 "nbformat_minor": 4
}
