{
 "cells": [
  {
   "cell_type": "markdown",
   "metadata": {},
   "source": [
    "# **Info from Google API**"
   ]
  },
  {
   "cell_type": "code",
   "execution_count": 46,
   "metadata": {},
   "outputs": [],
   "source": [
    "import re\n",
    "import pandas as pd\n",
    "from fc_API import *\n",
    "from fc_cleaning import easyLatLng"
   ]
  },
  {
   "cell_type": "markdown",
   "metadata": {},
   "source": [
    "### **Info about airports**"
   ]
  },
  {
   "cell_type": "code",
   "execution_count": 2,
   "metadata": {},
   "outputs": [
    {
     "name": "stdout",
     "output_type": "stream",
     "text": [
      "200\n"
     ]
    }
   ],
   "source": [
    "# getFromGoogle function to get info from the API\n",
    "# getQueryParams function to introduce query params in the requests\n",
    "airport = getFromGoogle(getQueryParams(20000,\"airport\",\"SFO\",None))"
   ]
  },
  {
   "cell_type": "code",
   "execution_count": 3,
   "metadata": {},
   "outputs": [
    {
     "data": {
      "text/plain": [
       "{'html_attributions': [],\n",
       " 'results': [{'geometry': {'location': {'lat': 37.6213129,\n",
       "     'lng': -122.3789554},\n",
       "    'viewport': {'northeast': {'lat': 37.62722864999999, 'lng': -122.36840685},\n",
       "     'southwest': {'lat': 37.60356565, 'lng': -122.41060105}}},\n",
       "   'icon': 'https://maps.gstatic.com/mapfiles/place_api/icons/airport-71.png',\n",
       "   'id': '9c9fb107d7a776c3f6a26791b07982d7db079113',\n",
       "   'name': 'San Francisco International Airport',\n",
       "   'photos': [{'height': 3648,\n",
       "     'html_attributions': ['<a href=\"https://maps.google.com/maps/contrib/107959744760686167125\">HongWei Huang</a>'],\n",
       "     'photo_reference': 'CmRaAAAAlokxEefbvjPzez7PC6quYVzWGHC6HcE5mMHJn1MDSWeP6-hwa6l3IxIKsBlHndKaQcZPNs7D4t3UqD4OPjCR4lavzn-2E5rRmD5tOcKVW3Tt4uhh-8IS_p4B3Zg41coPEhDNoFddb2Bn1mjPJEE-3MIzGhSZ5Mc_pk0ug__wWxEeBIfhg9jLTw',\n",
       "     'width': 5472}],\n",
       "   'place_id': 'ChIJVVVVVYx3j4ARP-3NGldc8qQ',\n",
       "   'plus_code': {'compound_code': 'JJCC+GC South San Francisco, California',\n",
       "    'global_code': '849VJJCC+GC'},\n",
       "   'rating': 3.9,\n",
       "   'reference': 'ChIJVVVVVYx3j4ARP-3NGldc8qQ',\n",
       "   'scope': 'GOOGLE',\n",
       "   'types': ['airport', 'point_of_interest', 'establishment'],\n",
       "   'user_ratings_total': 7015,\n",
       "   'vicinity': 'San Francisco'}],\n",
       " 'status': 'OK'}"
      ]
     },
     "execution_count": 3,
     "metadata": {},
     "output_type": "execute_result"
    }
   ],
   "source": [
    "airport"
   ]
  },
  {
   "cell_type": "code",
   "execution_count": 4,
   "metadata": {},
   "outputs": [
    {
     "data": {
      "text/html": [
       "<div>\n",
       "<style scoped>\n",
       "    .dataframe tbody tr th:only-of-type {\n",
       "        vertical-align: middle;\n",
       "    }\n",
       "\n",
       "    .dataframe tbody tr th {\n",
       "        vertical-align: top;\n",
       "    }\n",
       "\n",
       "    .dataframe thead th {\n",
       "        text-align: right;\n",
       "    }\n",
       "</style>\n",
       "<table border=\"1\" class=\"dataframe\">\n",
       "  <thead>\n",
       "    <tr style=\"text-align: right;\">\n",
       "      <th></th>\n",
       "      <th>category</th>\n",
       "      <th>name</th>\n",
       "      <th>location</th>\n",
       "    </tr>\n",
       "  </thead>\n",
       "  <tbody>\n",
       "    <tr>\n",
       "      <th>0</th>\n",
       "      <td>airport</td>\n",
       "      <td>San Francisco International Airport</td>\n",
       "      <td>{'type': 'Point', 'coordinates': [-122.3789554...</td>\n",
       "    </tr>\n",
       "  </tbody>\n",
       "</table>\n",
       "</div>"
      ],
      "text/plain": [
       "  category                                 name  \\\n",
       "0  airport  San Francisco International Airport   \n",
       "\n",
       "                                            location  \n",
       "0  {'type': 'Point', 'coordinates': [-122.3789554...  "
      ]
     },
     "execution_count": 4,
     "metadata": {},
     "output_type": "execute_result"
    }
   ],
   "source": [
    "# getInfoFromRes function to generate a list from the info of API response\n",
    "df_airport = pd.DataFrame(getInfoFromRes(airport,r\".*Francisco.*\",\"airport\"))\n",
    "df_airport"
   ]
  },
  {
   "cell_type": "markdown",
   "metadata": {},
   "source": [
    "### **Info about Starbucks**"
   ]
  },
  {
   "cell_type": "code",
   "execution_count": 5,
   "metadata": {},
   "outputs": [
    {
     "name": "stdout",
     "output_type": "stream",
     "text": [
      "200\n"
     ]
    }
   ],
   "source": [
    "cafe = getFromGoogle(getQueryParams(5000,\"cafe\",\"Starbucks\",None))"
   ]
  },
  {
   "cell_type": "code",
   "execution_count": 6,
   "metadata": {},
   "outputs": [
    {
     "data": {
      "text/html": [
       "<div>\n",
       "<style scoped>\n",
       "    .dataframe tbody tr th:only-of-type {\n",
       "        vertical-align: middle;\n",
       "    }\n",
       "\n",
       "    .dataframe tbody tr th {\n",
       "        vertical-align: top;\n",
       "    }\n",
       "\n",
       "    .dataframe thead th {\n",
       "        text-align: right;\n",
       "    }\n",
       "</style>\n",
       "<table border=\"1\" class=\"dataframe\">\n",
       "  <thead>\n",
       "    <tr style=\"text-align: right;\">\n",
       "      <th></th>\n",
       "      <th>category</th>\n",
       "      <th>name</th>\n",
       "      <th>location</th>\n",
       "    </tr>\n",
       "  </thead>\n",
       "  <tbody>\n",
       "    <tr>\n",
       "      <th>0</th>\n",
       "      <td>Starbucks</td>\n",
       "      <td>Starbucks</td>\n",
       "      <td>{'type': 'Point', 'coordinates': [-122.4042684...</td>\n",
       "    </tr>\n",
       "    <tr>\n",
       "      <th>1</th>\n",
       "      <td>Starbucks</td>\n",
       "      <td>Starbucks</td>\n",
       "      <td>{'type': 'Point', 'coordinates': [-122.38783, ...</td>\n",
       "    </tr>\n",
       "    <tr>\n",
       "      <th>2</th>\n",
       "      <td>Starbucks</td>\n",
       "      <td>Starbucks</td>\n",
       "      <td>{'type': 'Point', 'coordinates': [-122.40385, ...</td>\n",
       "    </tr>\n",
       "    <tr>\n",
       "      <th>3</th>\n",
       "      <td>Starbucks</td>\n",
       "      <td>Starbucks</td>\n",
       "      <td>{'type': 'Point', 'coordinates': [-122.406831,...</td>\n",
       "    </tr>\n",
       "    <tr>\n",
       "      <th>4</th>\n",
       "      <td>Starbucks</td>\n",
       "      <td>Starbucks</td>\n",
       "      <td>{'type': 'Point', 'coordinates': [-122.438964,...</td>\n",
       "    </tr>\n",
       "  </tbody>\n",
       "</table>\n",
       "</div>"
      ],
      "text/plain": [
       "    category       name                                           location\n",
       "0  Starbucks  Starbucks  {'type': 'Point', 'coordinates': [-122.4042684...\n",
       "1  Starbucks  Starbucks  {'type': 'Point', 'coordinates': [-122.38783, ...\n",
       "2  Starbucks  Starbucks  {'type': 'Point', 'coordinates': [-122.40385, ...\n",
       "3  Starbucks  Starbucks  {'type': 'Point', 'coordinates': [-122.406831,...\n",
       "4  Starbucks  Starbucks  {'type': 'Point', 'coordinates': [-122.438964,..."
      ]
     },
     "metadata": {},
     "output_type": "display_data"
    },
    {
     "data": {
      "text/plain": [
       "(20, 3)"
      ]
     },
     "metadata": {},
     "output_type": "display_data"
    }
   ],
   "source": [
    "df_cafe = pd.DataFrame(getInfoFromRes(cafe,r\".*Starbucks.*\",\"Starbucks\"))\n",
    "display(df_cafe.head(),df_cafe.shape)"
   ]
  },
  {
   "cell_type": "code",
   "execution_count": 39,
   "metadata": {},
   "outputs": [],
   "source": [
    "#print(cafe[\"next_page_token\"]) There are more pages"
   ]
  },
  {
   "cell_type": "code",
   "execution_count": 8,
   "metadata": {},
   "outputs": [
    {
     "name": "stdout",
     "output_type": "stream",
     "text": [
      "200\n"
     ]
    }
   ],
   "source": [
    "second_cafe = getFromGoogle(getQueryParams(5000,\"cafe\",\"Starbucks\",cafe[\"next_page_token\"]))"
   ]
  },
  {
   "cell_type": "code",
   "execution_count": 9,
   "metadata": {},
   "outputs": [
    {
     "data": {
      "text/html": [
       "<div>\n",
       "<style scoped>\n",
       "    .dataframe tbody tr th:only-of-type {\n",
       "        vertical-align: middle;\n",
       "    }\n",
       "\n",
       "    .dataframe tbody tr th {\n",
       "        vertical-align: top;\n",
       "    }\n",
       "\n",
       "    .dataframe thead th {\n",
       "        text-align: right;\n",
       "    }\n",
       "</style>\n",
       "<table border=\"1\" class=\"dataframe\">\n",
       "  <thead>\n",
       "    <tr style=\"text-align: right;\">\n",
       "      <th></th>\n",
       "      <th>category</th>\n",
       "      <th>name</th>\n",
       "      <th>location</th>\n",
       "    </tr>\n",
       "  </thead>\n",
       "  <tbody>\n",
       "    <tr>\n",
       "      <th>0</th>\n",
       "      <td>Starbucks</td>\n",
       "      <td>Starbucks</td>\n",
       "      <td>{'type': 'Point', 'coordinates': [-122.422096,...</td>\n",
       "    </tr>\n",
       "    <tr>\n",
       "      <th>1</th>\n",
       "      <td>Starbucks</td>\n",
       "      <td>Starbucks</td>\n",
       "      <td>{'type': 'Point', 'coordinates': [-122.415114,...</td>\n",
       "    </tr>\n",
       "    <tr>\n",
       "      <th>2</th>\n",
       "      <td>Starbucks</td>\n",
       "      <td>Starbucks</td>\n",
       "      <td>{'type': 'Point', 'coordinates': [-122.420425,...</td>\n",
       "    </tr>\n",
       "    <tr>\n",
       "      <th>3</th>\n",
       "      <td>Starbucks</td>\n",
       "      <td>Starbucks</td>\n",
       "      <td>{'type': 'Point', 'coordinates': [-122.3999959...</td>\n",
       "    </tr>\n",
       "    <tr>\n",
       "      <th>4</th>\n",
       "      <td>Starbucks</td>\n",
       "      <td>Starbucks</td>\n",
       "      <td>{'type': 'Point', 'coordinates': [-122.39713, ...</td>\n",
       "    </tr>\n",
       "  </tbody>\n",
       "</table>\n",
       "</div>"
      ],
      "text/plain": [
       "    category       name                                           location\n",
       "0  Starbucks  Starbucks  {'type': 'Point', 'coordinates': [-122.422096,...\n",
       "1  Starbucks  Starbucks  {'type': 'Point', 'coordinates': [-122.415114,...\n",
       "2  Starbucks  Starbucks  {'type': 'Point', 'coordinates': [-122.420425,...\n",
       "3  Starbucks  Starbucks  {'type': 'Point', 'coordinates': [-122.3999959...\n",
       "4  Starbucks  Starbucks  {'type': 'Point', 'coordinates': [-122.39713, ..."
      ]
     },
     "metadata": {},
     "output_type": "display_data"
    },
    {
     "data": {
      "text/plain": [
       "(20, 3)"
      ]
     },
     "metadata": {},
     "output_type": "display_data"
    }
   ],
   "source": [
    "df_second_cafe = pd.DataFrame(getInfoFromRes(second_cafe,r\".*Starbucks.*\",\"Starbucks\"))\n",
    "display(df_second_cafe.head(), df_second_cafe.shape)"
   ]
  },
  {
   "cell_type": "code",
   "execution_count": 10,
   "metadata": {},
   "outputs": [
    {
     "data": {
      "text/plain": [
       "(40, 3)"
      ]
     },
     "execution_count": 10,
     "metadata": {},
     "output_type": "execute_result"
    }
   ],
   "source": [
    "df_cafe = pd.concat([df_cafe,df_second_cafe],axis=0)\n",
    "df_cafe.shape"
   ]
  },
  {
   "cell_type": "code",
   "execution_count": 40,
   "metadata": {},
   "outputs": [],
   "source": [
    "#print(cafe2[\"next_page_token\"]) There are more pages"
   ]
  },
  {
   "cell_type": "code",
   "execution_count": 12,
   "metadata": {},
   "outputs": [
    {
     "name": "stdout",
     "output_type": "stream",
     "text": [
      "200\n"
     ]
    }
   ],
   "source": [
    "third_cafe = getFromGoogle(getQueryParams(5000,\"cafe\",\"Starbucks\",second_cafe[\"next_page_token\"]))"
   ]
  },
  {
   "cell_type": "code",
   "execution_count": 16,
   "metadata": {},
   "outputs": [
    {
     "data": {
      "text/html": [
       "<div>\n",
       "<style scoped>\n",
       "    .dataframe tbody tr th:only-of-type {\n",
       "        vertical-align: middle;\n",
       "    }\n",
       "\n",
       "    .dataframe tbody tr th {\n",
       "        vertical-align: top;\n",
       "    }\n",
       "\n",
       "    .dataframe thead th {\n",
       "        text-align: right;\n",
       "    }\n",
       "</style>\n",
       "<table border=\"1\" class=\"dataframe\">\n",
       "  <thead>\n",
       "    <tr style=\"text-align: right;\">\n",
       "      <th></th>\n",
       "      <th>category</th>\n",
       "      <th>name</th>\n",
       "      <th>location</th>\n",
       "    </tr>\n",
       "  </thead>\n",
       "  <tbody>\n",
       "    <tr>\n",
       "      <th>0</th>\n",
       "      <td>Starbucks</td>\n",
       "      <td>Starbucks</td>\n",
       "      <td>{'type': 'Point', 'coordinates': [-122.4011112...</td>\n",
       "    </tr>\n",
       "    <tr>\n",
       "      <th>1</th>\n",
       "      <td>Starbucks</td>\n",
       "      <td>Starbucks</td>\n",
       "      <td>{'type': 'Point', 'coordinates': [-122.3987895...</td>\n",
       "    </tr>\n",
       "    <tr>\n",
       "      <th>2</th>\n",
       "      <td>Starbucks</td>\n",
       "      <td>Starbucks Reserve</td>\n",
       "      <td>{'type': 'Point', 'coordinates': [-122.438558,...</td>\n",
       "    </tr>\n",
       "    <tr>\n",
       "      <th>3</th>\n",
       "      <td>Starbucks</td>\n",
       "      <td>Starbucks</td>\n",
       "      <td>{'type': 'Point', 'coordinates': [-122.410696,...</td>\n",
       "    </tr>\n",
       "    <tr>\n",
       "      <th>4</th>\n",
       "      <td>Starbucks</td>\n",
       "      <td>Starbucks</td>\n",
       "      <td>{'type': 'Point', 'coordinates': [-122.400508,...</td>\n",
       "    </tr>\n",
       "  </tbody>\n",
       "</table>\n",
       "</div>"
      ],
      "text/plain": [
       "    category               name  \\\n",
       "0  Starbucks          Starbucks   \n",
       "1  Starbucks          Starbucks   \n",
       "2  Starbucks  Starbucks Reserve   \n",
       "3  Starbucks          Starbucks   \n",
       "4  Starbucks          Starbucks   \n",
       "\n",
       "                                            location  \n",
       "0  {'type': 'Point', 'coordinates': [-122.4011112...  \n",
       "1  {'type': 'Point', 'coordinates': [-122.3987895...  \n",
       "2  {'type': 'Point', 'coordinates': [-122.438558,...  \n",
       "3  {'type': 'Point', 'coordinates': [-122.410696,...  \n",
       "4  {'type': 'Point', 'coordinates': [-122.400508,...  "
      ]
     },
     "metadata": {},
     "output_type": "display_data"
    },
    {
     "data": {
      "text/plain": [
       "(20, 3)"
      ]
     },
     "metadata": {},
     "output_type": "display_data"
    }
   ],
   "source": [
    "df_third_cafe = pd.DataFrame(getInfoFromRes(third_cafe,r\".*Starbucks.*\",\"Starbucks\"))\n",
    "display(df_third_cafe.head(), df_third_cafe.shape)"
   ]
  },
  {
   "cell_type": "code",
   "execution_count": 17,
   "metadata": {},
   "outputs": [
    {
     "data": {
      "text/plain": [
       "(60, 3)"
      ]
     },
     "execution_count": 17,
     "metadata": {},
     "output_type": "execute_result"
    }
   ],
   "source": [
    "# 60 Starbucks are enough\n",
    "df_cafe = pd.concat([df_cafe,df_third_cafe],axis=0)\n",
    "df_cafe.shape"
   ]
  },
  {
   "cell_type": "markdown",
   "metadata": {},
   "source": [
    "### **Info about vegan restaurants**"
   ]
  },
  {
   "cell_type": "code",
   "execution_count": 18,
   "metadata": {},
   "outputs": [
    {
     "name": "stdout",
     "output_type": "stream",
     "text": [
      "200\n"
     ]
    }
   ],
   "source": [
    "rest_vegan = getFromGoogle(getQueryParams(5000,\"restaurant\",\"vegan\",None))"
   ]
  },
  {
   "cell_type": "code",
   "execution_count": 19,
   "metadata": {},
   "outputs": [
    {
     "data": {
      "text/html": [
       "<div>\n",
       "<style scoped>\n",
       "    .dataframe tbody tr th:only-of-type {\n",
       "        vertical-align: middle;\n",
       "    }\n",
       "\n",
       "    .dataframe tbody tr th {\n",
       "        vertical-align: top;\n",
       "    }\n",
       "\n",
       "    .dataframe thead th {\n",
       "        text-align: right;\n",
       "    }\n",
       "</style>\n",
       "<table border=\"1\" class=\"dataframe\">\n",
       "  <thead>\n",
       "    <tr style=\"text-align: right;\">\n",
       "      <th></th>\n",
       "      <th>category</th>\n",
       "      <th>name</th>\n",
       "      <th>location</th>\n",
       "    </tr>\n",
       "  </thead>\n",
       "  <tbody>\n",
       "    <tr>\n",
       "      <th>0</th>\n",
       "      <td>vegan rest</td>\n",
       "      <td>Loving Hut Vegan Restaurant</td>\n",
       "      <td>{'type': 'Point', 'coordinates': [-122.4636464...</td>\n",
       "    </tr>\n",
       "    <tr>\n",
       "      <th>1</th>\n",
       "      <td>vegan rest</td>\n",
       "      <td>Indochine Vegan</td>\n",
       "      <td>{'type': 'Point', 'coordinates': [-122.4221595...</td>\n",
       "    </tr>\n",
       "    <tr>\n",
       "      <th>2</th>\n",
       "      <td>vegan rest</td>\n",
       "      <td>VeganBurg San Francisco</td>\n",
       "      <td>{'type': 'Point', 'coordinates': [-122.4464842...</td>\n",
       "    </tr>\n",
       "    <tr>\n",
       "      <th>3</th>\n",
       "      <td>vegan rest</td>\n",
       "      <td>Shizen Vegan Sushi Bar and Izakaya</td>\n",
       "      <td>{'type': 'Point', 'coordinates': [-122.4216815...</td>\n",
       "    </tr>\n",
       "    <tr>\n",
       "      <th>4</th>\n",
       "      <td>vegan rest</td>\n",
       "      <td>Vegan Picnic</td>\n",
       "      <td>{'type': 'Point', 'coordinates': [-122.4317498...</td>\n",
       "    </tr>\n",
       "  </tbody>\n",
       "</table>\n",
       "</div>"
      ],
      "text/plain": [
       "     category                                name  \\\n",
       "0  vegan rest         Loving Hut Vegan Restaurant   \n",
       "1  vegan rest                     Indochine Vegan   \n",
       "2  vegan rest             VeganBurg San Francisco   \n",
       "3  vegan rest  Shizen Vegan Sushi Bar and Izakaya   \n",
       "4  vegan rest                        Vegan Picnic   \n",
       "\n",
       "                                            location  \n",
       "0  {'type': 'Point', 'coordinates': [-122.4636464...  \n",
       "1  {'type': 'Point', 'coordinates': [-122.4221595...  \n",
       "2  {'type': 'Point', 'coordinates': [-122.4464842...  \n",
       "3  {'type': 'Point', 'coordinates': [-122.4216815...  \n",
       "4  {'type': 'Point', 'coordinates': [-122.4317498...  "
      ]
     },
     "metadata": {},
     "output_type": "display_data"
    },
    {
     "data": {
      "text/plain": [
       "(5, 3)"
      ]
     },
     "metadata": {},
     "output_type": "display_data"
    }
   ],
   "source": [
    "df_vegan = pd.DataFrame(getInfoFromRes(rest_vegan,r\".*(v|V)egan.*\",\"vegan rest\"))\n",
    "display(df_vegan.head(), df_vegan.shape)"
   ]
  },
  {
   "cell_type": "code",
   "execution_count": 41,
   "metadata": {},
   "outputs": [],
   "source": [
    "#print(rest_vegano[\"next_page_token\"]) There are more pages"
   ]
  },
  {
   "cell_type": "code",
   "execution_count": 21,
   "metadata": {},
   "outputs": [
    {
     "name": "stdout",
     "output_type": "stream",
     "text": [
      "200\n"
     ]
    }
   ],
   "source": [
    "second_rest_vegan = getFromGoogle(getQueryParams(5000,\"restaurant\",\"vegan\",rest_vegan[\"next_page_token\"]))"
   ]
  },
  {
   "cell_type": "code",
   "execution_count": 22,
   "metadata": {},
   "outputs": [
    {
     "data": {
      "text/html": [
       "<div>\n",
       "<style scoped>\n",
       "    .dataframe tbody tr th:only-of-type {\n",
       "        vertical-align: middle;\n",
       "    }\n",
       "\n",
       "    .dataframe tbody tr th {\n",
       "        vertical-align: top;\n",
       "    }\n",
       "\n",
       "    .dataframe thead th {\n",
       "        text-align: right;\n",
       "    }\n",
       "</style>\n",
       "<table border=\"1\" class=\"dataframe\">\n",
       "  <thead>\n",
       "    <tr style=\"text-align: right;\">\n",
       "      <th></th>\n",
       "      <th>category</th>\n",
       "      <th>name</th>\n",
       "      <th>location</th>\n",
       "    </tr>\n",
       "  </thead>\n",
       "  <tbody>\n",
       "    <tr>\n",
       "      <th>0</th>\n",
       "      <td>vegan rest</td>\n",
       "      <td>Vegan Picnic</td>\n",
       "      <td>{'type': 'Point', 'coordinates': [-122.4205203...</td>\n",
       "    </tr>\n",
       "  </tbody>\n",
       "</table>\n",
       "</div>"
      ],
      "text/plain": [
       "     category          name                                           location\n",
       "0  vegan rest  Vegan Picnic  {'type': 'Point', 'coordinates': [-122.4205203..."
      ]
     },
     "metadata": {},
     "output_type": "display_data"
    },
    {
     "data": {
      "text/plain": [
       "(1, 3)"
      ]
     },
     "metadata": {},
     "output_type": "display_data"
    }
   ],
   "source": [
    "df_second_vegan = pd.DataFrame(getInfoFromRes(second_rest_vegan,r\".*(v|V)egan.*\",\"vegan rest\"))\n",
    "display(df_second_vegan.head(), df_second_vegan.shape)"
   ]
  },
  {
   "cell_type": "code",
   "execution_count": 23,
   "metadata": {},
   "outputs": [
    {
     "data": {
      "text/plain": [
       "(6, 3)"
      ]
     },
     "execution_count": 23,
     "metadata": {},
     "output_type": "execute_result"
    }
   ],
   "source": [
    "df_vegan = pd.concat([df_vegan,df_second_vegan],axis=0)\n",
    "df_vegan.shape"
   ]
  },
  {
   "cell_type": "code",
   "execution_count": 42,
   "metadata": {},
   "outputs": [],
   "source": [
    "#print(rest_vegano2[\"next_page_token\"]) There are more pages"
   ]
  },
  {
   "cell_type": "code",
   "execution_count": 25,
   "metadata": {},
   "outputs": [
    {
     "name": "stdout",
     "output_type": "stream",
     "text": [
      "200\n"
     ]
    }
   ],
   "source": [
    "third_rest_vegan = getFromGoogle(getQueryParams(5000,\"restaurant\",\"vegan\",second_rest_vegan[\"next_page_token\"]))"
   ]
  },
  {
   "cell_type": "code",
   "execution_count": 26,
   "metadata": {},
   "outputs": [
    {
     "data": {
      "text/html": [
       "<div>\n",
       "<style scoped>\n",
       "    .dataframe tbody tr th:only-of-type {\n",
       "        vertical-align: middle;\n",
       "    }\n",
       "\n",
       "    .dataframe tbody tr th {\n",
       "        vertical-align: top;\n",
       "    }\n",
       "\n",
       "    .dataframe thead th {\n",
       "        text-align: right;\n",
       "    }\n",
       "</style>\n",
       "<table border=\"1\" class=\"dataframe\">\n",
       "  <thead>\n",
       "    <tr style=\"text-align: right;\">\n",
       "      <th></th>\n",
       "    </tr>\n",
       "  </thead>\n",
       "  <tbody>\n",
       "  </tbody>\n",
       "</table>\n",
       "</div>"
      ],
      "text/plain": [
       "Empty DataFrame\n",
       "Columns: []\n",
       "Index: []"
      ]
     },
     "metadata": {},
     "output_type": "display_data"
    },
    {
     "data": {
      "text/plain": [
       "(0, 0)"
      ]
     },
     "metadata": {},
     "output_type": "display_data"
    }
   ],
   "source": [
    "df_third_vegan = pd.DataFrame(getInfoFromRes(third_rest_vegan,r\".*(v|V)egan.*\",\"vegan rest\"))\n",
    "display(df_third_vegan.head(), df_third_vegan.shape)"
   ]
  },
  {
   "cell_type": "code",
   "execution_count": 27,
   "metadata": {},
   "outputs": [
    {
     "data": {
      "text/html": [
       "<div>\n",
       "<style scoped>\n",
       "    .dataframe tbody tr th:only-of-type {\n",
       "        vertical-align: middle;\n",
       "    }\n",
       "\n",
       "    .dataframe tbody tr th {\n",
       "        vertical-align: top;\n",
       "    }\n",
       "\n",
       "    .dataframe thead th {\n",
       "        text-align: right;\n",
       "    }\n",
       "</style>\n",
       "<table border=\"1\" class=\"dataframe\">\n",
       "  <thead>\n",
       "    <tr style=\"text-align: right;\">\n",
       "      <th></th>\n",
       "      <th>category</th>\n",
       "      <th>name</th>\n",
       "      <th>location</th>\n",
       "    </tr>\n",
       "  </thead>\n",
       "  <tbody>\n",
       "    <tr>\n",
       "      <th>0</th>\n",
       "      <td>vegan rest</td>\n",
       "      <td>Loving Hut Vegan Restaurant</td>\n",
       "      <td>{'type': 'Point', 'coordinates': [-122.4636464...</td>\n",
       "    </tr>\n",
       "    <tr>\n",
       "      <th>1</th>\n",
       "      <td>vegan rest</td>\n",
       "      <td>Indochine Vegan</td>\n",
       "      <td>{'type': 'Point', 'coordinates': [-122.4221595...</td>\n",
       "    </tr>\n",
       "    <tr>\n",
       "      <th>2</th>\n",
       "      <td>vegan rest</td>\n",
       "      <td>VeganBurg San Francisco</td>\n",
       "      <td>{'type': 'Point', 'coordinates': [-122.4464842...</td>\n",
       "    </tr>\n",
       "    <tr>\n",
       "      <th>3</th>\n",
       "      <td>vegan rest</td>\n",
       "      <td>Shizen Vegan Sushi Bar and Izakaya</td>\n",
       "      <td>{'type': 'Point', 'coordinates': [-122.4216815...</td>\n",
       "    </tr>\n",
       "    <tr>\n",
       "      <th>4</th>\n",
       "      <td>vegan rest</td>\n",
       "      <td>Vegan Picnic</td>\n",
       "      <td>{'type': 'Point', 'coordinates': [-122.4317498...</td>\n",
       "    </tr>\n",
       "  </tbody>\n",
       "</table>\n",
       "</div>"
      ],
      "text/plain": [
       "     category                                name  \\\n",
       "0  vegan rest         Loving Hut Vegan Restaurant   \n",
       "1  vegan rest                     Indochine Vegan   \n",
       "2  vegan rest             VeganBurg San Francisco   \n",
       "3  vegan rest  Shizen Vegan Sushi Bar and Izakaya   \n",
       "4  vegan rest                        Vegan Picnic   \n",
       "\n",
       "                                            location  \n",
       "0  {'type': 'Point', 'coordinates': [-122.4636464...  \n",
       "1  {'type': 'Point', 'coordinates': [-122.4221595...  \n",
       "2  {'type': 'Point', 'coordinates': [-122.4464842...  \n",
       "3  {'type': 'Point', 'coordinates': [-122.4216815...  \n",
       "4  {'type': 'Point', 'coordinates': [-122.4317498...  "
      ]
     },
     "execution_count": 27,
     "metadata": {},
     "output_type": "execute_result"
    }
   ],
   "source": [
    "#print(rest_vegano3[\"next_page_token\"]) No more pages\n",
    "df_vegan.head()"
   ]
  },
  {
   "cell_type": "markdown",
   "metadata": {},
   "source": [
    "### **Info about pubs**"
   ]
  },
  {
   "cell_type": "code",
   "execution_count": 28,
   "metadata": {},
   "outputs": [
    {
     "name": "stdout",
     "output_type": "stream",
     "text": [
      "200\n"
     ]
    }
   ],
   "source": [
    "pubs = getFromGoogle(getQueryParams(5000,\"night_club\",\"pub\",None))"
   ]
  },
  {
   "cell_type": "code",
   "execution_count": 29,
   "metadata": {},
   "outputs": [
    {
     "data": {
      "text/html": [
       "<div>\n",
       "<style scoped>\n",
       "    .dataframe tbody tr th:only-of-type {\n",
       "        vertical-align: middle;\n",
       "    }\n",
       "\n",
       "    .dataframe tbody tr th {\n",
       "        vertical-align: top;\n",
       "    }\n",
       "\n",
       "    .dataframe thead th {\n",
       "        text-align: right;\n",
       "    }\n",
       "</style>\n",
       "<table border=\"1\" class=\"dataframe\">\n",
       "  <thead>\n",
       "    <tr style=\"text-align: right;\">\n",
       "      <th></th>\n",
       "      <th>category</th>\n",
       "      <th>name</th>\n",
       "      <th>location</th>\n",
       "    </tr>\n",
       "  </thead>\n",
       "  <tbody>\n",
       "    <tr>\n",
       "      <th>0</th>\n",
       "      <td>pub</td>\n",
       "      <td>F8 Nightclub &amp; Bar</td>\n",
       "      <td>{'type': 'Point', 'coordinates': [-122.4100374...</td>\n",
       "    </tr>\n",
       "    <tr>\n",
       "      <th>1</th>\n",
       "      <td>pub</td>\n",
       "      <td>Rouge Night Club</td>\n",
       "      <td>{'type': 'Point', 'coordinates': [-122.4220047...</td>\n",
       "    </tr>\n",
       "    <tr>\n",
       "      <th>2</th>\n",
       "      <td>pub</td>\n",
       "      <td>Raven Bar</td>\n",
       "      <td>{'type': 'Point', 'coordinates': [-122.4088611...</td>\n",
       "    </tr>\n",
       "    <tr>\n",
       "      <th>3</th>\n",
       "      <td>pub</td>\n",
       "      <td>The Holy Cow</td>\n",
       "      <td>{'type': 'Point', 'coordinates': [-122.4143364...</td>\n",
       "    </tr>\n",
       "    <tr>\n",
       "      <th>4</th>\n",
       "      <td>pub</td>\n",
       "      <td>Club 26 Mix</td>\n",
       "      <td>{'type': 'Point', 'coordinates': [-122.4182993...</td>\n",
       "    </tr>\n",
       "  </tbody>\n",
       "</table>\n",
       "</div>"
      ],
      "text/plain": [
       "  category                name  \\\n",
       "0      pub  F8 Nightclub & Bar   \n",
       "1      pub    Rouge Night Club   \n",
       "2      pub           Raven Bar   \n",
       "3      pub        The Holy Cow   \n",
       "4      pub         Club 26 Mix   \n",
       "\n",
       "                                            location  \n",
       "0  {'type': 'Point', 'coordinates': [-122.4100374...  \n",
       "1  {'type': 'Point', 'coordinates': [-122.4220047...  \n",
       "2  {'type': 'Point', 'coordinates': [-122.4088611...  \n",
       "3  {'type': 'Point', 'coordinates': [-122.4143364...  \n",
       "4  {'type': 'Point', 'coordinates': [-122.4182993...  "
      ]
     },
     "metadata": {},
     "output_type": "display_data"
    },
    {
     "data": {
      "text/plain": [
       "(20, 3)"
      ]
     },
     "metadata": {},
     "output_type": "display_data"
    }
   ],
   "source": [
    "df_pubs = pd.DataFrame(getInfoFromRes(pubs,r\".*\",\"pub\"))\n",
    "display(df_pubs.head(), df_pubs.shape)"
   ]
  },
  {
   "cell_type": "code",
   "execution_count": 43,
   "metadata": {},
   "outputs": [],
   "source": [
    "#print(pubs[\"next_page_token\"]) There are more pages"
   ]
  },
  {
   "cell_type": "code",
   "execution_count": 31,
   "metadata": {},
   "outputs": [
    {
     "name": "stdout",
     "output_type": "stream",
     "text": [
      "200\n"
     ]
    }
   ],
   "source": [
    "second_pubs = getFromGoogle(getQueryParams(5000,\"night_club\",\"pub\",pubs[\"next_page_token\"]))"
   ]
  },
  {
   "cell_type": "code",
   "execution_count": 32,
   "metadata": {},
   "outputs": [
    {
     "data": {
      "text/html": [
       "<div>\n",
       "<style scoped>\n",
       "    .dataframe tbody tr th:only-of-type {\n",
       "        vertical-align: middle;\n",
       "    }\n",
       "\n",
       "    .dataframe tbody tr th {\n",
       "        vertical-align: top;\n",
       "    }\n",
       "\n",
       "    .dataframe thead th {\n",
       "        text-align: right;\n",
       "    }\n",
       "</style>\n",
       "<table border=\"1\" class=\"dataframe\">\n",
       "  <thead>\n",
       "    <tr style=\"text-align: right;\">\n",
       "      <th></th>\n",
       "      <th>category</th>\n",
       "      <th>name</th>\n",
       "      <th>location</th>\n",
       "    </tr>\n",
       "  </thead>\n",
       "  <tbody>\n",
       "    <tr>\n",
       "      <th>0</th>\n",
       "      <td>pub</td>\n",
       "      <td>Space 550</td>\n",
       "      <td>{'type': 'Point', 'coordinates': [-122.404738,...</td>\n",
       "    </tr>\n",
       "    <tr>\n",
       "      <th>1</th>\n",
       "      <td>pub</td>\n",
       "      <td>SalsaCrazy Saturday Salsa Club</td>\n",
       "      <td>{'type': 'Point', 'coordinates': [-122.4637533...</td>\n",
       "    </tr>\n",
       "    <tr>\n",
       "      <th>2</th>\n",
       "      <td>pub</td>\n",
       "      <td>Underground SF</td>\n",
       "      <td>{'type': 'Point', 'coordinates': [-122.4293949...</td>\n",
       "    </tr>\n",
       "    <tr>\n",
       "      <th>3</th>\n",
       "      <td>pub</td>\n",
       "      <td>The Chapel</td>\n",
       "      <td>{'type': 'Point', 'coordinates': [-122.4212979...</td>\n",
       "    </tr>\n",
       "    <tr>\n",
       "      <th>4</th>\n",
       "      <td>pub</td>\n",
       "      <td>Cat Club</td>\n",
       "      <td>{'type': 'Point', 'coordinates': [-122.4098711...</td>\n",
       "    </tr>\n",
       "  </tbody>\n",
       "</table>\n",
       "</div>"
      ],
      "text/plain": [
       "  category                            name  \\\n",
       "0      pub                       Space 550   \n",
       "1      pub  SalsaCrazy Saturday Salsa Club   \n",
       "2      pub                  Underground SF   \n",
       "3      pub                      The Chapel   \n",
       "4      pub                        Cat Club   \n",
       "\n",
       "                                            location  \n",
       "0  {'type': 'Point', 'coordinates': [-122.404738,...  \n",
       "1  {'type': 'Point', 'coordinates': [-122.4637533...  \n",
       "2  {'type': 'Point', 'coordinates': [-122.4293949...  \n",
       "3  {'type': 'Point', 'coordinates': [-122.4212979...  \n",
       "4  {'type': 'Point', 'coordinates': [-122.4098711...  "
      ]
     },
     "metadata": {},
     "output_type": "display_data"
    },
    {
     "data": {
      "text/plain": [
       "(20, 3)"
      ]
     },
     "metadata": {},
     "output_type": "display_data"
    }
   ],
   "source": [
    "df_second_pubs = pd.DataFrame(getInfoFromRes(second_pubs,r\".*\",\"pub\"))\n",
    "display(df_second_pubs.head(), df_second_pubs.shape)"
   ]
  },
  {
   "cell_type": "code",
   "execution_count": 33,
   "metadata": {},
   "outputs": [
    {
     "data": {
      "text/plain": [
       "(40, 3)"
      ]
     },
     "execution_count": 33,
     "metadata": {},
     "output_type": "execute_result"
    }
   ],
   "source": [
    "# 40 pubs are enough\n",
    "df_pubs = pd.concat([df_pubs,df_second_pubs],axis=0)\n",
    "df_pubs.shape"
   ]
  },
  {
   "cell_type": "markdown",
   "metadata": {},
   "source": [
    "# **Info organization**"
   ]
  },
  {
   "cell_type": "code",
   "execution_count": 44,
   "metadata": {},
   "outputs": [],
   "source": [
    "shops = pd.concat([df_airport,df_cafe,df_vegan,df_pubs],axis=0)"
   ]
  },
  {
   "cell_type": "code",
   "execution_count": 45,
   "metadata": {},
   "outputs": [
    {
     "data": {
      "text/html": [
       "<div>\n",
       "<style scoped>\n",
       "    .dataframe tbody tr th:only-of-type {\n",
       "        vertical-align: middle;\n",
       "    }\n",
       "\n",
       "    .dataframe tbody tr th {\n",
       "        vertical-align: top;\n",
       "    }\n",
       "\n",
       "    .dataframe thead th {\n",
       "        text-align: right;\n",
       "    }\n",
       "</style>\n",
       "<table border=\"1\" class=\"dataframe\">\n",
       "  <thead>\n",
       "    <tr style=\"text-align: right;\">\n",
       "      <th></th>\n",
       "      <th>category</th>\n",
       "      <th>name</th>\n",
       "      <th>location</th>\n",
       "    </tr>\n",
       "  </thead>\n",
       "  <tbody>\n",
       "    <tr>\n",
       "      <th>0</th>\n",
       "      <td>airport</td>\n",
       "      <td>San Francisco International Airport</td>\n",
       "      <td>{'type': 'Point', 'coordinates': [-122.3789554...</td>\n",
       "    </tr>\n",
       "    <tr>\n",
       "      <th>0</th>\n",
       "      <td>Starbucks</td>\n",
       "      <td>Starbucks</td>\n",
       "      <td>{'type': 'Point', 'coordinates': [-122.4042684...</td>\n",
       "    </tr>\n",
       "    <tr>\n",
       "      <th>1</th>\n",
       "      <td>Starbucks</td>\n",
       "      <td>Starbucks</td>\n",
       "      <td>{'type': 'Point', 'coordinates': [-122.38783, ...</td>\n",
       "    </tr>\n",
       "    <tr>\n",
       "      <th>2</th>\n",
       "      <td>Starbucks</td>\n",
       "      <td>Starbucks</td>\n",
       "      <td>{'type': 'Point', 'coordinates': [-122.40385, ...</td>\n",
       "    </tr>\n",
       "    <tr>\n",
       "      <th>3</th>\n",
       "      <td>Starbucks</td>\n",
       "      <td>Starbucks</td>\n",
       "      <td>{'type': 'Point', 'coordinates': [-122.406831,...</td>\n",
       "    </tr>\n",
       "  </tbody>\n",
       "</table>\n",
       "</div>"
      ],
      "text/plain": [
       "    category                                 name  \\\n",
       "0    airport  San Francisco International Airport   \n",
       "0  Starbucks                            Starbucks   \n",
       "1  Starbucks                            Starbucks   \n",
       "2  Starbucks                            Starbucks   \n",
       "3  Starbucks                            Starbucks   \n",
       "\n",
       "                                            location  \n",
       "0  {'type': 'Point', 'coordinates': [-122.3789554...  \n",
       "0  {'type': 'Point', 'coordinates': [-122.4042684...  \n",
       "1  {'type': 'Point', 'coordinates': [-122.38783, ...  \n",
       "2  {'type': 'Point', 'coordinates': [-122.40385, ...  \n",
       "3  {'type': 'Point', 'coordinates': [-122.406831,...  "
      ]
     },
     "metadata": {},
     "output_type": "display_data"
    },
    {
     "data": {
      "text/plain": [
       "(107, 3)"
      ]
     },
     "metadata": {},
     "output_type": "display_data"
    }
   ],
   "source": [
    "display(shops.head(),shops.shape)"
   ]
  },
  {
   "cell_type": "code",
   "execution_count": 47,
   "metadata": {},
   "outputs": [
    {
     "data": {
      "text/html": [
       "<div>\n",
       "<style scoped>\n",
       "    .dataframe tbody tr th:only-of-type {\n",
       "        vertical-align: middle;\n",
       "    }\n",
       "\n",
       "    .dataframe tbody tr th {\n",
       "        vertical-align: top;\n",
       "    }\n",
       "\n",
       "    .dataframe thead th {\n",
       "        text-align: right;\n",
       "    }\n",
       "</style>\n",
       "<table border=\"1\" class=\"dataframe\">\n",
       "  <thead>\n",
       "    <tr style=\"text-align: right;\">\n",
       "      <th></th>\n",
       "      <th>latitude</th>\n",
       "      <th>longitude</th>\n",
       "    </tr>\n",
       "  </thead>\n",
       "  <tbody>\n",
       "    <tr>\n",
       "      <th>0</th>\n",
       "      <td>37.621313</td>\n",
       "      <td>-122.378955</td>\n",
       "    </tr>\n",
       "    <tr>\n",
       "      <th>0</th>\n",
       "      <td>37.792814</td>\n",
       "      <td>-122.404268</td>\n",
       "    </tr>\n",
       "    <tr>\n",
       "      <th>1</th>\n",
       "      <td>37.741198</td>\n",
       "      <td>-122.387830</td>\n",
       "    </tr>\n",
       "    <tr>\n",
       "      <th>2</th>\n",
       "      <td>37.784460</td>\n",
       "      <td>-122.403850</td>\n",
       "    </tr>\n",
       "    <tr>\n",
       "      <th>3</th>\n",
       "      <td>37.789348</td>\n",
       "      <td>-122.406831</td>\n",
       "    </tr>\n",
       "  </tbody>\n",
       "</table>\n",
       "</div>"
      ],
      "text/plain": [
       "    latitude   longitude\n",
       "0  37.621313 -122.378955\n",
       "0  37.792814 -122.404268\n",
       "1  37.741198 -122.387830\n",
       "2  37.784460 -122.403850\n",
       "3  37.789348 -122.406831"
      ]
     },
     "execution_count": 47,
     "metadata": {},
     "output_type": "execute_result"
    }
   ],
   "source": [
    "shops_coord = shops.apply(easyLatLng,axis=1,result_type=\"expand\")\n",
    "shops_coord.head()"
   ]
  },
  {
   "cell_type": "code",
   "execution_count": 48,
   "metadata": {},
   "outputs": [],
   "source": [
    "shops = pd.concat([shops,shops_coord],axis=1)"
   ]
  },
  {
   "cell_type": "code",
   "execution_count": 49,
   "metadata": {},
   "outputs": [
    {
     "data": {
      "text/html": [
       "<div>\n",
       "<style scoped>\n",
       "    .dataframe tbody tr th:only-of-type {\n",
       "        vertical-align: middle;\n",
       "    }\n",
       "\n",
       "    .dataframe tbody tr th {\n",
       "        vertical-align: top;\n",
       "    }\n",
       "\n",
       "    .dataframe thead th {\n",
       "        text-align: right;\n",
       "    }\n",
       "</style>\n",
       "<table border=\"1\" class=\"dataframe\">\n",
       "  <thead>\n",
       "    <tr style=\"text-align: right;\">\n",
       "      <th></th>\n",
       "      <th>category</th>\n",
       "      <th>name</th>\n",
       "      <th>location</th>\n",
       "      <th>latitude</th>\n",
       "      <th>longitude</th>\n",
       "    </tr>\n",
       "  </thead>\n",
       "  <tbody>\n",
       "    <tr>\n",
       "      <th>0</th>\n",
       "      <td>airport</td>\n",
       "      <td>San Francisco International Airport</td>\n",
       "      <td>{'type': 'Point', 'coordinates': [-122.3789554...</td>\n",
       "      <td>37.621313</td>\n",
       "      <td>-122.378955</td>\n",
       "    </tr>\n",
       "    <tr>\n",
       "      <th>0</th>\n",
       "      <td>Starbucks</td>\n",
       "      <td>Starbucks</td>\n",
       "      <td>{'type': 'Point', 'coordinates': [-122.4042684...</td>\n",
       "      <td>37.792814</td>\n",
       "      <td>-122.404268</td>\n",
       "    </tr>\n",
       "    <tr>\n",
       "      <th>1</th>\n",
       "      <td>Starbucks</td>\n",
       "      <td>Starbucks</td>\n",
       "      <td>{'type': 'Point', 'coordinates': [-122.38783, ...</td>\n",
       "      <td>37.741198</td>\n",
       "      <td>-122.387830</td>\n",
       "    </tr>\n",
       "    <tr>\n",
       "      <th>2</th>\n",
       "      <td>Starbucks</td>\n",
       "      <td>Starbucks</td>\n",
       "      <td>{'type': 'Point', 'coordinates': [-122.40385, ...</td>\n",
       "      <td>37.784460</td>\n",
       "      <td>-122.403850</td>\n",
       "    </tr>\n",
       "    <tr>\n",
       "      <th>3</th>\n",
       "      <td>Starbucks</td>\n",
       "      <td>Starbucks</td>\n",
       "      <td>{'type': 'Point', 'coordinates': [-122.406831,...</td>\n",
       "      <td>37.789348</td>\n",
       "      <td>-122.406831</td>\n",
       "    </tr>\n",
       "  </tbody>\n",
       "</table>\n",
       "</div>"
      ],
      "text/plain": [
       "    category                                 name  \\\n",
       "0    airport  San Francisco International Airport   \n",
       "0  Starbucks                            Starbucks   \n",
       "1  Starbucks                            Starbucks   \n",
       "2  Starbucks                            Starbucks   \n",
       "3  Starbucks                            Starbucks   \n",
       "\n",
       "                                            location   latitude   longitude  \n",
       "0  {'type': 'Point', 'coordinates': [-122.3789554...  37.621313 -122.378955  \n",
       "0  {'type': 'Point', 'coordinates': [-122.4042684...  37.792814 -122.404268  \n",
       "1  {'type': 'Point', 'coordinates': [-122.38783, ...  37.741198 -122.387830  \n",
       "2  {'type': 'Point', 'coordinates': [-122.40385, ...  37.784460 -122.403850  \n",
       "3  {'type': 'Point', 'coordinates': [-122.406831,...  37.789348 -122.406831  "
      ]
     },
     "metadata": {},
     "output_type": "display_data"
    },
    {
     "data": {
      "text/plain": [
       "(107, 5)"
      ]
     },
     "metadata": {},
     "output_type": "display_data"
    }
   ],
   "source": [
    "display(shops.head(),shops.shape)"
   ]
  },
  {
   "cell_type": "code",
   "execution_count": 50,
   "metadata": {},
   "outputs": [],
   "source": [
    "shops.to_json(\"../output/shops.json\",orient=\"records\")\n",
    "shops.to_csv(\"../output/shops.csv\")"
   ]
  }
 ],
 "metadata": {
  "kernelspec": {
   "display_name": "Python 3",
   "language": "python",
   "name": "python3"
  },
  "language_info": {
   "codemirror_mode": {
    "name": "ipython",
    "version": 3
   },
   "file_extension": ".py",
   "mimetype": "text/x-python",
   "name": "python",
   "nbconvert_exporter": "python",
   "pygments_lexer": "ipython3",
   "version": "3.7.5"
  }
 },
 "nbformat": 4,
 "nbformat_minor": 4
}
