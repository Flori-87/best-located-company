{
 "cells": [
  {
   "cell_type": "code",
   "execution_count": 26,
   "metadata": {},
   "outputs": [],
   "source": [
    "import requests\n",
    "import pandas as pd\n",
    "from pymongo import MongoClient\n",
    "from pymongo import ASCENDING, DESCENDING\n",
    "from bson.json_util import dumps"
   ]
  },
  {
   "cell_type": "code",
   "execution_count": 27,
   "metadata": {},
   "outputs": [
    {
     "ename": "SyntaxError",
     "evalue": "EOF while scanning triple-quoted string literal (<ipython-input-27-639094f3ef2f>, line 10)",
     "output_type": "error",
     "traceback": [
      "\u001b[0;36m  File \u001b[0;32m\"<ipython-input-27-639094f3ef2f>\"\u001b[0;36m, line \u001b[0;32m10\u001b[0m\n\u001b[0;31m    }\u001b[0m\n\u001b[0m     \n^\u001b[0m\n\u001b[0;31mSyntaxError\u001b[0m\u001b[0;31m:\u001b[0m EOF while scanning triple-quoted string literal\n"
     ]
    }
   ],
   "source": [
    "\"\"\"\n",
    "def geocode(address):\n",
    "    res = requests.get(f\"https://geocode.xyz/{address}\",params={\"json\":1})\n",
    "    data = res.json()\n",
    "    print(res)\n",
    "    # Return as GeoJSON -> https://geojson.org/\n",
    "    return {\n",
    "        \"type\":\"Point\",\n",
    "        \"coordinates\": [float(data[\"longt\"]), float(data[\"latt\"])]\n",
    "    }"
   ]
  },
  {
   "cell_type": "code",
   "execution_count": 28,
   "metadata": {},
   "outputs": [],
   "source": [
    "# Voy a convertir todos los datos de latitud y longitud de las empresas a formato GeoJSON.\n",
    "client = MongoClient(\"mongodb://localhost/datamad0320\")\n",
    "db = client.get_database()"
   ]
  },
  {
   "cell_type": "code",
   "execution_count": 29,
   "metadata": {},
   "outputs": [],
   "source": [
    "# Lo primero: query para seleccionar las empresas que contengan office y contengan al menos un elemento\n",
    "all_companies = db.companies.find({\"$and\":[{\"offices\":{\"$exists\":True}},{\"offices\":{\"$not\":{\"$size\":0}}}]},{\"offices\":1})\n",
    "\n",
    "#{\"offices.latitude\":{\"$ne\":\"null\"}},{\"offices.longitude':  { $ne: null } }]}\n",
    "#es posible que elimine documentos que no quiero"
   ]
  },
  {
   "cell_type": "code",
   "execution_count": null,
   "metadata": {},
   "outputs": [],
   "source": []
  },
  {
   "cell_type": "code",
   "execution_count": 30,
   "metadata": {},
   "outputs": [
    {
     "data": {
      "text/html": [
       "<div>\n",
       "<style scoped>\n",
       "    .dataframe tbody tr th:only-of-type {\n",
       "        vertical-align: middle;\n",
       "    }\n",
       "\n",
       "    .dataframe tbody tr th {\n",
       "        vertical-align: top;\n",
       "    }\n",
       "\n",
       "    .dataframe thead th {\n",
       "        text-align: right;\n",
       "    }\n",
       "</style>\n",
       "<table border=\"1\" class=\"dataframe\">\n",
       "  <thead>\n",
       "    <tr style=\"text-align: right;\">\n",
       "      <th></th>\n",
       "      <th>_id</th>\n",
       "      <th>offices</th>\n",
       "    </tr>\n",
       "  </thead>\n",
       "  <tbody>\n",
       "    <tr>\n",
       "      <th>0</th>\n",
       "      <td>52cdef7c4bab8bd675297d8b</td>\n",
       "      <td>[{'description': 'Headquarters', 'address1': '...</td>\n",
       "    </tr>\n",
       "    <tr>\n",
       "      <th>1</th>\n",
       "      <td>52cdef7c4bab8bd675297d92</td>\n",
       "      <td>[{'description': None, 'address1': '8536 Natio...</td>\n",
       "    </tr>\n",
       "    <tr>\n",
       "      <th>2</th>\n",
       "      <td>52cdef7c4bab8bd675297d8c</td>\n",
       "      <td>[{'description': 'Headquarters', 'address1': '...</td>\n",
       "    </tr>\n",
       "    <tr>\n",
       "      <th>3</th>\n",
       "      <td>52cdef7c4bab8bd675297d8a</td>\n",
       "      <td>[{'description': '', 'address1': '710 - 2nd Av...</td>\n",
       "    </tr>\n",
       "    <tr>\n",
       "      <th>4</th>\n",
       "      <td>52cdef7c4bab8bd675297d93</td>\n",
       "      <td>[{'description': '', 'address1': '407 N Maple ...</td>\n",
       "    </tr>\n",
       "  </tbody>\n",
       "</table>\n",
       "</div>"
      ],
      "text/plain": [
       "                        _id                                            offices\n",
       "0  52cdef7c4bab8bd675297d8b  [{'description': 'Headquarters', 'address1': '...\n",
       "1  52cdef7c4bab8bd675297d92  [{'description': None, 'address1': '8536 Natio...\n",
       "2  52cdef7c4bab8bd675297d8c  [{'description': 'Headquarters', 'address1': '...\n",
       "3  52cdef7c4bab8bd675297d8a  [{'description': '', 'address1': '710 - 2nd Av...\n",
       "4  52cdef7c4bab8bd675297d93  [{'description': '', 'address1': '407 N Maple ..."
      ]
     },
     "metadata": {},
     "output_type": "display_data"
    },
    {
     "data": {
      "text/plain": [
       "(13744, 2)"
      ]
     },
     "metadata": {},
     "output_type": "display_data"
    }
   ],
   "source": [
    "df = pd.DataFrame(all_companies)\n",
    "display(df.head(),df.shape)"
   ]
  },
  {
   "cell_type": "code",
   "execution_count": 31,
   "metadata": {},
   "outputs": [],
   "source": [
    "# convierto los id en formato json\n",
    "for i in range(len(df[\"_id\"])):\n",
    "    df[\"_id\"].iloc[i] = dumps(df[\"_id\"].iloc[i])"
   ]
  },
  {
   "cell_type": "code",
   "execution_count": 32,
   "metadata": {},
   "outputs": [
    {
     "data": {
      "text/plain": [
       "13744"
      ]
     },
     "execution_count": 32,
     "metadata": {},
     "output_type": "execute_result"
    }
   ],
   "source": [
    "len(df[\"_id\"])"
   ]
  },
  {
   "cell_type": "code",
   "execution_count": 33,
   "metadata": {},
   "outputs": [
    {
     "data": {
      "text/html": [
       "<div>\n",
       "<style scoped>\n",
       "    .dataframe tbody tr th:only-of-type {\n",
       "        vertical-align: middle;\n",
       "    }\n",
       "\n",
       "    .dataframe tbody tr th {\n",
       "        vertical-align: top;\n",
       "    }\n",
       "\n",
       "    .dataframe thead th {\n",
       "        text-align: right;\n",
       "    }\n",
       "</style>\n",
       "<table border=\"1\" class=\"dataframe\">\n",
       "  <thead>\n",
       "    <tr style=\"text-align: right;\">\n",
       "      <th></th>\n",
       "      <th>_id</th>\n",
       "      <th>offices</th>\n",
       "    </tr>\n",
       "  </thead>\n",
       "  <tbody>\n",
       "    <tr>\n",
       "      <th>0</th>\n",
       "      <td>{\"$oid\": \"52cdef7c4bab8bd675297d8b\"}</td>\n",
       "      <td>{'description': 'Headquarters', 'address1': '4...</td>\n",
       "    </tr>\n",
       "    <tr>\n",
       "      <th>1</th>\n",
       "      <td>{\"$oid\": \"52cdef7c4bab8bd675297d92\"}</td>\n",
       "      <td>{'description': None, 'address1': '8536 Nation...</td>\n",
       "    </tr>\n",
       "    <tr>\n",
       "      <th>2</th>\n",
       "      <td>{\"$oid\": \"52cdef7c4bab8bd675297d8c\"}</td>\n",
       "      <td>{'description': 'Headquarters', 'address1': '4...</td>\n",
       "    </tr>\n",
       "    <tr>\n",
       "      <th>3</th>\n",
       "      <td>{\"$oid\": \"52cdef7c4bab8bd675297d8a\"}</td>\n",
       "      <td>{'description': '', 'address1': '710 - 2nd Ave...</td>\n",
       "    </tr>\n",
       "    <tr>\n",
       "      <th>3</th>\n",
       "      <td>{\"$oid\": \"52cdef7c4bab8bd675297d8a\"}</td>\n",
       "      <td>{'description': '', 'address1': '270 Lafayette...</td>\n",
       "    </tr>\n",
       "  </tbody>\n",
       "</table>\n",
       "</div>"
      ],
      "text/plain": [
       "                                    _id  \\\n",
       "0  {\"$oid\": \"52cdef7c4bab8bd675297d8b\"}   \n",
       "1  {\"$oid\": \"52cdef7c4bab8bd675297d92\"}   \n",
       "2  {\"$oid\": \"52cdef7c4bab8bd675297d8c\"}   \n",
       "3  {\"$oid\": \"52cdef7c4bab8bd675297d8a\"}   \n",
       "3  {\"$oid\": \"52cdef7c4bab8bd675297d8a\"}   \n",
       "\n",
       "                                             offices  \n",
       "0  {'description': 'Headquarters', 'address1': '4...  \n",
       "1  {'description': None, 'address1': '8536 Nation...  \n",
       "2  {'description': 'Headquarters', 'address1': '4...  \n",
       "3  {'description': '', 'address1': '710 - 2nd Ave...  \n",
       "3  {'description': '', 'address1': '270 Lafayette...  "
      ]
     },
     "metadata": {},
     "output_type": "display_data"
    },
    {
     "data": {
      "text/plain": [
       "(16705, 2)"
      ]
     },
     "metadata": {},
     "output_type": "display_data"
    }
   ],
   "source": [
    "# separar los objetos de las listas offices\n",
    "df = df.explode(\"offices\")\n",
    "display(df.head(),df.shape)"
   ]
  },
  {
   "cell_type": "code",
   "execution_count": 34,
   "metadata": {},
   "outputs": [
    {
     "data": {
      "text/plain": [
       "False    16705\n",
       "Name: offices, dtype: int64"
      ]
     },
     "execution_count": 34,
     "metadata": {},
     "output_type": "execute_result"
    }
   ],
   "source": [
    "df.offices.isnull().value_counts()"
   ]
  },
  {
   "cell_type": "code",
   "execution_count": 35,
   "metadata": {},
   "outputs": [],
   "source": [
    "# transform office object into GeoPoint for office\n",
    "def officeToGeoPoint(row):\n",
    "    office = row.offices\n",
    "    if type(office) == dict:\n",
    "        if 'latitude' in office and 'longitude' in office:\n",
    "            if office[\"latitude\"] and office[\"longitude\"]:\n",
    "                return ({\n",
    "                    \"type\":\"Point\",\n",
    "                    \"coordinates\":[float(office[\"longitude\"]),float(office[\"latitude\"])]\n",
    "                },\"success\")\n",
    "            else:\n",
    "                return(None,\"Invalid lat and long\")\n",
    "        else:\n",
    "            return (None,\"No lat and long keys in office dict\")\n",
    "    return (None,\"No office\")"
   ]
  },
  {
   "cell_type": "code",
   "execution_count": 36,
   "metadata": {},
   "outputs": [
    {
     "data": {
      "text/html": [
       "<div>\n",
       "<style scoped>\n",
       "    .dataframe tbody tr th:only-of-type {\n",
       "        vertical-align: middle;\n",
       "    }\n",
       "\n",
       "    .dataframe tbody tr th {\n",
       "        vertical-align: top;\n",
       "    }\n",
       "\n",
       "    .dataframe thead th {\n",
       "        text-align: right;\n",
       "    }\n",
       "</style>\n",
       "<table border=\"1\" class=\"dataframe\">\n",
       "  <thead>\n",
       "    <tr style=\"text-align: right;\">\n",
       "      <th></th>\n",
       "      <th>office</th>\n",
       "      <th>state</th>\n",
       "    </tr>\n",
       "  </thead>\n",
       "  <tbody>\n",
       "    <tr>\n",
       "      <th>0</th>\n",
       "      <td>{'type': 'Point', 'coordinates': [-121.904945,...</td>\n",
       "      <td>success</td>\n",
       "    </tr>\n",
       "    <tr>\n",
       "      <th>1</th>\n",
       "      <td>{'type': 'Point', 'coordinates': [-118.379768,...</td>\n",
       "      <td>success</td>\n",
       "    </tr>\n",
       "    <tr>\n",
       "      <th>2</th>\n",
       "      <td>{'type': 'Point', 'coordinates': [-121.904945,...</td>\n",
       "      <td>success</td>\n",
       "    </tr>\n",
       "    <tr>\n",
       "      <th>3</th>\n",
       "      <td>{'type': 'Point', 'coordinates': [-122.333253,...</td>\n",
       "      <td>success</td>\n",
       "    </tr>\n",
       "    <tr>\n",
       "      <th>3</th>\n",
       "      <td>{'type': 'Point', 'coordinates': [-73.9964312,...</td>\n",
       "      <td>success</td>\n",
       "    </tr>\n",
       "  </tbody>\n",
       "</table>\n",
       "</div>"
      ],
      "text/plain": [
       "                                              office    state\n",
       "0  {'type': 'Point', 'coordinates': [-121.904945,...  success\n",
       "1  {'type': 'Point', 'coordinates': [-118.379768,...  success\n",
       "2  {'type': 'Point', 'coordinates': [-121.904945,...  success\n",
       "3  {'type': 'Point', 'coordinates': [-122.333253,...  success\n",
       "3  {'type': 'Point', 'coordinates': [-73.9964312,...  success"
      ]
     },
     "metadata": {},
     "output_type": "display_data"
    },
    {
     "data": {
      "text/plain": [
       "(16705, 2)"
      ]
     },
     "metadata": {},
     "output_type": "display_data"
    }
   ],
   "source": [
    "cleaned_offices = df.apply(officeToGeoPoint, axis=1, result_type=\"expand\")\n",
    "cleaned_offices.columns = [\"office\",\"state\"]\n",
    "display(cleaned_offices.head(),cleaned_offices.shape)"
   ]
  },
  {
   "cell_type": "code",
   "execution_count": 37,
   "metadata": {},
   "outputs": [
    {
     "data": {
      "text/plain": [
       "success                 10834\n",
       "Invalid lat and long     5871\n",
       "Name: state, dtype: int64"
      ]
     },
     "execution_count": 37,
     "metadata": {},
     "output_type": "execute_result"
    }
   ],
   "source": [
    "cleaned_offices.state.value_counts()"
   ]
  },
  {
   "cell_type": "code",
   "execution_count": 38,
   "metadata": {},
   "outputs": [
    {
     "data": {
      "text/html": [
       "<div>\n",
       "<style scoped>\n",
       "    .dataframe tbody tr th:only-of-type {\n",
       "        vertical-align: middle;\n",
       "    }\n",
       "\n",
       "    .dataframe tbody tr th {\n",
       "        vertical-align: top;\n",
       "    }\n",
       "\n",
       "    .dataframe thead th {\n",
       "        text-align: right;\n",
       "    }\n",
       "</style>\n",
       "<table border=\"1\" class=\"dataframe\">\n",
       "  <thead>\n",
       "    <tr style=\"text-align: right;\">\n",
       "      <th></th>\n",
       "      <th>_id</th>\n",
       "      <th>offices</th>\n",
       "      <th>office</th>\n",
       "      <th>state</th>\n",
       "    </tr>\n",
       "  </thead>\n",
       "  <tbody>\n",
       "    <tr>\n",
       "      <th>0</th>\n",
       "      <td>{\"$oid\": \"52cdef7c4bab8bd675297d8b\"}</td>\n",
       "      <td>{'description': 'Headquarters', 'address1': '4...</td>\n",
       "      <td>{'type': 'Point', 'coordinates': [-121.904945,...</td>\n",
       "      <td>success</td>\n",
       "    </tr>\n",
       "    <tr>\n",
       "      <th>1</th>\n",
       "      <td>{\"$oid\": \"52cdef7c4bab8bd675297d92\"}</td>\n",
       "      <td>{'description': None, 'address1': '8536 Nation...</td>\n",
       "      <td>{'type': 'Point', 'coordinates': [-118.379768,...</td>\n",
       "      <td>success</td>\n",
       "    </tr>\n",
       "    <tr>\n",
       "      <th>2</th>\n",
       "      <td>{\"$oid\": \"52cdef7c4bab8bd675297d8c\"}</td>\n",
       "      <td>{'description': 'Headquarters', 'address1': '4...</td>\n",
       "      <td>{'type': 'Point', 'coordinates': [-121.904945,...</td>\n",
       "      <td>success</td>\n",
       "    </tr>\n",
       "    <tr>\n",
       "      <th>3</th>\n",
       "      <td>{\"$oid\": \"52cdef7c4bab8bd675297d8a\"}</td>\n",
       "      <td>{'description': '', 'address1': '710 - 2nd Ave...</td>\n",
       "      <td>{'type': 'Point', 'coordinates': [-122.333253,...</td>\n",
       "      <td>success</td>\n",
       "    </tr>\n",
       "    <tr>\n",
       "      <th>3</th>\n",
       "      <td>{\"$oid\": \"52cdef7c4bab8bd675297d8a\"}</td>\n",
       "      <td>{'description': '', 'address1': '270 Lafayette...</td>\n",
       "      <td>{'type': 'Point', 'coordinates': [-73.9964312,...</td>\n",
       "      <td>success</td>\n",
       "    </tr>\n",
       "  </tbody>\n",
       "</table>\n",
       "</div>"
      ],
      "text/plain": [
       "                                    _id  \\\n",
       "0  {\"$oid\": \"52cdef7c4bab8bd675297d8b\"}   \n",
       "1  {\"$oid\": \"52cdef7c4bab8bd675297d92\"}   \n",
       "2  {\"$oid\": \"52cdef7c4bab8bd675297d8c\"}   \n",
       "3  {\"$oid\": \"52cdef7c4bab8bd675297d8a\"}   \n",
       "3  {\"$oid\": \"52cdef7c4bab8bd675297d8a\"}   \n",
       "\n",
       "                                             offices  \\\n",
       "0  {'description': 'Headquarters', 'address1': '4...   \n",
       "1  {'description': None, 'address1': '8536 Nation...   \n",
       "2  {'description': 'Headquarters', 'address1': '4...   \n",
       "3  {'description': '', 'address1': '710 - 2nd Ave...   \n",
       "3  {'description': '', 'address1': '270 Lafayette...   \n",
       "\n",
       "                                              office    state  \n",
       "0  {'type': 'Point', 'coordinates': [-121.904945,...  success  \n",
       "1  {'type': 'Point', 'coordinates': [-118.379768,...  success  \n",
       "2  {'type': 'Point', 'coordinates': [-121.904945,...  success  \n",
       "3  {'type': 'Point', 'coordinates': [-122.333253,...  success  \n",
       "3  {'type': 'Point', 'coordinates': [-73.9964312,...  success  "
      ]
     },
     "metadata": {},
     "output_type": "display_data"
    },
    {
     "data": {
      "text/plain": [
       "(16705, 4)"
      ]
     },
     "metadata": {},
     "output_type": "display_data"
    }
   ],
   "source": [
    "company_processed = pd.concat([df,cleaned_offices], axis=1)\n",
    "display(company_processed.head(),company_processed.shape)"
   ]
  },
  {
   "cell_type": "code",
   "execution_count": 39,
   "metadata": {},
   "outputs": [
    {
     "data": {
      "text/html": [
       "<div>\n",
       "<style scoped>\n",
       "    .dataframe tbody tr th:only-of-type {\n",
       "        vertical-align: middle;\n",
       "    }\n",
       "\n",
       "    .dataframe tbody tr th {\n",
       "        vertical-align: top;\n",
       "    }\n",
       "\n",
       "    .dataframe thead th {\n",
       "        text-align: right;\n",
       "    }\n",
       "</style>\n",
       "<table border=\"1\" class=\"dataframe\">\n",
       "  <thead>\n",
       "    <tr style=\"text-align: right;\">\n",
       "      <th></th>\n",
       "      <th>_id</th>\n",
       "      <th>office</th>\n",
       "      <th>state</th>\n",
       "    </tr>\n",
       "  </thead>\n",
       "  <tbody>\n",
       "    <tr>\n",
       "      <th>0</th>\n",
       "      <td>{\"$oid\": \"52cdef7c4bab8bd675297d8b\"}</td>\n",
       "      <td>{'type': 'Point', 'coordinates': [-121.904945,...</td>\n",
       "      <td>success</td>\n",
       "    </tr>\n",
       "    <tr>\n",
       "      <th>1</th>\n",
       "      <td>{\"$oid\": \"52cdef7c4bab8bd675297d92\"}</td>\n",
       "      <td>{'type': 'Point', 'coordinates': [-118.379768,...</td>\n",
       "      <td>success</td>\n",
       "    </tr>\n",
       "    <tr>\n",
       "      <th>2</th>\n",
       "      <td>{\"$oid\": \"52cdef7c4bab8bd675297d8c\"}</td>\n",
       "      <td>{'type': 'Point', 'coordinates': [-121.904945,...</td>\n",
       "      <td>success</td>\n",
       "    </tr>\n",
       "    <tr>\n",
       "      <th>3</th>\n",
       "      <td>{\"$oid\": \"52cdef7c4bab8bd675297d8a\"}</td>\n",
       "      <td>{'type': 'Point', 'coordinates': [-122.333253,...</td>\n",
       "      <td>success</td>\n",
       "    </tr>\n",
       "    <tr>\n",
       "      <th>3</th>\n",
       "      <td>{\"$oid\": \"52cdef7c4bab8bd675297d8a\"}</td>\n",
       "      <td>{'type': 'Point', 'coordinates': [-73.9964312,...</td>\n",
       "      <td>success</td>\n",
       "    </tr>\n",
       "  </tbody>\n",
       "</table>\n",
       "</div>"
      ],
      "text/plain": [
       "                                    _id  \\\n",
       "0  {\"$oid\": \"52cdef7c4bab8bd675297d8b\"}   \n",
       "1  {\"$oid\": \"52cdef7c4bab8bd675297d92\"}   \n",
       "2  {\"$oid\": \"52cdef7c4bab8bd675297d8c\"}   \n",
       "3  {\"$oid\": \"52cdef7c4bab8bd675297d8a\"}   \n",
       "3  {\"$oid\": \"52cdef7c4bab8bd675297d8a\"}   \n",
       "\n",
       "                                              office    state  \n",
       "0  {'type': 'Point', 'coordinates': [-121.904945,...  success  \n",
       "1  {'type': 'Point', 'coordinates': [-118.379768,...  success  \n",
       "2  {'type': 'Point', 'coordinates': [-121.904945,...  success  \n",
       "3  {'type': 'Point', 'coordinates': [-122.333253,...  success  \n",
       "3  {'type': 'Point', 'coordinates': [-73.9964312,...  success  "
      ]
     },
     "metadata": {},
     "output_type": "display_data"
    },
    {
     "data": {
      "text/plain": [
       "(16705, 3)"
      ]
     },
     "metadata": {},
     "output_type": "display_data"
    }
   ],
   "source": [
    "GeoCompanies = company_processed.drop(columns=\"offices\")\n",
    "display(GeoCompanies.head(),GeoCompanies.shape)"
   ]
  },
  {
   "cell_type": "code",
   "execution_count": 41,
   "metadata": {},
   "outputs": [
    {
     "data": {
      "text/plain": [
       "(16705, 2)"
      ]
     },
     "execution_count": 41,
     "metadata": {},
     "output_type": "execute_result"
    }
   ],
   "source": [
    "geo2 = GeoCompanies.drop(columns=\"_id\")\n",
    "geo2.shape"
   ]
  },
  {
   "cell_type": "code",
   "execution_count": 42,
   "metadata": {},
   "outputs": [],
   "source": [
    "# Export as json to do mongodb import\n",
    "# $ mongoimport --db datamad0320 --collection companies_prepared --jsonArray companies_clean.json\n",
    "geo2.to_json(\"../output/geocompanies.json\",orient=\"records\")"
   ]
  },
  {
   "cell_type": "code",
   "execution_count": null,
   "metadata": {},
   "outputs": [],
   "source": []
  },
  {
   "cell_type": "code",
   "execution_count": null,
   "metadata": {},
   "outputs": [],
   "source": []
  }
 ],
 "metadata": {
  "kernelspec": {
   "display_name": "Python 3",
   "language": "python",
   "name": "python3"
  },
  "language_info": {
   "codemirror_mode": {
    "name": "ipython",
    "version": 3
   },
   "file_extension": ".py",
   "mimetype": "text/x-python",
   "name": "python",
   "nbconvert_exporter": "python",
   "pygments_lexer": "ipython3",
   "version": "3.7.5"
  }
 },
 "nbformat": 4,
 "nbformat_minor": 4
}
